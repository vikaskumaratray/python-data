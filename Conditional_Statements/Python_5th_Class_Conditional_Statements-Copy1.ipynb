{
 "cells": [
  {
   "cell_type": "markdown",
   "id": "17b09dc1",
   "metadata": {
    "id": "17b09dc1"
   },
   "source": [
    "### Conditional Statements"
   ]
  },
  {
   "cell_type": "markdown",
   "id": "a75d0f76",
   "metadata": {
    "id": "a75d0f76"
   },
   "source": [
    "1) Conditional Statements are used to check one or multiple conditions.<br>\n",
    "2) For conditional statements, for and while loop, functions, class etc, we use indentation(1 tab space)"
   ]
  },
  {
   "cell_type": "markdown",
   "id": "b1c7c599",
   "metadata": {
    "id": "b1c7c599"
   },
   "source": [
    "#### a) if"
   ]
  },
  {
   "cell_type": "code",
   "execution_count": 2,
   "id": "607c4da0-3df8-46f0-a3e4-5bc3a1c96025",
   "metadata": {},
   "outputs": [
    {
     "name": "stdout",
     "output_type": "stream",
     "text": [
      "good sales\n"
     ]
    }
   ],
   "source": [
    "sales = 14000\n",
    "if(sales>= 14000):\n",
    "    print(\"good sales\")\n",
    "else:\n",
    "    print(\"bad sales\")\n"
   ]
  },
  {
   "cell_type": "code",
   "execution_count": 18,
   "id": "2d0f0bc8-1450-4448-ab65-3b859771a87d",
   "metadata": {},
   "outputs": [
    {
     "name": "stdout",
     "output_type": "stream",
     "text": [
      "num3 is not greater\n"
     ]
    }
   ],
   "source": []
  },
  {
   "cell_type": "code",
   "execution_count": 3,
   "id": "cdf9f34b",
   "metadata": {
    "id": "cdf9f34b",
    "outputId": "676968b2-bf77-4e50-9054-d5deb91b6aac"
   },
   "outputs": [
    {
     "name": "stdout",
     "output_type": "stream",
     "text": [
      "20 is div by 5\n"
     ]
    }
   ],
   "source": [
    "n = 20\n",
    "if n%5==0 :\n",
    "    print(n,'is div by 5')"
   ]
  },
  {
   "cell_type": "code",
   "execution_count": null,
   "id": "c19953f1-f8bf-4505-96bb-b149971fea14",
   "metadata": {},
   "outputs": [],
   "source": [
    "# even & odd program"
   ]
  },
  {
   "cell_type": "code",
   "execution_count": 11,
   "id": "caeca2a0-9080-4e4f-a085-ca42e065ff2b",
   "metadata": {},
   "outputs": [
    {
     "name": "stdin",
     "output_type": "stream",
     "text": [
      "enter the value 137\n"
     ]
    },
    {
     "name": "stdout",
     "output_type": "stream",
     "text": [
      "odd value\n"
     ]
    }
   ],
   "source": [
    "num = int(input(\"enter the value\"))\n",
    "if num%2==0:\n",
    "    print(\"even value\")\n",
    "else:\n",
    "    print(\"odd value\")"
   ]
  },
  {
   "cell_type": "code",
   "execution_count": null,
   "id": "e1df1dee-058d-4a82-90ef-c6073c664d7d",
   "metadata": {},
   "outputs": [],
   "source": []
  },
  {
   "cell_type": "code",
   "execution_count": null,
   "id": "afe1f9ee-1512-4bc6-b8df-603631ea5447",
   "metadata": {},
   "outputs": [],
   "source": []
  },
  {
   "cell_type": "code",
   "execution_count": null,
   "id": "65b351ed",
   "metadata": {},
   "outputs": [],
   "source": [
    "# ; => semicolon\n",
    "# : => colon"
   ]
  },
  {
   "cell_type": "code",
   "execution_count": 4,
   "id": "be90d10c",
   "metadata": {},
   "outputs": [],
   "source": [
    "n = 32\n",
    "if n%5==0 :  # condition is False\n",
    "    print(n,'is div by 5')"
   ]
  },
  {
   "cell_type": "code",
   "execution_count": 3,
   "id": "02f9f577-a864-4553-b270-35628d047b4e",
   "metadata": {},
   "outputs": [
    {
     "name": "stdin",
     "output_type": "stream",
     "text": [
      "enter your age :-  17\n"
     ]
    },
    {
     "name": "stdout",
     "output_type": "stream",
     "text": [
      "you can't vote\n"
     ]
    }
   ],
   "source": [
    "age = int(input(\"enter your age :- \"))\n",
    "if(age >=18):\n",
    "    print(\"you can vote\")\n",
    "else:\n",
    "    print(\"you can't vote\")"
   ]
  },
  {
   "cell_type": "code",
   "execution_count": null,
   "id": "a5af42a2-0ef8-427e-aa59-7c23a1582cae",
   "metadata": {},
   "outputs": [],
   "source": [
    "# person will be graduate\n",
    "# person will be greater then 17y"
   ]
  },
  {
   "cell_type": "code",
   "execution_count": 8,
   "id": "80a9e814-bad7-494b-8940-61d1bec6a00a",
   "metadata": {},
   "outputs": [
    {
     "name": "stdin",
     "output_type": "stream",
     "text": [
      "enter your age:-  18\n",
      "enter your education  grad\n"
     ]
    },
    {
     "name": "stdout",
     "output_type": "stream",
     "text": [
      "you can vote\n"
     ]
    }
   ],
   "source": [
    "age = int(input(\"enter your age:- \"))\n",
    "edu = input(\"enter your education \")\n",
    "if(age>17 and edu == \"grad\"): \n",
    "    print(\"you can vote\")\n",
    "else:\n",
    "    print(\"you can't vote\")"
   ]
  },
  {
   "cell_type": "code",
   "execution_count": 9,
   "id": "eeb8a58d-313b-43c8-9c9c-97c18bba5223",
   "metadata": {},
   "outputs": [
    {
     "name": "stdin",
     "output_type": "stream",
     "text": [
      "enter your age:-  17\n",
      "enter your education  grad\n"
     ]
    },
    {
     "name": "stdout",
     "output_type": "stream",
     "text": [
      "you can vote\n"
     ]
    }
   ],
   "source": [
    "age = int(input(\"enter your age:- \"))\n",
    "edu = input(\"enter your education \")\n",
    "if(age>17 or edu == \"grad\"): \n",
    "    print(\"you can vote\")\n",
    "else:\n",
    "    print(\"you can't vote\")"
   ]
  },
  {
   "cell_type": "code",
   "execution_count": null,
   "id": "5c89044f-e913-4138-8a6b-4dae6c00bbf6",
   "metadata": {},
   "outputs": [],
   "source": [
    "\n",
    "'''company = imarticus\n",
    "id = 121\n",
    "password = 2323\n",
    "login\n",
    "else check your password\n",
    "\n",
    "'''"
   ]
  },
  {
   "cell_type": "code",
   "execution_count": null,
   "id": "200f7209-716a-4dd5-90e3-80d86a7639fe",
   "metadata": {},
   "outputs": [],
   "source": []
  },
  {
   "cell_type": "code",
   "execution_count": null,
   "id": "54a9d85c-c766-4d5f-8115-74b21f4209ae",
   "metadata": {},
   "outputs": [],
   "source": []
  },
  {
   "cell_type": "code",
   "execution_count": null,
   "id": "52321ce4-3d73-43d0-adcb-a8c8a826a11e",
   "metadata": {},
   "outputs": [],
   "source": []
  },
  {
   "cell_type": "code",
   "execution_count": null,
   "id": "e29f0ca1-d81a-44b8-a80e-422b55cac052",
   "metadata": {},
   "outputs": [],
   "source": []
  },
  {
   "cell_type": "code",
   "execution_count": null,
   "id": "0bb0aec8-6ccc-4981-91b5-1973780c89a3",
   "metadata": {},
   "outputs": [],
   "source": []
  },
  {
   "cell_type": "markdown",
   "id": "00a65752",
   "metadata": {
    "id": "00a65752"
   },
   "source": [
    "#### b) if-else\n",
    "Used to check 2 conditions"
   ]
  },
  {
   "cell_type": "code",
   "execution_count": 5,
   "id": "6e0fcad8",
   "metadata": {},
   "outputs": [
    {
     "name": "stdout",
     "output_type": "stream",
     "text": [
      "77 is not div by 3\n"
     ]
    }
   ],
   "source": [
    "n = 77\n",
    "if n%3==0 :\n",
    "    print(n,'is div by 3')\n",
    "else :\n",
    "    print(n,'is not div by 3')"
   ]
  },
  {
   "cell_type": "markdown",
   "id": "3a7d4bde",
   "metadata": {
    "id": "3a7d4bde"
   },
   "source": [
    "#### c) if-elif\n",
    "Used to check multiple conditions"
   ]
  },
  {
   "cell_type": "code",
   "execution_count": 18,
   "id": "89f45c2f-0d53-4f5f-9272-e10b5b2e45f2",
   "metadata": {},
   "outputs": [
    {
     "name": "stdin",
     "output_type": "stream",
     "text": [
      "enter your age :-  3\n"
     ]
    },
    {
     "name": "stdout",
     "output_type": "stream",
     "text": [
      "no fare\n"
     ]
    }
   ],
   "source": [
    "age = int(input(\"enter your age :- \"))\n",
    "if( 0< age <=3):\n",
    "    print(\"no fare\")\n",
    "elif(3< age <5):\n",
    "    print(\"bus fare is 15\")\n",
    "else:\n",
    "    print(\"bus fare is 30\")"
   ]
  },
  {
   "cell_type": "code",
   "execution_count": 21,
   "id": "60579b5a-7341-4ed2-98fd-1cc8e57ac788",
   "metadata": {},
   "outputs": [
    {
     "name": "stdin",
     "output_type": "stream",
     "text": [
      "enter the sales 7000\n"
     ]
    },
    {
     "name": "stdout",
     "output_type": "stream",
     "text": [
      "bad sales\n"
     ]
    }
   ],
   "source": [
    "sales = int(input(\"enter the sales\"))\n",
    "if sales>15000:\n",
    "    print(\"good sales\")\n",
    "elif sales>12000:\n",
    "    print(\"avg sales\")\n",
    "elif sales>8000:\n",
    "    print(\"below avg sales\")\n",
    "else:\n",
    "    print(\"bad sales\")"
   ]
  },
  {
   "cell_type": "code",
   "execution_count": null,
   "id": "4834a329-5ab8-4f3d-9bba-10f75b799752",
   "metadata": {},
   "outputs": [],
   "source": [
    "# user name :- prachi\n",
    "# password 122\n",
    "# password 53545 second password login\n",
    "# password 89979 third password login\n",
    "# password 12312 4th password login\n",
    "# login\n",
    "# not login\n",
    "\n"
   ]
  },
  {
   "cell_type": "code",
   "execution_count": null,
   "id": "7e9c1fbe-6d74-4d67-a157-ec0a004b1d43",
   "metadata": {},
   "outputs": [],
   "source": []
  },
  {
   "cell_type": "code",
   "execution_count": null,
   "id": "d312deea-d8d0-4208-813a-3c079d392cc3",
   "metadata": {},
   "outputs": [],
   "source": []
  },
  {
   "cell_type": "code",
   "execution_count": null,
   "id": "926d7bc6-6eed-45bc-ac1c-37b267172a93",
   "metadata": {},
   "outputs": [],
   "source": []
  },
  {
   "cell_type": "code",
   "execution_count": null,
   "id": "3d860842-d508-4a00-942d-3d1f5d2dfde4",
   "metadata": {},
   "outputs": [],
   "source": []
  },
  {
   "cell_type": "code",
   "execution_count": null,
   "id": "56c3f8f1-78df-42f0-b40a-97593aa2833e",
   "metadata": {},
   "outputs": [],
   "source": []
  },
  {
   "cell_type": "code",
   "execution_count": null,
   "id": "8430189e-977e-4ae4-a734-19d505761933",
   "metadata": {},
   "outputs": [],
   "source": []
  },
  {
   "cell_type": "code",
   "execution_count": 23,
   "id": "5d6f6c73",
   "metadata": {
    "id": "5d6f6c73",
    "outputId": "b82a4bb5-dbed-4806-aa73-5bb85f7d38a1"
   },
   "outputs": [
    {
     "name": "stdin",
     "output_type": "stream",
     "text": [
      "enter the course name -  Java\n"
     ]
    },
    {
     "name": "stdout",
     "output_type": "stream",
     "text": [
      "Java\n"
     ]
    }
   ],
   "source": [
    "sub = input(\"enter the course name - \")\n",
    "if sub == \"Java\":\n",
    "    print('Java')\n",
    "elif sub == \"C++\":\n",
    "    print('C++')\n",
    "elif sub == \"Python\":\n",
    "    print('Python')\n",
    "elif sub == \"Ruby\":\n",
    "    print('Ruby')\n",
    "elif sub == \"Python\":\n",
    "    print('Data Science')"
   ]
  },
  {
   "cell_type": "markdown",
   "id": "d7a341c1",
   "metadata": {
    "id": "d7a341c1"
   },
   "source": [
    "#### d) if-elif-else"
   ]
  },
  {
   "cell_type": "code",
   "execution_count": 7,
   "id": "95dd7d67",
   "metadata": {
    "id": "95dd7d67",
    "outputId": "9706383e-0970-4161-b410-91631981ec4f"
   },
   "outputs": [
    {
     "name": "stdin",
     "output_type": "stream",
     "text": [
      " Java\n"
     ]
    },
    {
     "name": "stdout",
     "output_type": "stream",
     "text": [
      "Java\n"
     ]
    }
   ],
   "source": [
    "sub = input()\n",
    "if sub == \"Java\":\n",
    "    print('Java')\n",
    "elif sub == \"Python\":\n",
    "    print('Python')\n",
    "elif sub == \"Rust\":\n",
    "    print('Rust')\n",
    "elif sub == \"Ruby\":\n",
    "    print('Ruby')\n",
    "else:\n",
    "    print('None')"
   ]
  },
  {
   "cell_type": "code",
   "execution_count": 6,
   "id": "8e8dca46",
   "metadata": {},
   "outputs": [
    {
     "name": "stdout",
     "output_type": "stream",
     "text": [
      "Acc 3 valid\n"
     ]
    }
   ],
   "source": [
    "acc = 587698436536\n",
    "if acc == 768455432342:\n",
    "    print('Acc 1 valid')\n",
    "elif acc ==577982143546:\n",
    "    print('Acc 2 valid')\n",
    "elif acc == 587698436536:\n",
    "    print('Acc 3 valid')\n",
    "elif acc == 325436323524:\n",
    "    print('Acc 4 valid')\n",
    "else:\n",
    "    print('None')"
   ]
  },
  {
   "cell_type": "markdown",
   "id": "2a346e8d",
   "metadata": {},
   "source": [
    "#### Ternary Operator \n",
    "One liner if - else"
   ]
  },
  {
   "cell_type": "code",
   "execution_count": 78,
   "id": "a0695f06",
   "metadata": {},
   "outputs": [
    {
     "name": "stdin",
     "output_type": "stream",
     "text": [
      "enter the value -  12\n"
     ]
    },
    {
     "name": "stdout",
     "output_type": "stream",
     "text": [
      "Even\n"
     ]
    }
   ],
   "source": [
    "x = int(input(\"enter the value - \"))\n",
    "res = \"Even\" if x%2==0 else \"Odd\"\n",
    "print(res)"
   ]
  },
  {
   "cell_type": "code",
   "execution_count": 29,
   "id": "bfaa63e6",
   "metadata": {},
   "outputs": [
    {
     "name": "stdin",
     "output_type": "stream",
     "text": [
      " 20\n"
     ]
    },
    {
     "name": "stdout",
     "output_type": "stream",
     "text": [
      "Div by 5\n"
     ]
    }
   ],
   "source": [
    "n = int(input())\n",
    "n2 = \"Div by 3\" if n%3==0 else ('Div by 5' if n%5==0 else \"Not div by 5\")\n",
    "print(n2)"
   ]
  },
  {
   "cell_type": "markdown",
   "id": "978886a2",
   "metadata": {},
   "source": [
    "#### Nested - if\n",
    "if-elif-else inside another if-elif-else statement"
   ]
  },
  {
   "cell_type": "code",
   "execution_count": 19,
   "id": "be2f9998-cb1f-4895-af49-11d497d7d8ad",
   "metadata": {},
   "outputs": [
    {
     "name": "stdout",
     "output_type": "stream",
     "text": [
      "num3 is not greater\n"
     ]
    }
   ],
   "source": [
    "#num1 = int(input(\"enter num1 value \"))\n",
    "#num2 = int(input(\"enter num2 value \"))\n",
    "#num3 = int(input(\"enter num3 value \"))\n",
    "\n",
    "if(25>27):\n",
    "    print(\"num1 is greater: \",num1)\n",
    "else:\n",
    "    if(9>26):\n",
    "        print(\"num3 is greater \", num3)\n",
    "    else:\n",
    "        print(\"num3 is not greater\")\n",
    "    "
   ]
  },
  {
   "cell_type": "code",
   "execution_count": 9,
   "id": "4998413b",
   "metadata": {},
   "outputs": [
    {
     "name": "stdin",
     "output_type": "stream",
     "text": [
      " 15\n"
     ]
    },
    {
     "name": "stdout",
     "output_type": "stream",
     "text": [
      "15 is div by both 3 and 5\n"
     ]
    }
   ],
   "source": [
    "m = int(input())\n",
    "if m%3==0 :\n",
    "    if m%5==0 : \n",
    "        print(m,'is div by both 3 and 5')\n",
    "    else:\n",
    "        print(m,'is not div by 5 but div by 3')\n",
    "else:\n",
    "    print(m,'is not div by 3')"
   ]
  },
  {
   "cell_type": "code",
   "execution_count": 12,
   "id": "d4bd98bc-0b01-4b3d-8a07-18924e97a0d5",
   "metadata": {},
   "outputs": [
    {
     "name": "stdin",
     "output_type": "stream",
     "text": [
      "enter domain it\n",
      " enter user name imarticus\n",
      " enter your password 123\n"
     ]
    },
    {
     "name": "stdout",
     "output_type": "stream",
     "text": [
      "the user name and password is incorrect\n"
     ]
    }
   ],
   "source": [
    "domain = input(\"enter domain\")\n",
    "un = input(\" enter user name\")\n",
    "pwd = int(input(\" enter your password\"))\n",
    "if(domain == \"non it\"):\n",
    "    print(\"user name is : \",un)\n",
    "else:\n",
    "    if(un == \"imarticus\") and (pwd == 12345):\n",
    "        print(\"You can login:-\", \"user name:- \",un,\"password:- \",pwd)\n",
    "    else:\n",
    "        print(\"the user name and password is incorrect\")"
   ]
  },
  {
   "cell_type": "code",
   "execution_count": 25,
   "id": "c14c7bbc-7647-42a4-b4e2-a08f60959f52",
   "metadata": {},
   "outputs": [
    {
     "name": "stdin",
     "output_type": "stream",
     "text": [
      " enter user name imar\n",
      " enter your password 343\n"
     ]
    },
    {
     "name": "stdout",
     "output_type": "stream",
     "text": [
      "user name incorrect\n"
     ]
    }
   ],
   "source": [
    "un = input(\" enter user name\")\n",
    "pwd = int(input(\" enter your password\"))\n",
    "if(un==\"imarticus\"):\n",
    "    if(pwd==12345):\n",
    "        print(\"you can login\")\n",
    "    else:\n",
    "        print(\"incorrect password\")\n",
    "else:\n",
    "    print(\"user name incorrect\")"
   ]
  },
  {
   "cell_type": "markdown",
   "id": "1caa2de1-3f62-4e7d-8c57-fad2e689700b",
   "metadata": {},
   "source": [
    "# List Comprehension"
   ]
  },
  {
   "cell_type": "code",
   "execution_count": 60,
   "id": "4ae335be-cd9b-406a-9e66-e4128a0efaa5",
   "metadata": {},
   "outputs": [
    {
     "name": "stdout",
     "output_type": "stream",
     "text": [
      "['apple', 'banana', 'mango']\n"
     ]
    }
   ],
   "source": [
    "fruits = [\"apple\", \"banana\", \"cherry\", \"kiwi\", \"mango\"]\n",
    "vow = \"a\"\n",
    "newlist = [x for x in fruits if vow in x]\n",
    "\n",
    "print(newlist)"
   ]
  },
  {
   "cell_type": "markdown",
   "id": "44b664a8-0816-4c2f-81d2-c9b5ce71a05c",
   "metadata": {},
   "source": [
    "### Only accept items that are not \"apple\":"
   ]
  },
  {
   "cell_type": "code",
   "execution_count": 29,
   "id": "fc381b6d-0df3-47ae-ae82-13c8495affec",
   "metadata": {},
   "outputs": [
    {
     "data": {
      "text/plain": [
       "['banana', 'cherry', 'kiwi', 'mango']"
      ]
     },
     "execution_count": 29,
     "metadata": {},
     "output_type": "execute_result"
    }
   ],
   "source": [
    "newlist1 = [x for x in fruits if x != \"apple\"]\n",
    "newlist1"
   ]
  },
  {
   "cell_type": "code",
   "execution_count": 33,
   "id": "ad44fe37-799c-46c7-89b4-f97446f0a7c1",
   "metadata": {},
   "outputs": [
    {
     "data": {
      "text/plain": [
       "[2, 4, 6, 8, 10, 12, 14, 16, 18, 20]"
      ]
     },
     "execution_count": 33,
     "metadata": {},
     "output_type": "execute_result"
    }
   ],
   "source": [
    "newlts = [x for x in range(2,21,2)]\n",
    "newlts"
   ]
  },
  {
   "cell_type": "markdown",
   "id": "5642483d-de88-4549-bdbf-f00de4cbe480",
   "metadata": {},
   "source": [
    "# Square the all elements of the list"
   ]
  },
  {
   "cell_type": "code",
   "execution_count": 39,
   "id": "66a53bd6-ce2f-4c5f-804c-232bc9dcd3c4",
   "metadata": {},
   "outputs": [
    {
     "name": "stdout",
     "output_type": "stream",
     "text": [
      "[1, 16, 81, 256, 625]\n"
     ]
    }
   ],
   "source": [
    "numbers = [1, 2, 3, 4, 5]\n",
    "\n",
    "# create a new list using list comprehension\n",
    "square_numbers = [num **4 for num in numbers]\n",
    "\n",
    "print(square_numbers)\n",
    "\n",
    "# Output: [1, 4, 9, 16, 25]"
   ]
  },
  {
   "cell_type": "markdown",
   "id": "ef1cc07e-1935-4f00-88be-94dcc538da39",
   "metadata": {},
   "source": [
    "# Find the Event & Odd Values from list using list comprehension"
   ]
  },
  {
   "cell_type": "code",
   "execution_count": 41,
   "id": "33149dee-3719-4704-a87f-c14b1677dbce",
   "metadata": {},
   "outputs": [
    {
     "name": "stdout",
     "output_type": "stream",
     "text": [
      "even number:-  [2, 4, 6, 8]\n",
      "odd number:-  [1, 3, 5, 7, 9]\n"
     ]
    }
   ],
   "source": [
    "# filtering even numbers from a list\n",
    "even_numbers = [num for num in range(1, 10) if num % 2 == 0 ]\n",
    "odd_numbers = [num for num in range(1, 10) if num % 2 != 0 ]\n",
    "\n",
    "print('even number:- ',even_numbers)\n",
    "print('odd number:- ',odd_numbers)\n",
    "\n",
    "# Output: [2, 4, 6, 8]"
   ]
  },
  {
   "cell_type": "markdown",
   "id": "44837b47-f07b-47d8-a00b-2520e66306fb",
   "metadata": {},
   "source": [
    "# Find the Vowels from string using list comprehension"
   ]
  },
  {
   "cell_type": "code",
   "execution_count": 62,
   "id": "8ac5c66a-65fd-4928-aabb-e935c1c3083f",
   "metadata": {},
   "outputs": [
    {
     "name": "stdout",
     "output_type": "stream",
     "text": [
      "['o']\n"
     ]
    }
   ],
   "source": [
    "word = \"Python\"\n",
    "vowels = \"aeiou\"\n",
    "\n",
    "# find vowel in the string \"Python\"\n",
    "result = [x for x in word if x in vowels]\n",
    "\n",
    "print(result)\n",
    "\n",
    "# Output: ['o']"
   ]
  },
  {
   "cell_type": "markdown",
   "id": "48f99adc-8c8c-4f82-bde0-03149958209e",
   "metadata": {},
   "source": [
    "#### Populate an empty list"
   ]
  },
  {
   "cell_type": "markdown",
   "id": "b976c9e4-7bc6-4552-a084-a4d24e3bc2b8",
   "metadata": {},
   "source": [
    "#### Generate a list containing all even numbers between 30 and 50 (both inclusive)"
   ]
  },
  {
   "cell_type": "code",
   "execution_count": 72,
   "id": "900b04e8-7b5b-4cb4-a281-2b1ea2ed686f",
   "metadata": {},
   "outputs": [
    {
     "name": "stdout",
     "output_type": "stream",
     "text": [
      "[3, 6, 9, 12, 15, 18, 21, 24, 27, 30]\n"
     ]
    }
   ],
   "source": [
    "t = [] # empty list\n",
    "for i in range(3,31,3):  # start=31,end=51,step=+2\n",
    "    t.append(i)\n",
    "print(t)"
   ]
  },
  {
   "cell_type": "code",
   "execution_count": 69,
   "id": "7228f3a7-4bbf-4395-b55b-7b65c56e61a0",
   "metadata": {},
   "outputs": [
    {
     "data": {
      "text/plain": [
       "[]"
      ]
     },
     "execution_count": 69,
     "metadata": {},
     "output_type": "execute_result"
    }
   ],
   "source": [
    "t"
   ]
  },
  {
   "cell_type": "code",
   "execution_count": 73,
   "id": "4e533aa9-3afe-4c85-96bf-be81d1ecdda9",
   "metadata": {},
   "outputs": [
    {
     "data": {
      "text/plain": [
       "[3, 6, 9, 12, 15, 18, 21, 24, 27, 30]"
      ]
     },
     "execution_count": 73,
     "metadata": {},
     "output_type": "execute_result"
    }
   ],
   "source": [
    "t"
   ]
  },
  {
   "cell_type": "markdown",
   "id": "d02fb5e3-5cbb-4779-adeb-6f8f6a4467cc",
   "metadata": {},
   "source": [
    "# Assignment"
   ]
  },
  {
   "cell_type": "markdown",
   "id": "40d5c6a3-3619-4871-b8f7-9229c6b990f4",
   "metadata": {},
   "source": [
    "#### Q1) Seperate even and odd numbers from the below list. Store result in separate list.\n",
    "num = [7,12,5,15,8,10,18,3,20]\n",
    "\n",
    "#### Q2) Accept a list of Fruits from user(in lower case) and print even index fruits in upper case and odd index fruits in lower case.\n",
    "\n",
    "\n",
    "#### Q3) For the given list, find all the even elements present at the odd index. Store result in a list\n",
    "\n",
    "w = [24,57,78,25,83,95,24,80,21,20,24,27]\n",
    "\n",
    "#### Q4) Find all pair of 2 numbers whose sum when add becomes 20 from the given list\n",
    "w = [8,2,11,10,9,12,6,21,5,4]"
   ]
  },
  {
   "cell_type": "code",
   "execution_count": 1,
   "id": "02ba56cc-af40-4d43-887e-aca08f5914d7",
   "metadata": {},
   "outputs": [
    {
     "name": "stdout",
     "output_type": "stream",
     "text": [
      "Even [12, 8, 10, 18, 20]\n",
      "Odd [7, 5, 15, 3]\n"
     ]
    }
   ],
   "source": [
    "# Q1\n",
    "num = [7,12,5,15,8,10,18,3,20]\n",
    "even, odd = [],[]\n",
    "for i in num:\n",
    "    if i%2==0 :\n",
    "        even.append(i)\n",
    "    else:\n",
    "        odd.append(i)\n",
    "print('Even',even)\n",
    "print('Odd',odd)"
   ]
  },
  {
   "cell_type": "code",
   "execution_count": 2,
   "id": "1e923154-ffa4-4901-a1fb-d2f0cc7f4cac",
   "metadata": {},
   "outputs": [
    {
     "name": "stdout",
     "output_type": "stream",
     "text": [
      "MANGO\n",
      "apple\n",
      "AVACADO\n",
      "orange\n",
      "WATERMELON\n",
      "grapes\n"
     ]
    }
   ],
   "source": [
    "# Q2) \n",
    "fruits = ['mango','apple','avacado','orange','watermelon','grapes']\n",
    "for i in range(len(fruits)):\n",
    "    if i%2==0:\n",
    "        print(fruits[i].upper())\n",
    "    else:\n",
    "        print(fruits[i].lower())"
   ]
  },
  {
   "cell_type": "code",
   "execution_count": 84,
   "id": "945c2651-9af5-4f2a-9d53-cf4377abd6c3",
   "metadata": {},
   "outputs": [
    {
     "data": {
      "text/plain": [
       "['odd', 'Even', 'odd', 'Even', 'odd', 'Even', 'odd', 'Even', 'odd']"
      ]
     },
     "execution_count": 84,
     "metadata": {},
     "output_type": "execute_result"
    }
   ],
   "source": [
    "numbers = [1,2,3,4,5,6,7,8,9]\n",
    "res = ['Even' if num %2 ==0 else \"odd\" for num in numbers]\n",
    "res"
   ]
  },
  {
   "cell_type": "code",
   "execution_count": 85,
   "id": "3e93c4bc-9ae0-4a10-aca0-ebdf97dceb82",
   "metadata": {},
   "outputs": [
    {
     "name": "stdout",
     "output_type": "stream",
     "text": [
      "[80, 20]\n"
     ]
    }
   ],
   "source": [
    "# Q3) # find even elements at odd index\n",
    "w = [24,57,78,25,83,95,24,80,21,20,24,27]\n",
    "res =  []\n",
    "for i in range(len(w)):\n",
    "    if i%2!=0 :         # odd index\n",
    "        if w[i]%2==0 :  # even element/num\n",
    "            res.append(w[i])\n",
    "print(res)"
   ]
  },
  {
   "cell_type": "code",
   "execution_count": 4,
   "id": "55b906a0-ef5c-479c-bed7-0ddd04911a4c",
   "metadata": {},
   "outputs": [
    {
     "name": "stdout",
     "output_type": "stream",
     "text": [
      "i 1 j 1\n",
      "i 1 j 2\n",
      "i 1 j 3\n",
      "i 2 j 1\n",
      "i 2 j 2\n",
      "i 2 j 3\n",
      "i 3 j 1\n",
      "i 3 j 2\n",
      "i 3 j 3\n"
     ]
    }
   ],
   "source": [
    "for i in range(1,4):      # i = 1,2,3\n",
    "    for j in range(1,4):  # j =1,2,3\n",
    "        print('i',i,'j',j)"
   ]
  },
  {
   "cell_type": "code",
   "execution_count": 1,
   "id": "9c99c057-e7ba-48b1-ba9c-d5bc01fc456c",
   "metadata": {},
   "outputs": [
    {
     "name": "stdout",
     "output_type": "stream",
     "text": [
      "[(8, 12), (11, 9), (10, 10), (9, 11), (12, 8)]\n"
     ]
    }
   ],
   "source": [
    "#Q4)\n",
    "w = [8,2,11,10,9,12,6,21,5,4]\n",
    "sum20  = []\n",
    "for i in w:               \n",
    "    for j in w:\n",
    "        if i+j == 20:\n",
    "            sum20.append((i,j))\n",
    "print(sum20)"
   ]
  }
 ],
 "metadata": {
  "colab": {
   "provenance": []
  },
  "kernelspec": {
   "display_name": "Python 3 (ipykernel)",
   "language": "python",
   "name": "python3"
  },
  "language_info": {
   "codemirror_mode": {
    "name": "ipython",
    "version": 3
   },
   "file_extension": ".py",
   "mimetype": "text/x-python",
   "name": "python",
   "nbconvert_exporter": "python",
   "pygments_lexer": "ipython3",
   "version": "3.11.7"
  }
 },
 "nbformat": 4,
 "nbformat_minor": 5
}
