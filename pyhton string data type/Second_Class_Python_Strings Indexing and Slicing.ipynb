{
 "cells": [
  {
   "cell_type": "code",
   "execution_count": 5,
   "id": "21a46f31",
   "metadata": {},
   "outputs": [
    {
     "name": "stdout",
     "output_type": "stream",
     "text": [
      "Hello World\n",
      "<class 'str'>\n",
      "11\n"
     ]
    }
   ],
   "source": [
    "s = \"Hello World\"  \n",
    "print(s)\n",
    "print(type(s))\n",
    "print(len(s))"
   ]
  },
  {
   "cell_type": "markdown",
   "id": "970d14a6",
   "metadata": {},
   "source": [
    "### Indexing\n",
    "1) Every string, list, tuple elements are indexed by default.<br>\n",
    "<b>\n",
    "2) Indexes start from left to right from 0 towards positive<br>\n",
    "3) Indexes start from right to left from -1 towards negative<br></b>\n",
    "4) To fetch an element at a particular index, we mention the \n",
    "variable name followed by the corresponding index in the []\n",
    "\n",
    "Examples:<pre>\n",
    "    a = \"Python\"\n",
    "    a[2]\n",
    "    </pre>"
   ]
  },
  {
   "cell_type": "markdown",
   "id": "3e16bee1",
   "metadata": {},
   "source": [
    "#### Note\n",
    "<pre>\n",
    "1) Positive index range from 0 to len(str)-1.\n",
    "2) Negative indexes range from -1 to -len(str).\n",
    "</pre>"
   ]
  },
  {
   "cell_type": "code",
   "execution_count": 14,
   "id": "f3776049",
   "metadata": {},
   "outputs": [
    {
     "name": "stdout",
     "output_type": "stream",
     "text": [
      "Python String Slicing\n",
      "21\n"
     ]
    }
   ],
   "source": [
    "s = \"Python String Slicing\"\n",
    "print(s)\n",
    "print(len(s))"
   ]
  },
  {
   "cell_type": "markdown",
   "id": "bbf71e3a",
   "metadata": {},
   "source": [
    "<img src=\"str_idx_slicing.png\">"
   ]
  },
  {
   "cell_type": "code",
   "execution_count": 20,
   "id": "1e2cea2f",
   "metadata": {},
   "outputs": [
    {
     "name": "stdout",
     "output_type": "stream",
     "text": [
      "h r S\n",
      "i  \n",
      "P P\n",
      "t S\n",
      "g\n",
      "P\n"
     ]
    },
    {
     "ename": "IndexError",
     "evalue": "string index out of range",
     "output_type": "error",
     "traceback": [
      "\u001b[1;31m---------------------------------------------------------------------------\u001b[0m",
      "\u001b[1;31mIndexError\u001b[0m                                Traceback (most recent call last)",
      "Cell \u001b[1;32mIn[20], line 7\u001b[0m\n\u001b[0;32m      5\u001b[0m \u001b[38;5;28mprint\u001b[39m(s[\u001b[38;5;28mlen\u001b[39m(s)\u001b[38;5;241m-\u001b[39m\u001b[38;5;241m1\u001b[39m])\n\u001b[0;32m      6\u001b[0m \u001b[38;5;28mprint\u001b[39m(s[\u001b[38;5;241m-\u001b[39m\u001b[38;5;28mlen\u001b[39m(s)])\n\u001b[1;32m----> 7\u001b[0m \u001b[38;5;28mprint\u001b[39m(\u001b[43ms\u001b[49m\u001b[43m[\u001b[49m\u001b[38;5;241;43m35\u001b[39;49m\u001b[43m]\u001b[49m)\n",
      "\u001b[1;31mIndexError\u001b[0m: string index out of range"
     ]
    }
   ],
   "source": [
    "print(s[3],s[-12],s[14])\n",
    "print(s[10],s[6])\n",
    "print(s[-21],s[0])\n",
    "print(s[-13],s[7])\n",
    "print(s[len(s)-1])\n",
    "print(s[-len(s)])\n",
    "print(s[35])  # err"
   ]
  },
  {
   "cell_type": "markdown",
   "id": "e6525c29",
   "metadata": {},
   "source": [
    "### Slicing\n",
    "\n",
    "1) Slicing is extracting a part of a string,list or tuple <br>\n",
    "2) Slicing can be performed from left to right or right to left<br>\n",
    "\n",
    "Slicing syntax<br>\n",
    "a = \"Learning Python\"<br>\n",
    "a[start:end:step]\n",
    "\n",
    "<b>start :</b> specifies the index where slicing begins<br>\n",
    "<b>end :</b> specifies the index upto which the slicing is performed.<br>\n",
    "<b>step :</b> specifies the number of elements to skip/jump while slicing.\n",
    "    Its default value is +1<br>\n",
    "    "
   ]
  },
  {
   "cell_type": "markdown",
   "id": "07d11815",
   "metadata": {},
   "source": [
    "### Left to Right Slicing - a[start:end:step]\n",
    "\n",
    "1) If end is mentioned, slicing is perfomed till <b>end-1</b>, otherwise till len(s)-1 where s is the string to be sliced(extreme right end)<br>\n",
    "2) Default step value is +1(if not mentioned)<br>\n",
    "3) If start is not mentioned, its default value is 0<br>\n",
    "4) Step size will be positive for left or right slicing<br>"
   ]
  },
  {
   "cell_type": "markdown",
   "id": "63ac299f",
   "metadata": {},
   "source": [
    "<img src=\"str_idx_slicing.png\">"
   ]
  },
  {
   "cell_type": "code",
   "execution_count": 26,
   "id": "1d21c297",
   "metadata": {},
   "outputs": [
    {
     "name": "stdout",
     "output_type": "stream",
     "text": [
      "thon S\n",
      "hon String S\n",
      "Pytho\n",
      "g Slicing\n",
      "hon S\n",
      "Python Stri\n"
     ]
    }
   ],
   "source": [
    "print(s[2:8])   # start=2,end=8,step =+1\n",
    "print(s[3:15])  # start=3,end=15,step=+1\n",
    "print(s[:5])    # start=0,end=5,step=+1\n",
    "print(s[12:])   # start=12,end=,step=+1\n",
    "print(s[-18:-13])  # start=-18,end=-13,step=+1  # end-1 = -13-1 = -14\n",
    "print(s[:-10])   # start=0,end=-10,step=+1"
   ]
  },
  {
   "cell_type": "markdown",
   "id": "435cde05",
   "metadata": {},
   "source": [
    "<img src=\"str_idx_slicing.png\">"
   ]
  },
  {
   "cell_type": "code",
   "execution_count": 31,
   "id": "46a9b521",
   "metadata": {},
   "outputs": [
    {
     "name": "stdout",
     "output_type": "stream",
     "text": [
      "hnSrn l\n",
      "tntnS\n",
      "rn lc\n",
      "ynr c\n",
      "igSi\n"
     ]
    }
   ],
   "source": [
    "print(s[3:16:2])  # start=3,end=16,step=+2\n",
    "print(s[-19:17:3]) # start=-19,end=17,step=+3\n",
    "print(s[9:-3:2])   # start=9,end=-3,step=2\n",
    "print(s[-20:-2:4]) # start=-20 end=-2,step=+4\n",
    "print(s[10:-3:2])  # start=10,end=-3,step=2"
   ]
  },
  {
   "cell_type": "markdown",
   "id": "f3b998e7",
   "metadata": {},
   "source": [
    "### Right to Left Slicing - a[start:end:step]\n",
    "\n",
    "1) If end is mentioned, slicing is perfomed till <b>end+1</b>, otherwise till -len(s) where s is the string to be sliced(extreme left end)<br>\n",
    "2) Step size has to be explicitly mentioned in negative<br>\n",
    "3) Step size will be negative for right to left slicing<br>"
   ]
  },
  {
   "cell_type": "markdown",
   "id": "576bd6fc",
   "metadata": {},
   "source": [
    "<img src=\"str_idx_slicing.png\">"
   ]
  },
  {
   "cell_type": "code",
   "execution_count": 36,
   "id": "296fff77",
   "metadata": {},
   "outputs": [
    {
     "name": "stdout",
     "output_type": "stream",
     "text": [
      "\n",
      "gnirtS no\n",
      "l nrSn\n",
      " iSo\n",
      "nrSnh\n"
     ]
    }
   ],
   "source": [
    "print(s[12:3])  # start=12,end=3,step=+1  # no output\n",
    "print(s[12:3:-1])  #  start=12,end=3,step=-1\n",
    "print(s[-6:-18:-2]) # start=-6,end=-18,step=-2\n",
    "print(s[-8:1:-3])   # start=-8,end=1,step=-3\n",
    "print(s[11:-19:-2])  # "
   ]
  },
  {
   "cell_type": "markdown",
   "id": "7b3a7474",
   "metadata": {},
   "source": [
    "<img src=\"str_idx_slicing.png\">"
   ]
  },
  {
   "cell_type": "code",
   "execution_count": 38,
   "id": "c6bcbbe0",
   "metadata": {},
   "outputs": [
    {
     "name": "stdout",
     "output_type": "stream",
     "text": [
      "\n",
      "\n"
     ]
    }
   ],
   "source": [
    "print(s[4:-4:-3])    # start=4,end=-4,step=-3  # no output\n",
    "print(s[17:-20:3])    # no output"
   ]
  },
  {
   "cell_type": "markdown",
   "id": "335c1831",
   "metadata": {},
   "source": [
    "#### Note\n",
    "1) If start:end and step are in opposite direction, there will be no output"
   ]
  },
  {
   "cell_type": "markdown",
   "id": "5717f9f2",
   "metadata": {},
   "source": [
    "#### Special case\n",
    "<pre>\n",
    "1) If start and/or end is absent and step is present,slicing direction is goverend by step size\n",
    "2) Note\n",
    "    a) if step size = positive => left to right Slicing\n",
    "    b) if step size = negative => right to left Slicing\n",
    "</pre>    "
   ]
  },
  {
   "cell_type": "markdown",
   "id": "102605e9",
   "metadata": {},
   "source": [
    "#### 1) When start is absent, end and step are present"
   ]
  },
  {
   "cell_type": "markdown",
   "id": "dd1af922",
   "metadata": {},
   "source": [
    "<img src=\"str_idx_slicing.png\">"
   ]
  },
  {
   "cell_type": "code",
   "execution_count": 43,
   "id": "429101d8",
   "metadata": {},
   "outputs": [
    {
     "name": "stdout",
     "output_type": "stream",
     "text": [
      "Ph \n",
      "gcSn\n",
      "giiS\n",
      "Pto t\n"
     ]
    }
   ],
   "source": [
    "print(s[:8:3])  # start=0, end=8,step=+3\n",
    "print(s[:10:-3])  # start=,end=10,step=-3\n",
    "print(s[:-9:-2])  # end=-9,step=-2\n",
    "print(s[:-11:2])  # start=0,end=-11,step=2"
   ]
  },
  {
   "cell_type": "markdown",
   "id": "0bd0dafc",
   "metadata": {},
   "source": [
    "#### 2) When end is absent, start and step are present"
   ]
  },
  {
   "cell_type": "markdown",
   "id": "6de98c89",
   "metadata": {},
   "source": [
    "<img src=\"str_idx_slicing.png\">"
   ]
  },
  {
   "cell_type": "code",
   "execution_count": 47,
   "id": "a7d896ed",
   "metadata": {},
   "outputs": [
    {
     "name": "stdout",
     "output_type": "stream",
     "text": [
      "o tigSiig\n",
      "iSoy\n",
      "rgli\n",
      "iSoy\n"
     ]
    }
   ],
   "source": [
    "print(s[4::2])     # start=4,step=+2\n",
    "print(s[-11::-3])  \n",
    "print(s[-12::3])   \n",
    "print(s[10::-3])   "
   ]
  },
  {
   "cell_type": "markdown",
   "id": "bdc22d1d",
   "metadata": {},
   "source": [
    "#### 3) When start and end both are absent,step is present"
   ]
  },
  {
   "cell_type": "markdown",
   "id": "1645b332",
   "metadata": {},
   "source": [
    "<img src=\"str_idx_slicing.png\">"
   ]
  },
  {
   "cell_type": "code",
   "execution_count": 51,
   "id": "8a8fe0a3",
   "metadata": {},
   "outputs": [
    {
     "name": "stdout",
     "output_type": "stream",
     "text": [
      "Pto tigSiig\n",
      "gnicilS gnirtS nohtyP\n",
      "Python String Slicing\n",
      "Python String Slicing\n"
     ]
    }
   ],
   "source": [
    "print(s[::2])  #  left to right\n",
    "print(s[::-1]) # reverse the string \n",
    "print(s[:])    #  start=0,step=+1 \n",
    "print(s[::])   #  start=0,step=+1 "
   ]
  },
  {
   "cell_type": "code",
   "execution_count": 55,
   "id": "91f613b1",
   "metadata": {},
   "outputs": [
    {
     "name": "stdout",
     "output_type": "stream",
     "text": [
      "Python String Slicing\n",
      "21\n"
     ]
    }
   ],
   "source": [
    "print(s[:len(s)])   # end=len(s) = 21\n",
    "print(len(s))"
   ]
  },
  {
   "cell_type": "code",
   "execution_count": null,
   "id": "4df69673",
   "metadata": {},
   "outputs": [],
   "source": []
  },
  {
   "cell_type": "code",
   "execution_count": 4,
   "id": "7f862b15",
   "metadata": {},
   "outputs": [
    {
     "name": "stdout",
     "output_type": "stream",
     "text": [
      "rgy\n",
      "gnaL\n",
      "Lrgyo\n",
      "eL\n"
     ]
    }
   ],
   "source": [
    "d = \"Learnig Python\"\n",
    "print(d[3:-2:3])  \n",
    "print(d[6::-2])  # start=6,step=-2\n",
    "print(d[::3]) \n",
    "print(d[1::-1])   # start=1,step="
   ]
  },
  {
   "cell_type": "code",
   "execution_count": null,
   "id": "905e98a0",
   "metadata": {},
   "outputs": [],
   "source": []
  },
  {
   "cell_type": "code",
   "execution_count": null,
   "id": "2567dcb5",
   "metadata": {},
   "outputs": [],
   "source": []
  },
  {
   "cell_type": "code",
   "execution_count": null,
   "id": "56202ddb",
   "metadata": {},
   "outputs": [],
   "source": []
  },
  {
   "cell_type": "markdown",
   "id": "4a4328d3",
   "metadata": {},
   "source": [
    "### String Methods/Functions"
   ]
  },
  {
   "cell_type": "code",
   "execution_count": 3,
   "id": "3f53c8f9",
   "metadata": {},
   "outputs": [
    {
     "name": "stdout",
     "output_type": "stream",
     "text": [
      "HELLO\n",
      "welcome\n",
      "Learning Strings In Python\n",
      "Learning strings in python\n",
      "pYtHoN\n"
     ]
    }
   ],
   "source": [
    "s1,s2,s3 = \"hello\",\"WELCOME\", \"PyThOn\"\n",
    "s4 = \"learning strings in python\"\n",
    "print(s1.upper())\n",
    "print(s2.lower())\n",
    "print(s4.title())  # converts 1st alphabet of teach word of str to upper\n",
    "print(s4.capitalize())  # converts 1st alphabet of the str to upper\n",
    "print(s3.swapcase())  # converts upper to lower and vice-versa"
   ]
  },
  {
   "cell_type": "markdown",
   "id": "f68c63ec",
   "metadata": {},
   "source": [
    "#### Concatenate\n",
    "1) Placing string adjacent to each other.<br>\n",
    "2) Implemented using +"
   ]
  },
  {
   "cell_type": "code",
   "execution_count": 13,
   "id": "59c51bb2",
   "metadata": {},
   "outputs": [
    {
     "name": "stdout",
     "output_type": "stream",
     "text": [
      "HeLlO\n"
     ]
    }
   ],
   "source": [
    "s1 = \"Hello\"\n",
    "s2 = s1[:2] + s1[2].upper() + s1[3] + s1[-1].upper() \n",
    "print(s2)"
   ]
  },
  {
   "cell_type": "markdown",
   "id": "109f7888",
   "metadata": {},
   "source": [
    "#### isupper( ) and islower()\n",
    "<pre>\n",
    "isupper() - Returns T if str contains atleast 1 uppercase charcater and no lowercase\n",
    "islower() - Returns T if str contains atleast 1 lowercase charcater and no uppercase\n",
    "</pre>"
   ]
  },
  {
   "cell_type": "code",
   "execution_count": 19,
   "id": "cffb07b5",
   "metadata": {},
   "outputs": [
    {
     "name": "stdout",
     "output_type": "stream",
     "text": [
      "False\n",
      "False\n",
      "True\n",
      "True\n",
      "False\n"
     ]
    }
   ],
   "source": [
    "w1, w2, w3, w4 = \"india\",\"hello world\",'GOOGLE INDIA','INDIA 1$&^23'\n",
    "w5 = \"Welcome to Python\"\n",
    "print(w1.isupper())\n",
    "print(w2.isupper())\n",
    "print(w3.isupper())\n",
    "print(w4.isupper())\n",
    "print(w5.isupper())"
   ]
  },
  {
   "cell_type": "code",
   "execution_count": 24,
   "id": "baa20bd1",
   "metadata": {},
   "outputs": [
    {
     "name": "stdout",
     "output_type": "stream",
     "text": [
      "False\n",
      "True\n",
      "False\n",
      "True\n",
      "True\n",
      "True\n"
     ]
    }
   ],
   "source": [
    "w1,w2,w3,w4 = \"INDIA\",\"hello world\",'GOOGLE INDIA','india 1$&^23'\n",
    "w5 = \"welcome to python\"\n",
    "print(w1.islower())\n",
    "print(w2.islower())\n",
    "print(w3.islower())\n",
    "print(w4.islower())\n",
    "print(w5.islower())\n",
    "w6 = \"a\"\n",
    "print(w6.islower())"
   ]
  },
  {
   "cell_type": "markdown",
   "id": "def2d3db",
   "metadata": {},
   "source": [
    "#### isalpha(),  isalnum()\n",
    "<pre>\n",
    "isalpha() - Returns T, if str contains only alphabets(A-Z or a-z), otherwsie F\n",
    "isalnum() - Returns T, if str contains only alphabets(A-Z or a-z) or numbers (0-9) or combination of them, otherwsie F.\n",
    "alnum - alphanumeric\n",
    "</pre>"
   ]
  },
  {
   "cell_type": "code",
   "execution_count": 27,
   "id": "95ace049",
   "metadata": {},
   "outputs": [
    {
     "name": "stdout",
     "output_type": "stream",
     "text": [
      "True\n",
      "False\n",
      "True\n",
      "False\n",
      "True\n"
     ]
    }
   ],
   "source": [
    "w1,w2,w3,w4,w5 = \"Hello\",'Meta FB','PYTHON',\"%*&465 GOOGLE\", \"Laptop\"\n",
    "print(w1.isalpha())\n",
    "print(w2.isalpha()) # space is not alphabet\n",
    "print(w3.isalpha())\n",
    "print(w4.isalpha())\n",
    "print(w5.isalpha())"
   ]
  },
  {
   "cell_type": "code",
   "execution_count": 34,
   "id": "a8a6c398",
   "metadata": {},
   "outputs": [
    {
     "name": "stdout",
     "output_type": "stream",
     "text": [
      "True\n",
      "False\n",
      "True\n",
      "False\n",
      "True\n",
      "False\n"
     ]
    }
   ],
   "source": [
    "w1,w2,w3,w4,w5 = \"Hello\",'Meta FB','PYTHON213',\"%*&465GOOGLE\",'587'\n",
    "w6 = \"Google_123\"\n",
    "print(w1.isalnum())  # T\n",
    "print(w2.isalnum())  # F\n",
    "print(w3.isalnum())  # T\n",
    "print(w4.isalnum())  # F\n",
    "print(w5.isalnum())  # T\n",
    "print(w6.isalnum())  # F   -  spcl chars are not included in alphebets"
   ]
  },
  {
   "cell_type": "code",
   "execution_count": 38,
   "id": "846a7465",
   "metadata": {},
   "outputs": [
    {
     "name": "stdout",
     "output_type": "stream",
     "text": [
      "Hello \n",
      "World\n"
     ]
    }
   ],
   "source": [
    "print('Hello \\nWorld')  # \\n - new line character"
   ]
  },
  {
   "cell_type": "markdown",
   "id": "96997149",
   "metadata": {},
   "source": [
    "#### isdigit() and isspace()"
   ]
  },
  {
   "cell_type": "code",
   "execution_count": 40,
   "id": "bae1d6e1",
   "metadata": {},
   "outputs": [
    {
     "name": "stdout",
     "output_type": "stream",
     "text": [
      "True\n",
      "False\n",
      "False\n",
      "False\n",
      "True\n",
      "True\n"
     ]
    }
   ],
   "source": [
    "s1,s2,s3,s4,s5,s6 =  \"235432\",\"hello123\",\" 7   \",\"\",\"         \", \" \\n   \"\n",
    "print(s1.isdigit())\n",
    "print(s2.isdigit())\n",
    "\n",
    "print(s3.isspace())\n",
    "print(s4.isspace())   # no space -> empty string\n",
    "print(s5.isspace())\n",
    "print(s6.isspace())"
   ]
  },
  {
   "cell_type": "code",
   "execution_count": 43,
   "id": "5aaf4929",
   "metadata": {},
   "outputs": [
    {
     "name": "stdout",
     "output_type": "stream",
     "text": [
      "False\n"
     ]
    }
   ],
   "source": [
    "s7 =  \"True\"\n",
    "print(s7.isspace())"
   ]
  },
  {
   "cell_type": "markdown",
   "id": "21500743",
   "metadata": {},
   "source": [
    "#### Note\n",
    "Strings are Immutable(that cant be changed)"
   ]
  },
  {
   "cell_type": "code",
   "execution_count": 46,
   "id": "26802259",
   "metadata": {},
   "outputs": [
    {
     "name": "stdout",
     "output_type": "stream",
     "text": [
      "Python\n",
      "t\n"
     ]
    },
    {
     "ename": "TypeError",
     "evalue": "'str' object does not support item assignment",
     "output_type": "error",
     "traceback": [
      "\u001b[1;31m---------------------------------------------------------------------------\u001b[0m",
      "\u001b[1;31mTypeError\u001b[0m                                 Traceback (most recent call last)",
      "Cell \u001b[1;32mIn[46], line 4\u001b[0m\n\u001b[0;32m      2\u001b[0m \u001b[38;5;28mprint\u001b[39m(z)\n\u001b[0;32m      3\u001b[0m \u001b[38;5;28mprint\u001b[39m(z[\u001b[38;5;241m2\u001b[39m])\n\u001b[1;32m----> 4\u001b[0m \u001b[43mz\u001b[49m\u001b[43m[\u001b[49m\u001b[38;5;241;43m2\u001b[39;49m\u001b[43m]\u001b[49m \u001b[38;5;241m=\u001b[39m \u001b[38;5;124m'\u001b[39m\u001b[38;5;124mh\u001b[39m\u001b[38;5;124m'\u001b[39m\n\u001b[0;32m      5\u001b[0m \u001b[38;5;28mprint\u001b[39m(z)  \u001b[38;5;66;03m# str is immutable\u001b[39;00m\n",
      "\u001b[1;31mTypeError\u001b[0m: 'str' object does not support item assignment"
     ]
    }
   ],
   "source": [
    "z = \"Python\"\n",
    "print(z)\n",
    "print(z[2])\n",
    "z[2] = 'h'\n",
    "print(z)   # str is immutable"
   ]
  },
  {
   "cell_type": "code",
   "execution_count": null,
   "id": "0ac64f87",
   "metadata": {},
   "outputs": [],
   "source": []
  },
  {
   "cell_type": "markdown",
   "id": "f3bf4acd",
   "metadata": {},
   "source": [
    "#### replace('old','new',count)\n",
    "1) It replaces old substr with new substr.<br>\n",
    "2) replaces the old with new count number of times. "
   ]
  },
  {
   "cell_type": "code",
   "execution_count": 56,
   "id": "0a2c9847",
   "metadata": {},
   "outputs": [
    {
     "name": "stdout",
     "output_type": "stream",
     "text": [
      "Learning Python Statistical Science and Statistical Analysis Statistical\n",
      "Learning Python Statistical Science and Data Analysis Data\n",
      "Learning Python Statistical Science and Statistical Analysis Data\n",
      "Learning Python Data Science and Statistical Analysis Data\n",
      "Learning Python Data Science and Statistical Analysis Data\n",
      "Learning Python Data Science and Data Analysis Data\n"
     ]
    }
   ],
   "source": [
    "w = \"Learning Python Data Science and Data Analysis Data\"\n",
    "print(w.replace('Data','Statistical'))    # shift + tab\n",
    "print(w.replace('Data','Statistical',1))  # left to right\n",
    "print(w.replace('Data','Statistical',2)) \n",
    "print(w.replace('and Data','and Statistical'))\n",
    "print(w.replace('Data An','Statistical An'))\n",
    "print(w)"
   ]
  },
  {
   "cell_type": "code",
   "execution_count": 55,
   "id": "99aa52da",
   "metadata": {},
   "outputs": [
    {
     "name": "stdout",
     "output_type": "stream",
     "text": [
      "Learning python Data Science and Data Analysis Data\n"
     ]
    }
   ],
   "source": [
    "print(w.replace('Python','python'))"
   ]
  },
  {
   "cell_type": "code",
   "execution_count": 59,
   "id": "37f66a09",
   "metadata": {},
   "outputs": [
    {
     "name": "stdout",
     "output_type": "stream",
     "text": [
      "Learning Python Statsitical Science and Statsitical Analysis Statsitical\n",
      "Learning Python Statsitical Science and Statsitical Analysis Statsitical\n"
     ]
    }
   ],
   "source": [
    "w = \"Learning Python Data Science and Data Analysis Data\"\n",
    "print(w.replace('Data','Statsitical'))\n",
    "print(w.replace('Data','Statsitical',-2))"
   ]
  },
  {
   "cell_type": "markdown",
   "id": "f2de4411",
   "metadata": {},
   "source": [
    "#### startswith() and endswith()\n",
    "Return T if str starts or ends with a given substring, F otherwise"
   ]
  },
  {
   "cell_type": "code",
   "execution_count": 64,
   "id": "fa95f348",
   "metadata": {},
   "outputs": [
    {
     "name": "stdout",
     "output_type": "stream",
     "text": [
      "True\n",
      "True\n",
      "True\n",
      "False\n",
      "True\n",
      "False\n",
      "False\n"
     ]
    }
   ],
   "source": [
    "w = \"Learning Python Data Science and Data Analysis\"\n",
    "print(w.startswith('Learning'))\n",
    "print(w.startswith('Lea'))\n",
    "print(w.endswith('s'))\n",
    "print(w.endswith('SIS'))  # F - w ends with sis\n",
    "print(w.endswith('ta Analysis'))\n",
    "print(w.endswith('where'))\n",
    "print(w.startswith('Python'))"
   ]
  },
  {
   "cell_type": "markdown",
   "id": "dcda79be",
   "metadata": {},
   "source": [
    "#### index()\n",
    "Returns the index of first occurence of the string from left to right.\n",
    "If the searched string is not found, it returns an error."
   ]
  },
  {
   "cell_type": "code",
   "execution_count": 74,
   "id": "0f24af88",
   "metadata": {},
   "outputs": [
    {
     "name": "stdout",
     "output_type": "stream",
     "text": [
      "13\n",
      "1\n",
      "16\n",
      "33\n",
      "9\n",
      "33\n"
     ]
    }
   ],
   "source": [
    "w = \"Learning Python Data Science and Data Analysis\"\n",
    "print(w.index('o'))\n",
    "print(w.index('e'))\n",
    "print(w.index('Data'))\n",
    "print(w.index('Data',17)) # start searching for 'Data' from index 17\n",
    "print(w.index('Python'))\n",
    "print(w.index('Data',w.index('Data')+1))"
   ]
  },
  {
   "cell_type": "markdown",
   "id": "94ec1db2",
   "metadata": {},
   "source": [
    "#### count()\n",
    "It returns the frequency of substring present in the string."
   ]
  },
  {
   "cell_type": "code",
   "execution_count": null,
   "id": "c1c32672",
   "metadata": {},
   "outputs": [],
   "source": []
  },
  {
   "cell_type": "code",
   "execution_count": 80,
   "id": "2162fd65",
   "metadata": {},
   "outputs": [
    {
     "name": "stdout",
     "output_type": "stream",
     "text": [
      "3\n",
      "2\n",
      "6\n",
      "6\n",
      "0\n",
      "7\n",
      "1\n",
      "8\n"
     ]
    }
   ],
   "source": [
    "w = \"Learning Python Data Science and Data Analysis\"\n",
    "print(w.count('e'))\n",
    "print(w.count('Data'))\n",
    "print(w.count(' '))\n",
    "print(w.count('n'))\n",
    "print(w.count('SQL'))\n",
    "print(w.count('a'))  # python is case sensitive\n",
    "print(w.count('A'))  # python is case sensitive\n",
    "print(w.count('A') + w.count('a'))"
   ]
  },
  {
   "cell_type": "code",
   "execution_count": 84,
   "id": "7b729643",
   "metadata": {},
   "outputs": [
    {
     "name": "stdout",
     "output_type": "stream",
     "text": [
      "12\n",
      "Hello Ankit\n",
      "\n"
     ]
    }
   ],
   "source": [
    "print(5+7)                   # add \n",
    "print(\"Hello\" + \" \" +\"Ankit\") # concatenation"
   ]
  },
  {
   "cell_type": "code",
   "execution_count": 9,
   "id": "36a7cd4e",
   "metadata": {},
   "outputs": [
    {
     "name": "stdout",
     "output_type": "stream",
     "text": [
      "True\n",
      "True\n",
      "False\n",
      "False\n"
     ]
    }
   ],
   "source": [
    "#### isnumeric(), isdigit()\n",
    "\n",
    "s1 = \"256\"\n",
    "s2 = \"5/2\"    # \n",
    "print(s1.isdigit())  # 0-9\n",
    "print(s1.isnumeric()) # 0-9\n",
    "\n",
    "print(s2.isdigit())  \n",
    "print(s2.isnumeric()) #"
   ]
  },
  {
   "cell_type": "code",
   "execution_count": 11,
   "id": "dd24bb54",
   "metadata": {},
   "outputs": [
    {
     "name": "stdout",
     "output_type": "stream",
     "text": [
      "True\n",
      "False\n"
     ]
    }
   ],
   "source": [
    "s3 = \"½\"\n",
    "print(s3.isnumeric()) \n",
    "print(s3.isdigit()) "
   ]
  },
  {
   "cell_type": "code",
   "execution_count": 18,
   "id": "caf81c48",
   "metadata": {},
   "outputs": [
    {
     "name": "stdout",
     "output_type": "stream",
     "text": [
      "False\n",
      "True\n"
     ]
    }
   ],
   "source": [
    "# Decimal - Binary\n",
    "# (0-9)\n",
    "s4 = \"5.6\"\n",
    "s5  = \"35435\"\n",
    "\n",
    "print(s4.isdecimal())\n",
    "print(s5.isdecimal())  # 0-9 decimal"
   ]
  },
  {
   "cell_type": "code",
   "execution_count": 87,
   "id": "6e9ea619",
   "metadata": {},
   "outputs": [
    {
     "name": "stdout",
     "output_type": "stream",
     "text": [
      "Laptop Laptop Laptop Laptop \n",
      "8\n",
      "2 2 2 2 \n"
     ]
    }
   ],
   "source": [
    "# * can be used with strings for repitition\n",
    "print('Laptop ' * 4)\n",
    "print(2*4) # 2 2 2 2\n",
    "print('2 '*4)"
   ]
  },
  {
   "cell_type": "markdown",
   "id": "f0fa531e",
   "metadata": {},
   "source": [
    "#### split()\n",
    "1) It returns a list<br>\n",
    "2) By default splits based on \" \". (empty space)"
   ]
  },
  {
   "cell_type": "code",
   "execution_count": null,
   "id": "4ff678a4",
   "metadata": {},
   "outputs": [],
   "source": [
    "# int, float, str,bool,None,complex => can only store one value\n",
    "\n",
    "# to store multiple values => list, tuple, set, dictionary\n",
    "# list => []\n",
    "# tuple => ()\n",
    "# set = {}\n",
    "# dict = {key:value}"
   ]
  },
  {
   "cell_type": "code",
   "execution_count": 27,
   "id": "8b031bdb",
   "metadata": {},
   "outputs": [
    {
     "name": "stdout",
     "output_type": "stream",
     "text": [
      "[10, 34, 56, 78, 24, 50, 70]\n",
      "<class 'list'>\n",
      "[56, 78, 24, 50, 70]\n",
      "[50, 78, 34]\n",
      "78 56\n"
     ]
    }
   ],
   "source": [
    "num = [10,34,56,78,24,50,70]\n",
    "print(num)\n",
    "print(type(num))\n",
    "\n",
    "# indexing, slicing\n",
    "print(num[2:7])  # start=2,end=7,step=+1 => left to right, \n",
    "print(num[5::-2]) # start=5,step=-2\n",
    "print(num[3],num[2])"
   ]
  },
  {
   "cell_type": "code",
   "execution_count": 38,
   "id": "42b72ff4",
   "metadata": {},
   "outputs": [
    {
     "name": "stdout",
     "output_type": "stream",
     "text": [
      "['List', 'is', 'an', 'ordered', 'collection', 'of', 'elements']\n",
      "['List is an ', 'rdered c', 'llecti', 'n ', 'f elements']\n",
      "['List is an o', 'de', 'ed collection of elements']\n",
      "['List is an ordered co', '', 'ection of e', 'ements']\n",
      "['List is an ', ' collection of elements']\n",
      "['List is an ord', 'r', 'd coll', 'ction of elements']\n",
      "['List', 'is', 'an ordered collection of elements']\n",
      "['List is an ord', 'r', 'd coll', 'ction of ', 'l', 'm', 'nts']\n"
     ]
    }
   ],
   "source": [
    "s = 'List is an ordered collection of elements'\n",
    "print(s.split())      # splitting based on ' '\n",
    "print(s.split('o'))\n",
    "print(s.split('r'))\n",
    "print(s.split('l'))\n",
    "print(s.split('ordered'))\n",
    "print(s.split('e',3))  # num of times sep is used for splitting\n",
    "print(s.split(' ',2))\n",
    "print(s.split('e',))"
   ]
  },
  {
   "cell_type": "code",
   "execution_count": 36,
   "id": "f4a8f4ff",
   "metadata": {},
   "outputs": [
    {
     "name": "stdout",
     "output_type": "stream",
     "text": [
      "List is an \n",
      "ordered collection of elements\n"
     ]
    }
   ],
   "source": [
    "s2 = s[:11]\n",
    "s3 = s[11:]\n",
    "print(s2)\n",
    "print(s3)"
   ]
  },
  {
   "cell_type": "markdown",
   "id": "513bd049",
   "metadata": {},
   "source": [
    "#### String \n",
    "1) String is immutable(It cant be changed)<br>\n",
    "2) String can be concatenated(placing strings adjacent to each other)."
   ]
  },
  {
   "cell_type": "code",
   "execution_count": 51,
   "id": "6e67b411",
   "metadata": {},
   "outputs": [
    {
     "name": "stdout",
     "output_type": "stream",
     "text": [
      "HelloWorld\n",
      "Hello World\n",
      "Hello World\n"
     ]
    }
   ],
   "source": [
    "# String concatenation\n",
    "a = \"Hello\"\n",
    "b = \"World\"\n",
    "print(a+b)\n",
    "print(a+\" \"+b)\n",
    "print(a,b)"
   ]
  },
  {
   "cell_type": "markdown",
   "id": "7b512a1d",
   "metadata": {},
   "source": [
    "#### end and sep :  argumnets of print()\n",
    "\\n => new line charachter"
   ]
  },
  {
   "cell_type": "code",
   "execution_count": 42,
   "id": "07a60494",
   "metadata": {},
   "outputs": [
    {
     "name": "stdout",
     "output_type": "stream",
     "text": [
      "Hello\n",
      "World\n"
     ]
    }
   ],
   "source": [
    "print('Hello')  # by default end= '\\n'\n",
    "print('World')"
   ]
  },
  {
   "cell_type": "code",
   "execution_count": 54,
   "id": "c2a5cae6",
   "metadata": {},
   "outputs": [
    {
     "name": "stdout",
     "output_type": "stream",
     "text": [
      "Hello 20 35\n",
      "Hello ** 20 ** 35\n",
      "Hello 20 35 SQL 123\n"
     ]
    }
   ],
   "source": [
    "w1,w2,w3 = \"Hello\",20,35\n",
    "print(w1,w2,w3) # by default sep = ' '\n",
    "print(w1,w2,w3,sep=\" ** \")\n",
    "print(w1,w2,w3,end=' SQL')   # next print wont change line\n",
    "print(' 123')"
   ]
  },
  {
   "cell_type": "code",
   "execution_count": 56,
   "id": "9c20791b",
   "metadata": {},
   "outputs": [
    {
     "name": "stdout",
     "output_type": "stream",
     "text": [
      "Hello ** 20 ** 35 SQLPython\n",
      "12345\n"
     ]
    }
   ],
   "source": [
    "print(w1,w2,w3,sep=\" ** \",end=' SQL')\n",
    "print('Python')  # end= '\\n'\n",
    "print(12345)"
   ]
  },
  {
   "cell_type": "markdown",
   "id": "cb73fe64",
   "metadata": {},
   "source": [
    "#### input()\n",
    "1) Used to accept user input<br>\n",
    "2) It returns  a str."
   ]
  },
  {
   "cell_type": "code",
   "execution_count": 2,
   "id": "dbcafc7b",
   "metadata": {},
   "outputs": [
    {
     "name": "stdout",
     "output_type": "stream",
     "text": [
      "452\n",
      "452\n",
      "<class 'str'>\n"
     ]
    }
   ],
   "source": [
    "z = input()\n",
    "print(z)\n",
    "print(type(z))"
   ]
  },
  {
   "cell_type": "code",
   "execution_count": 63,
   "id": "c2574c74",
   "metadata": {},
   "outputs": [
    {
     "name": "stdout",
     "output_type": "stream",
     "text": [
      "Enter a num: 125\n",
      "125\n",
      "<class 'int'>\n"
     ]
    }
   ],
   "source": [
    "# Accept a num as user input\n",
    "a = int(input('Enter a num: '))\n",
    "print(a)\n",
    "print(type(a))"
   ]
  },
  {
   "cell_type": "code",
   "execution_count": 64,
   "id": "1a0fb78d",
   "metadata": {},
   "outputs": [
    {
     "name": "stdout",
     "output_type": "stream",
     "text": [
      "Enter a float num: 4.57\n",
      "4.57\n",
      "<class 'float'>\n"
     ]
    }
   ],
   "source": [
    "a1 = float(input('Enter a float num: '))\n",
    "print(a1)\n",
    "print(type(a1))"
   ]
  },
  {
   "cell_type": "code",
   "execution_count": null,
   "id": "9af7ba98",
   "metadata": {},
   "outputs": [],
   "source": []
  }
 ],
 "metadata": {
  "kernelspec": {
   "display_name": "Python 3 (ipykernel)",
   "language": "python",
   "name": "python3"
  },
  "language_info": {
   "codemirror_mode": {
    "name": "ipython",
    "version": 3
   },
   "file_extension": ".py",
   "mimetype": "text/x-python",
   "name": "python",
   "nbconvert_exporter": "python",
   "pygments_lexer": "ipython3",
   "version": "3.9.13"
  }
 },
 "nbformat": 4,
 "nbformat_minor": 5
}
