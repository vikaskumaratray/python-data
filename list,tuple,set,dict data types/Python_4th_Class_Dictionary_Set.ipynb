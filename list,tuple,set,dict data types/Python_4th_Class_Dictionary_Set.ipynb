{
 "cells": [
  {
   "cell_type": "markdown",
   "id": "f5edba22",
   "metadata": {},
   "source": [
    "### Dictionary\n",
    "\n",
    "1) Dictionary elements are stored in key:value pair format.<br>\n",
    "2) Dictionary elements are enclosed in {} and are separated by comma<br>\n",
    "3) Dictionary is ordered.<br> \n",
    "4) All the keys in the dictionary must be unique. Values may be duplicate<br>\n",
    "5) Dictionary is mutable (It can be changed)<br>\n",
    "6) The key,value pair is called item in dictionary and each item is stored in form of tuple<br>"
   ]
  },
  {
   "cell_type": "markdown",
   "id": "ccbabe93",
   "metadata": {},
   "source": [
    "#### Empty Dictionary"
   ]
  },
  {
   "cell_type": "code",
   "execution_count": 3,
   "id": "6e402493",
   "metadata": {},
   "outputs": [
    {
     "name": "stdout",
     "output_type": "stream",
     "text": [
      "{} <class 'dict'>\n",
      "{} <class 'dict'>\n"
     ]
    }
   ],
   "source": [
    "d1,d2 = {},dict()\n",
    "print(d1,type(d1))\n",
    "print(d2,type(d2))"
   ]
  },
  {
   "cell_type": "markdown",
   "id": "3dced1fa",
   "metadata": {},
   "source": [
    "#### Examples of Dictionary"
   ]
  },
  {
   "cell_type": "code",
   "execution_count": 6,
   "id": "1128c8f3",
   "metadata": {},
   "outputs": [
    {
     "name": "stdout",
     "output_type": "stream",
     "text": [
      "{'Name': 'Harsh', 'Age': 20, 'City': 'Mumbai'}\n",
      "3\n",
      "<class 'dict'>\n"
     ]
    }
   ],
   "source": [
    "# key : Name, Age, City\n",
    "# values : Harsh, 20, Mumbai\n",
    "w1 = {'Name':'Harsh','Age':20,'City':'Mumbai'}\n",
    "print(w1)\n",
    "print(len(w1))  # each key:value pair is contributing +1 to the length\n",
    "print(type(w1))"
   ]
  },
  {
   "cell_type": "markdown",
   "id": "48886737",
   "metadata": {},
   "source": [
    "#### Fetch values for a given key(Dictionary can be indexed based on its keys)"
   ]
  },
  {
   "cell_type": "code",
   "execution_count": 13,
   "id": "582d10c1",
   "metadata": {},
   "outputs": [
    {
     "name": "stdout",
     "output_type": "stream",
     "text": [
      "12 10\n",
      "25\n",
      "Python\n"
     ]
    }
   ],
   "source": [
    "# Keys = k1,k2,k2,k4,56,59\n",
    "# values = 10,15...'SQL'\n",
    "d1 =  {'k1':10,'k2':15,'k3':12,'k4':25, 56:'Python',59:'SQL'}\n",
    "print(d1['k3'],d1['k1'])\n",
    "print(d1['k4'])\n",
    "print(d1[56])"
   ]
  },
  {
   "cell_type": "markdown",
   "id": "0fce49bf",
   "metadata": {},
   "source": [
    "#### Note\n",
    "1) How to add a new key:value pair to an existing dict<br>\n",
    "2) Change value for a given key"
   ]
  },
  {
   "cell_type": "code",
   "execution_count": 24,
   "id": "3ce92fe2",
   "metadata": {},
   "outputs": [
    {
     "name": "stdout",
     "output_type": "stream",
     "text": [
      "{'Name': 'Harsh', 'Age': 20, 'City': 'Mumbai'}\n",
      "{'Name': 'Dhruv', 'Age': 20, 'City': 'Mumbai'}\n",
      "{'Name': 'Dhruv', 'Age': 20, 'City': 'Mumbai', 'Dept': 'IT'}\n"
     ]
    }
   ],
   "source": [
    "w = {'Name':'Harsh','Age':20,'City':'Mumbai'}\n",
    "print(w)\n",
    "# Change value for a given key\n",
    "w['Name'] = 'Dhruv'\n",
    "print(w)\n",
    "# How to add a new key:value pair to an existing dict\n",
    "w['Dept'] = 'IT'\n",
    "print(w)"
   ]
  },
  {
   "cell_type": "markdown",
   "id": "0e8a0800",
   "metadata": {},
   "source": [
    "#### All the keys in the dictionary must be unique. Values may be duplicate"
   ]
  },
  {
   "cell_type": "code",
   "execution_count": 19,
   "id": "184296e9",
   "metadata": {},
   "outputs": [
    {
     "name": "stdout",
     "output_type": "stream",
     "text": [
      "{'a1': 45, 'a2': 30, 'a4': 'Python', 'a5': 30}\n"
     ]
    }
   ],
   "source": [
    "d2 = {'a1':10,'a2':30,'a1':45,'a4':'Python','a5':30}\n",
    "print(d2)  # value retained in right to left order"
   ]
  },
  {
   "cell_type": "markdown",
   "id": "f26f6883",
   "metadata": {},
   "source": [
    "### Dictionary Methods/Functions\n",
    "\n",
    "get,pop,popitem, keys,values,items, update, clear"
   ]
  },
  {
   "cell_type": "markdown",
   "id": "6d5d8a5e",
   "metadata": {},
   "source": [
    "#### 1) get()\n",
    "Used to fetch value for a given key"
   ]
  },
  {
   "cell_type": "code",
   "execution_count": 29,
   "id": "fb80829f",
   "metadata": {},
   "outputs": [
    {
     "name": "stdout",
     "output_type": "stream",
     "text": [
      "10\n",
      "12\n",
      "25\n",
      "None\n"
     ]
    },
    {
     "ename": "KeyError",
     "evalue": "'k7'",
     "output_type": "error",
     "traceback": [
      "\u001b[1;31m---------------------------------------------------------------------------\u001b[0m",
      "\u001b[1;31mKeyError\u001b[0m                                  Traceback (most recent call last)",
      "Cell \u001b[1;32mIn[29], line 6\u001b[0m\n\u001b[0;32m      4\u001b[0m \u001b[38;5;28mprint\u001b[39m(d1\u001b[38;5;241m.\u001b[39mget(\u001b[38;5;124m'\u001b[39m\u001b[38;5;124mk4\u001b[39m\u001b[38;5;124m'\u001b[39m))\n\u001b[0;32m      5\u001b[0m \u001b[38;5;28mprint\u001b[39m(d1\u001b[38;5;241m.\u001b[39mget(\u001b[38;5;124m'\u001b[39m\u001b[38;5;124mk7\u001b[39m\u001b[38;5;124m'\u001b[39m))  \u001b[38;5;66;03m# None\u001b[39;00m\n\u001b[1;32m----> 6\u001b[0m \u001b[38;5;28mprint\u001b[39m(\u001b[43md1\u001b[49m\u001b[43m[\u001b[49m\u001b[38;5;124;43m'\u001b[39;49m\u001b[38;5;124;43mk7\u001b[39;49m\u001b[38;5;124;43m'\u001b[39;49m\u001b[43m]\u001b[49m)     \u001b[38;5;66;03m# err\u001b[39;00m\n",
      "\u001b[1;31mKeyError\u001b[0m: 'k7'"
     ]
    }
   ],
   "source": [
    "d1 =  {'k1':10,'k2':15,1024:12,'k4':25}\n",
    "print(d1.get('k1'))\n",
    "print(d1.get(1024))\n",
    "print(d1.get('k4'))\n",
    "print(d1.get('k7'))  # None\n",
    "print(d1['k7'])     # err"
   ]
  },
  {
   "cell_type": "markdown",
   "id": "7e45be4f",
   "metadata": {},
   "source": [
    "#### 2) pop(key)\n",
    "Used to remove a key:value pair from the dict where key is passed as an argument"
   ]
  },
  {
   "cell_type": "code",
   "execution_count": 35,
   "id": "7ff1ec5a",
   "metadata": {},
   "outputs": [
    {
     "name": "stdout",
     "output_type": "stream",
     "text": [
      "{'k1': 10, 'k2': 15, 'k3': 12, 'k4': 25}\n",
      "{'k1': 10, 'k3': 12, 'k4': 25}\n",
      "{'k1': 10, 'k3': 12}\n"
     ]
    }
   ],
   "source": [
    "d1 =  {'k1':10,'k2':15,'k3':12,'k4':25}\n",
    "print(d1)\n",
    "d1.pop('k2')\n",
    "print(d1)\n",
    "d1.pop('k4')\n",
    "print(d1)\n",
    "# d1.pop('K8')  # err\n",
    "# d1.pop()  # err"
   ]
  },
  {
   "cell_type": "markdown",
   "id": "2bd423d8",
   "metadata": {},
   "source": [
    "#### 3) popitem()\n",
    "It is used to remove a key-value pair from the dict in LIFO(Last In First Out) order(right to left order)"
   ]
  },
  {
   "cell_type": "code",
   "execution_count": 36,
   "id": "9e95d6fb",
   "metadata": {},
   "outputs": [
    {
     "name": "stdout",
     "output_type": "stream",
     "text": [
      "{'k1': 10, 'k2': 15, 'k3': 12, 'k4': 25}\n",
      "{'k1': 10, 'k2': 15, 'k3': 12}\n",
      "{'k1': 10, 'k2': 15}\n"
     ]
    }
   ],
   "source": [
    "d1 =  {'k1':10,'k2':15,'k3':12,'k4':25}\n",
    "print(d1)\n",
    "d1.popitem()\n",
    "print(d1)\n",
    "d1.popitem()\n",
    "print(d1)"
   ]
  },
  {
   "cell_type": "markdown",
   "id": "8248d75b",
   "metadata": {},
   "source": [
    "#### 4) clear()\n",
    "Empties the dict"
   ]
  },
  {
   "cell_type": "code",
   "execution_count": 40,
   "id": "bba60e9b",
   "metadata": {},
   "outputs": [
    {
     "name": "stdout",
     "output_type": "stream",
     "text": [
      "{'a1': 20, 'a2': 30}\n",
      "{}\n"
     ]
    }
   ],
   "source": [
    "d1 = {'a1':20,'a2':30}\n",
    "print(d1)\n",
    "d1.clear()\n",
    "print(d1)"
   ]
  },
  {
   "cell_type": "markdown",
   "id": "39cda479",
   "metadata": {},
   "source": [
    "#### 5) update(dict)\n",
    "Updates(performs union operation) a dictionary with other dictionary. Only one dict can be passed as an argument."
   ]
  },
  {
   "cell_type": "code",
   "execution_count": 42,
   "id": "db7e2ea5",
   "metadata": {},
   "outputs": [
    {
     "name": "stdout",
     "output_type": "stream",
     "text": [
      "{'g1': 10, 'g2': 30, 'g3': 15}\n",
      "{'g4': 25, 'g5': 40, 'g2': 30, 'g1': 18}\n",
      "{'g1': 18, 'g2': 30, 'g3': 15, 'g4': 25, 'g5': 40}\n",
      "{'g4': 25, 'g5': 40, 'g2': 30, 'g1': 18}\n"
     ]
    }
   ],
   "source": [
    "w1 = {'g1':10,'g2':30,'g3':15}\n",
    "w2 = {'g4':25,'g5':40,'g2':30,'g1':18}\n",
    "print(w1)\n",
    "print(w2)\n",
    "w1.update(w2)\n",
    "print(w1)\n",
    "print(w2)"
   ]
  },
  {
   "cell_type": "code",
   "execution_count": 44,
   "id": "7a9e0560",
   "metadata": {},
   "outputs": [
    {
     "name": "stdout",
     "output_type": "stream",
     "text": [
      "{'g1': 10, 'g2': 30, 'g3': 15}\n",
      "{'g4': 25, 'g5': 40, 'g2': 30, 'g1': 18}\n",
      "{'g1': 10, 'g2': 30, 'g3': 15}\n",
      "{'g4': 25, 'g5': 40, 'g2': 30, 'g1': 10, 'g3': 15}\n"
     ]
    }
   ],
   "source": [
    "w1 = {'g1':10,'g2':30,'g3':15}\n",
    "w2 = {'g4':25,'g5':40,'g2':30,'g1':18}\n",
    "print(w1)\n",
    "print(w2)\n",
    "w2.update(w1)\n",
    "print(w1)\n",
    "print(w2)"
   ]
  },
  {
   "cell_type": "markdown",
   "id": "a2388e09",
   "metadata": {},
   "source": [
    "#### 6) setdefault()\n",
    "Used to add a new key-value pair to the dictionary, with the default value of None"
   ]
  },
  {
   "cell_type": "code",
   "execution_count": 47,
   "id": "af7c35fe",
   "metadata": {},
   "outputs": [
    {
     "name": "stdout",
     "output_type": "stream",
     "text": [
      "{'h1': 10, 'h2': 20, 'h3': 30}\n",
      "{'h1': 10, 'h2': 20, 'h3': 30, 'Python': None}\n",
      "{'h1': 10, 'h2': 20, 'h3': 30, 'Python': None, 'SQL': 'Joins'}\n"
     ]
    }
   ],
   "source": [
    "d = {'h1':10,'h2':20,'h3':30}\n",
    "print(d)\n",
    "d.setdefault('Python')  # key added is Python, value added is None\n",
    "print(d)\n",
    "d.setdefault('SQL','Joins') # key added is SQL, value added is Joins\n",
    "print(d)"
   ]
  },
  {
   "cell_type": "markdown",
   "id": "69fb9d86",
   "metadata": {},
   "source": [
    "#### 7,8,9) keys(),values(),items()\n",
    "\n",
    "keys() - Returns keys of the dict<br>\n",
    "values() - Returns values of the dict<br>\n",
    "items() - Returns items(key:value) of the dict"
   ]
  },
  {
   "cell_type": "code",
   "execution_count": 48,
   "id": "23beb1e1",
   "metadata": {},
   "outputs": [
    {
     "name": "stdout",
     "output_type": "stream",
     "text": [
      "dict_keys(['a1', 'a2', 'a3'])\n",
      "dict_values([5, 10, 7])\n",
      "dict_items([('a1', 5), ('a2', 10), ('a3', 7)])\n"
     ]
    }
   ],
   "source": [
    "d1 = {'a1':5,'a2':10,'a3':7}\n",
    "print(d1.keys())\n",
    "print(d1.values())\n",
    "print(d1.items())"
   ]
  },
  {
   "cell_type": "markdown",
   "id": "8c3e236d",
   "metadata": {},
   "source": [
    "#### Iteration  in Dictionary"
   ]
  },
  {
   "cell_type": "code",
   "execution_count": 51,
   "id": "139afad4",
   "metadata": {},
   "outputs": [
    {
     "name": "stdout",
     "output_type": "stream",
     "text": [
      "a1 10 10\n",
      "a2 15 15\n",
      "a3 45 45\n"
     ]
    }
   ],
   "source": [
    "# By default dict allows iteration only on its keys\n",
    "d1 = {'a1':10,'a2':15,'a3':45}\n",
    "for i in d1:  # i corresponds to each and every key of the dict\n",
    "    print(i,d1[i],d1.get(i))"
   ]
  },
  {
   "cell_type": "code",
   "execution_count": 53,
   "id": "2e3666c5",
   "metadata": {},
   "outputs": [
    {
     "name": "stdout",
     "output_type": "stream",
     "text": [
      "a1 10 10\n",
      "a2 15 15\n",
      "a3 45 45\n"
     ]
    }
   ],
   "source": [
    "d1 = {'a1':10,'a2':15,'a3':45}\n",
    "for i in d1.keys():\n",
    "    print(i,d1[i],d1.get(i))"
   ]
  },
  {
   "cell_type": "code",
   "execution_count": 56,
   "id": "ec39ce12",
   "metadata": {},
   "outputs": [
    {
     "name": "stdout",
     "output_type": "stream",
     "text": [
      "10\n",
      "15\n",
      "45\n"
     ]
    }
   ],
   "source": [
    "d1 = {'a1':10,'a2':15,'a3':45}\n",
    "for i in d1.values():  # i corresponds to each and every value of the dict\n",
    "    print(i)"
   ]
  },
  {
   "cell_type": "code",
   "execution_count": 57,
   "id": "2237a98c",
   "metadata": {},
   "outputs": [
    {
     "name": "stdout",
     "output_type": "stream",
     "text": [
      "('a1', 10)\n",
      "('a2', 15)\n",
      "('a3', 45)\n"
     ]
    }
   ],
   "source": [
    "d1 = {'a1':10,'a2':15,'a3':45}\n",
    "for i in d1.items():  # i corresponds to each and every item of the dict\n",
    "    print(i)"
   ]
  },
  {
   "cell_type": "code",
   "execution_count": 60,
   "id": "e92c8a9e",
   "metadata": {},
   "outputs": [
    {
     "name": "stdout",
     "output_type": "stream",
     "text": [
      "10 a1\n",
      "15 a2\n",
      "45 a3\n"
     ]
    }
   ],
   "source": [
    "for k,v in d1.items():  # k=key, v=value\n",
    "    print(v,k)"
   ]
  },
  {
   "cell_type": "code",
   "execution_count": 69,
   "id": "c4525796",
   "metadata": {},
   "outputs": [
    {
     "name": "stdout",
     "output_type": "stream",
     "text": [
      "['a1', 'a2', 'a3', 'a4', 'a5']\n",
      "[20, 45, 40, 7, 32]\n",
      "38\n",
      "1 3\n",
      "MaxValue_Key a2 MinValue_Key a4\n"
     ]
    }
   ],
   "source": [
    "#### Find the difference between max value and min value in dict.\n",
    "# Also find corresponding keys for max value and min value\n",
    "d = {'a1':20,'a2':45,'a3':40,'a4':7,'a5':32}\n",
    "k = list(d.keys())\n",
    "v = list(d.values())\n",
    "print(k)\n",
    "print(v)\n",
    "diff = max(v) - min(v)\n",
    "print(diff)\n",
    "max_val_idx,min_val_idx = v.index(max(v)), v.index(min(v))\n",
    "print(max_val_idx,min_val_idx)\n",
    "print('MaxValue_Key',k[max_val_idx],'MinValue_Key',k[min_val_idx])"
   ]
  },
  {
   "cell_type": "markdown",
   "id": "463eecde",
   "metadata": {},
   "source": [
    "#### Dict keys cant be mutable data types (list,set, dict cant be used as keys)"
   ]
  },
  {
   "cell_type": "code",
   "execution_count": 5,
   "id": "cc2605cf",
   "metadata": {},
   "outputs": [
    {
     "name": "stdout",
     "output_type": "stream",
     "text": [
      "{'A1': 10, 11: 12, 4.5: 'Hello', True: 'Python', None: 'SQL', (5, 7): 'Strings'}\n"
     ]
    }
   ],
   "source": [
    "d1 = {'A1':10,11:12,4.5:'Hello',True:'Python',None:'SQL',(5,7):'Strings'}\n",
    "print(d1)"
   ]
  },
  {
   "cell_type": "code",
   "execution_count": null,
   "id": "db9246a6",
   "metadata": {},
   "outputs": [],
   "source": []
  },
  {
   "cell_type": "code",
   "execution_count": null,
   "id": "546e6e75",
   "metadata": {},
   "outputs": [],
   "source": []
  },
  {
   "cell_type": "markdown",
   "id": "d7131112",
   "metadata": {},
   "source": [
    "### Set\n",
    "1) It is unordered collection of elements of same or different data types<br>\n",
    "2) Set elements are represented in {} and are separated by comma<br>\n",
    "3) Set does not support indexing or slicing (as it is unordered)<br>\n",
    "4) Set does not allow duplicate elements<br>\n",
    "5) Set is mutable(it can be changed)"
   ]
  },
  {
   "cell_type": "markdown",
   "id": "d65cc807",
   "metadata": {},
   "source": [
    "#### Empty Set"
   ]
  },
  {
   "cell_type": "code",
   "execution_count": 77,
   "id": "7d9142a6",
   "metadata": {},
   "outputs": [
    {
     "name": "stdout",
     "output_type": "stream",
     "text": [
      "set()\n",
      "<class 'set'>\n"
     ]
    }
   ],
   "source": [
    "s1 = set()\n",
    "print(s1)\n",
    "print(type(s1))"
   ]
  },
  {
   "cell_type": "code",
   "execution_count": 76,
   "id": "786e0246",
   "metadata": {},
   "outputs": [
    {
     "name": "stdout",
     "output_type": "stream",
     "text": [
      "<class 'dict'>\n"
     ]
    }
   ],
   "source": [
    "s2 = {}\n",
    "print(type(s2))"
   ]
  },
  {
   "cell_type": "markdown",
   "id": "28453568",
   "metadata": {},
   "source": [
    "#### Sets cant have duplicate elements"
   ]
  },
  {
   "cell_type": "code",
   "execution_count": 79,
   "id": "01f831f9",
   "metadata": {},
   "outputs": [
    {
     "name": "stdout",
     "output_type": "stream",
     "text": [
      "{16, 35, 20, 7, 8, 10, 12}\n",
      "<class 'set'>\n"
     ]
    }
   ],
   "source": [
    "s1 = {10,12,16,7,8,10,16,20,35}\n",
    "print(s1)\n",
    "print(type(s1))"
   ]
  },
  {
   "cell_type": "code",
   "execution_count": 84,
   "id": "f3fdeea1",
   "metadata": {},
   "outputs": [
    {
     "name": "stdout",
     "output_type": "stream",
     "text": [
      "[35, 7, 8, 10, 12, 16, 20]\n",
      "[35, 20, 16, 12, 10, 8, 7]\n"
     ]
    }
   ],
   "source": [
    "# Remove duplicates from the list\n",
    "w = [10,12,16,7,8,10,16,20,35]\n",
    "w1 = list(set(w))\n",
    "print(w1)\n",
    "w1.sort(reverse=True)  # desc order\n",
    "print(w1)"
   ]
  },
  {
   "cell_type": "markdown",
   "id": "e4cd1fa9",
   "metadata": {},
   "source": [
    "### Set Functions\n",
    "\n",
    "union, intersection, difference, update, symmetric_difference"
   ]
  },
  {
   "cell_type": "code",
   "execution_count": 93,
   "id": "27f83b25",
   "metadata": {},
   "outputs": [
    {
     "name": "stdout",
     "output_type": "stream",
     "text": [
      "{1, 2, 4, 5, 6, 7, 8, 9, 10, 15}\n",
      "{10, 4, 7}\n",
      "{1, 15}\n",
      "{2, 5, 6, 8, 9}\n",
      "{1, 2, 5, 6, 8, 9, 15}\n",
      "s1 {1, 4, 7, 10, 15}\n",
      "s2 {2, 4, 5, 6, 7, 8, 9, 10}\n",
      "s3 {3, 11, 12, 15}\n"
     ]
    }
   ],
   "source": [
    "s1 = {1,4,7,15,10}\n",
    "s2 = {2,4,5,6,7,8,9,10}\n",
    "s3 = {3,11,12,15}\n",
    "print(s1.union(s2))          # combines all elements of s1 and s2\n",
    "print(s1.intersection(s2))   # returns common elements from s1 and s2\n",
    "print(s1.difference(s2))     # returns elements from s1 which are not in s2\n",
    "print(s2.difference(s1))     # returns elements from s2 which are not in s1\n",
    "print(s1.symmetric_difference(s2))  # difference between union and intersection\n",
    "print('s1',s1)\n",
    "print('s2',s2)\n",
    "print('s3',s3)"
   ]
  },
  {
   "cell_type": "code",
   "execution_count": 94,
   "id": "17168747",
   "metadata": {},
   "outputs": [
    {
     "name": "stdout",
     "output_type": "stream",
     "text": [
      "s1 {1, 4, 7, 10, 15}\n",
      "{2, 4, 5, 6, 7, 8, 9, 10}\n",
      "{3, 11, 12, 15}\n",
      "s1 {1, 2, 4, 5, 6, 7, 8, 9, 10, 15}\n"
     ]
    }
   ],
   "source": [
    "s1 = {1,4,7,15,10}\n",
    "s2 = {2,4,5,6,7,8,9,10}\n",
    "s3 = {3,11,12,15}\n",
    "print('s1',s1)\n",
    "print(s2)\n",
    "print(s3)\n",
    "s1.update(s2)       # updates s1 with union of s1 and s2\n",
    "print('s1',s1)      # set is mutable"
   ]
  },
  {
   "cell_type": "code",
   "execution_count": null,
   "id": "2ea54452",
   "metadata": {},
   "outputs": [],
   "source": []
  },
  {
   "cell_type": "markdown",
   "id": "c34fa0a4",
   "metadata": {},
   "source": [
    "#### clear, remove, add"
   ]
  },
  {
   "cell_type": "code",
   "execution_count": 102,
   "id": "47ac9012",
   "metadata": {},
   "outputs": [
    {
     "name": "stdout",
     "output_type": "stream",
     "text": [
      "{32, 20, 25, 10, 13, 30}\n",
      "{32, 'Python', 20, 25, 10, 13, 30}\n",
      "{32, 'Python', 20, 7.6, 25, 10, 13, 30}\n",
      "{32, 'Python', 20, 7.6, 25, 10, 13}\n",
      "set()\n"
     ]
    }
   ],
   "source": [
    "q1 = {10,13,20,30,25,32}\n",
    "print(q1)\n",
    "q1.add('Python')\n",
    "print(q1)\n",
    "q1.add(7.6)  # elements can be added anywhere as set is unordered\n",
    "print(q1)\n",
    "q1.remove(30)  # removes the element\n",
    "print(q1)\n",
    "q1.clear()   # empties the set\n",
    "print(q1)"
   ]
  },
  {
   "cell_type": "markdown",
   "id": "cd1ea654",
   "metadata": {},
   "source": [
    "#### Nested Data Types(Dict,List,tuple)"
   ]
  },
  {
   "cell_type": "code",
   "execution_count": 108,
   "id": "53674120",
   "metadata": {},
   "outputs": [
    {
     "name": "stdout",
     "output_type": "stream",
     "text": [
      "<class 'list'>\n"
     ]
    }
   ],
   "source": [
    "w = [[10,13,(25,38,74,80),16,19],('Str','Python','Slicing','Indexing','List'),\n",
    "    {'a1':4,'a2':14,'a3':[51,52,53,54,60,65,70],\n",
    "     'a4':{'Name':['Amit','Karan','Piyush'],'City':['Delhi','Pune','Noida'],\n",
    "          'Course':{'C1':('Python','DS','Tableau','Excel'),\n",
    "                   'C2':('ML','DL','R','SQL')}}}]\n",
    "# print(w)\n",
    "print(type(w))"
   ]
  },
  {
   "cell_type": "code",
   "execution_count": 120,
   "id": "94931bef",
   "metadata": {},
   "outputs": [
    {
     "name": "stdout",
     "output_type": "stream",
     "text": [
      "['Amit', 'Piyush']\n",
      "['Pune', 'Noida']\n",
      "('Python', 'Excel')\n",
      "('R', 'DL', 'ML')\n"
     ]
    }
   ],
   "source": [
    "print(w[2]['a4']['Name'][::2])\n",
    "print(w[2]['a4']['City'][1:])\n",
    "print(w[2]['a4']['Course']['C1'][::3])\n",
    "print(w[2]['a4']['Course']['C2'][2::-1])"
   ]
  },
  {
   "cell_type": "code",
   "execution_count": 114,
   "id": "ecf6dc40",
   "metadata": {},
   "outputs": [
    {
     "name": "stdout",
     "output_type": "stream",
     "text": [
      "13\n",
      "(25, 74)\n",
      "('Slicing', 'Indexing')\n",
      "14 14\n",
      "[52, 54, 65]\n"
     ]
    }
   ],
   "source": [
    "print(w[0][1])\n",
    "print(w[0][2][::2])\n",
    "print(w[1][2:4])\n",
    "print(w[2]['a2'],w[2].get('a2'))\n",
    "print(w[2]['a3'][1::2])\n"
   ]
  },
  {
   "cell_type": "markdown",
   "id": "8634e34c",
   "metadata": {},
   "source": [
    "#### Exercise\n",
    "\n",
    "Q1) Accept a num as user input. Find all its factors.<br>\n",
    "Q2) Accept a num as user input. Check is num is prime.<br>\n",
    "Q3) Accpet a string as user input<br>\n",
    "a) Print string from left to right using positive index<br>\n",
    "b) Print string from left to right using negative index<br>\n",
    "c) Print string from right to left using positive index<br>\n",
    "d) Print string from right to left using negative index<br>\n",
    "\n",
    "Q4) Print words that start and end with same character. Find words that are palindromes<br>\n",
    "words = ['radar','finite','school','radar','fortunate','racecar']\n",
    "\n",
    "Q5) Print words that start and end with same character<br>\n",
    "words = ['India','Australia','Europe','Argentina','Chile','Japan']\n",
    "\n",
    "Q6) Accept a number. Find sum and product digits of a number<br>\n",
    "\n",
    "Q7) Find factorial of a number<br>\n"
   ]
  },
  {
   "cell_type": "code",
   "execution_count": 1,
   "id": "712cd904",
   "metadata": {},
   "outputs": [
    {
     "name": "stdout",
     "output_type": "stream",
     "text": [
      "10 20 15 25 35 40 "
     ]
    }
   ],
   "source": [
    "# Iterate - str, list, tuple, set, dict \n",
    "\n",
    "w = [10,20,15,25,35,40]\n",
    "# element wise iteration\n",
    "for i in w:  # i is element of list\n",
    "    print(i,end=' ')"
   ]
  },
  {
   "cell_type": "code",
   "execution_count": 2,
   "id": "e9783d89",
   "metadata": {},
   "outputs": [
    {
     "name": "stdout",
     "output_type": "stream",
     "text": [
      "0 10\n",
      "1 20\n",
      "2 15\n",
      "3 25\n",
      "4 35\n",
      "5 40\n"
     ]
    }
   ],
   "source": [
    "# Index wise iteration\n",
    "for i in range(len(w)):  # i is the index\n",
    "    print(i,w[i])"
   ]
  },
  {
   "cell_type": "code",
   "execution_count": 4,
   "id": "c4015a77",
   "metadata": {},
   "outputs": [
    {
     "name": "stdout",
     "output_type": "stream",
     "text": [
      "a1 10\n",
      "a2 20\n",
      "a3 15\n"
     ]
    }
   ],
   "source": [
    "w1 = {'a1':10,'a2':20,'a3':15}\n",
    "# w1, w1.keys(), w1.value(), w1.items()\n",
    "for i in w1:\n",
    "    print(i,w1[i])  # i = keys, w1[i] = values"
   ]
  },
  {
   "cell_type": "code",
   "execution_count": null,
   "id": "e30b4d12",
   "metadata": {},
   "outputs": [],
   "source": []
  },
  {
   "cell_type": "code",
   "execution_count": null,
   "id": "4aa03ab5",
   "metadata": {},
   "outputs": [],
   "source": []
  },
  {
   "cell_type": "markdown",
   "id": "21c56a2f",
   "metadata": {},
   "source": [
    "### Comprehensions\n",
    "1) It is short-hand syntax to create a list,set or dict\n",
    "\n",
    "\n",
    "List Comprehension\n",
    "\n",
    "Syntax\n",
    "ex1 = [i for i in range(start,end,step)]\n",
    "\n",
    "ex2 = [i for i in range(start,end,step) if condition]\n",
    "\n",
    "ex3 = [i if con1 else something_else for i in range(start,end,step)]\n",
    "\n",
    "Indentataion, colon and  assignment operators are not used inside comprehensions"
   ]
  },
  {
   "cell_type": "code",
   "execution_count": 6,
   "id": "3ce045f8",
   "metadata": {},
   "outputs": [
    {
     "name": "stdout",
     "output_type": "stream",
     "text": [
      "[10, 11, 12, 13, 14, 15, 16, 17, 18, 19]\n"
     ]
    }
   ],
   "source": [
    "r1 = []\n",
    "for i in range(10,20):  # start=10,end=20,step=+1\n",
    "    r1.append(i)\n",
    "print(r1)"
   ]
  },
  {
   "cell_type": "code",
   "execution_count": 9,
   "id": "66ce8df8",
   "metadata": {},
   "outputs": [
    {
     "name": "stdout",
     "output_type": "stream",
     "text": [
      "[10, 11, 12, 13, 14, 15, 16, 17, 18, 19]\n"
     ]
    }
   ],
   "source": [
    "r2 = [i for i in range(10,20)]   # list comprehension\n",
    "print(r2)"
   ]
  },
  {
   "cell_type": "markdown",
   "id": "335266d3",
   "metadata": {},
   "source": [
    "#### Using if in list comprehension"
   ]
  },
  {
   "cell_type": "code",
   "execution_count": 10,
   "id": "93736791",
   "metadata": {},
   "outputs": [
    {
     "name": "stdout",
     "output_type": "stream",
     "text": [
      "[12, 15, 18]\n"
     ]
    }
   ],
   "source": [
    "r3 = []\n",
    "for i in range(10,20):  # start=10,end=20,step=+1\n",
    "    if i%3==0:\n",
    "        r3.append(i)\n",
    "print(r3)"
   ]
  },
  {
   "cell_type": "code",
   "execution_count": 13,
   "id": "5466fc21",
   "metadata": {},
   "outputs": [
    {
     "name": "stdout",
     "output_type": "stream",
     "text": [
      "[12, 15, 18]\n"
     ]
    }
   ],
   "source": [
    "r4 = [i for i in range(10,20) if i%3==0]\n",
    "print(r4)"
   ]
  },
  {
   "cell_type": "markdown",
   "id": "fc521337",
   "metadata": {},
   "source": [
    "#### if-else in list comprehension"
   ]
  },
  {
   "cell_type": "code",
   "execution_count": 14,
   "id": "5d56b893",
   "metadata": {},
   "outputs": [
    {
     "name": "stdout",
     "output_type": "stream",
     "text": [
      "[0, 0, 12, 0, 0, 15, 0, 0, 18, 0]\n"
     ]
    }
   ],
   "source": [
    "r5 = []\n",
    "for i in range(10,20):  # start=10,end=20,step=+1\n",
    "    if i%3==0:\n",
    "        r5.append(i)\n",
    "    else:\n",
    "        r5.append(0)\n",
    "print(r5)"
   ]
  },
  {
   "cell_type": "code",
   "execution_count": 23,
   "id": "402af45b",
   "metadata": {},
   "outputs": [
    {
     "name": "stdout",
     "output_type": "stream",
     "text": [
      "[0, 0, 12, 0, 0, 15, 0, 0, 18, 0]\n"
     ]
    }
   ],
   "source": [
    "r6 = [i if i%3==0 else 0 for i in range(10,20)]\n",
    "print(r6)"
   ]
  },
  {
   "cell_type": "code",
   "execution_count": 27,
   "id": "3ce6840d",
   "metadata": {},
   "outputs": [
    {
     "name": "stdout",
     "output_type": "stream",
     "text": [
      "[50, 0, 3, 0, 0, 3, 0, 0, 3, 0, 50]\n"
     ]
    }
   ],
   "source": [
    "r7 = []\n",
    "for i in range(10,21):  # start=10,end=20,step=+1\n",
    "    if i%3==0:\n",
    "        r7.append(3)\n",
    "    elif i%5==0:\n",
    "        r7.append(50)\n",
    "    else:\n",
    "        r7.append(0)\n",
    "print(r7)"
   ]
  },
  {
   "cell_type": "code",
   "execution_count": 29,
   "id": "1a17caac",
   "metadata": {},
   "outputs": [
    {
     "name": "stdout",
     "output_type": "stream",
     "text": [
      "[50, 0, 3, 0, 0, 3, 0, 0, 3, 0, 50]\n"
     ]
    }
   ],
   "source": [
    "r8 = [3 if i%3==0 else (50 if i%5==0 else 0) for i in range(10,21)]\n",
    "print(r8)"
   ]
  },
  {
   "cell_type": "code",
   "execution_count": 33,
   "id": "85ed5c49",
   "metadata": {},
   "outputs": [
    {
     "name": "stdout",
     "output_type": "stream",
     "text": [
      "[1, 4, 9, 16]\n",
      "{16, 1, 4, 9}\n"
     ]
    }
   ],
   "source": [
    "s1 = [i**2 for i in range(1,5)]  # list comp\n",
    "print(s1)\n",
    "s2 = {i**2 for i in range(1,5)}  # set comp\n",
    "print(s2)"
   ]
  },
  {
   "cell_type": "markdown",
   "id": "8aa5aaa6",
   "metadata": {},
   "source": [
    "#### Dict Comprehension"
   ]
  },
  {
   "cell_type": "code",
   "execution_count": 34,
   "id": "e2ccfc30",
   "metadata": {},
   "outputs": [
    {
     "name": "stdout",
     "output_type": "stream",
     "text": [
      "{1: 1, 2: 4, 3: 9, 4: 16, 5: 25}\n"
     ]
    }
   ],
   "source": [
    "d1 = {}  # emp dict\n",
    "for i in range(1,6):  # i =1,2,3,4,5\n",
    "    d1[i] = i**2\n",
    "print(d1)"
   ]
  },
  {
   "cell_type": "code",
   "execution_count": 35,
   "id": "599fe57f",
   "metadata": {},
   "outputs": [
    {
     "name": "stdout",
     "output_type": "stream",
     "text": [
      "{1: 1, 2: 4, 3: 9, 4: 16, 5: 25}\n"
     ]
    }
   ],
   "source": [
    "d2 = {i : i**2 for i in range(1,6)}\n",
    "print(d2)"
   ]
  },
  {
   "cell_type": "code",
   "execution_count": 37,
   "id": "15d540f0",
   "metadata": {},
   "outputs": [
    {
     "name": "stdout",
     "output_type": "stream",
     "text": [
      "{3: 9, 6: 36}\n"
     ]
    }
   ],
   "source": [
    "d3 = {i : i**2 for i in range(1,7) if i%3==0}\n",
    "print(d3)"
   ]
  },
  {
   "cell_type": "code",
   "execution_count": 43,
   "id": "079b293c",
   "metadata": {},
   "outputs": [
    {
     "name": "stdout",
     "output_type": "stream",
     "text": [
      "['radar', 'madam', 'racecar']\n",
      "['radar', 'madam', 'racecar']\n"
     ]
    }
   ],
   "source": [
    "# Q4) Palindromes\n",
    "words = ['radar','finite','school','madam','fortunate','racecar']\n",
    "\n",
    "p = [i for i in words if i==i[::-1]]\n",
    "print(p)\n",
    "\n",
    "p1 = []\n",
    "for i in words:\n",
    "    if i==i[::-1]:\n",
    "        p1.append(i)\n",
    "print(p1)"
   ]
  },
  {
   "cell_type": "code",
   "execution_count": 51,
   "id": "571be8ff",
   "metadata": {},
   "outputs": [
    {
     "name": "stdout",
     "output_type": "stream",
     "text": [
      "['Australia', 'Europe', 'Argentina']\n",
      "['Australia', 'Europe', 'Argentina']\n",
      "['Australia', 'Europe', 'Argentina']\n"
     ]
    }
   ],
   "source": [
    "# Q5) Find words that start and end with same char\n",
    "words = ['India','Australia','Europe','Argentina','Chile','Japan']\n",
    "\n",
    "w1 = [i for i in words if i[0].lower()==i[-1].lower()]\n",
    "print(w1)\n",
    "\n",
    "w2 = [words[i] for i in range(len(words)) if words[i][0].lower() == words[i][-1].lower()]\n",
    "\n",
    "# for i in range(len(words)) # index wise iteration\n",
    "# for i in words element wise iteration\n",
    "print(w1)\n",
    "print(w2)"
   ]
  },
  {
   "cell_type": "code",
   "execution_count": 5,
   "id": "b297a485",
   "metadata": {},
   "outputs": [],
   "source": [
    "# Q6) Accept a number. Find sum and product digits of a number"
   ]
  },
  {
   "cell_type": "code",
   "execution_count": 8,
   "id": "dac9e3fe",
   "metadata": {},
   "outputs": [
    {
     "name": "stdout",
     "output_type": "stream",
     "text": [
      "1257\n",
      "Sum 15 Prod 70\n"
     ]
    }
   ],
   "source": [
    "n = int(input())  # 1257\n",
    "s = 0\n",
    "p = 1\n",
    "for i in range(len(str(n))):  # str(1257) = len('1257') = 4 => i = 0,1,2,3\n",
    "    s += int(str(n)[i])\n",
    "    p *= int(str(n)[i])\n",
    "print('Sum',s,'Prod',p)"
   ]
  },
  {
   "cell_type": "code",
   "execution_count": 11,
   "id": "ba86b43f",
   "metadata": {},
   "outputs": [
    {
     "name": "stdout",
     "output_type": "stream",
     "text": [
      "8543\n",
      "Sum 20 Prod 480\n"
     ]
    }
   ],
   "source": [
    "n = int(input())  # 1257\n",
    "s,p = 0, 1\n",
    "temp  = n\n",
    "while temp > 0:\n",
    "    rem = temp%10  # rem = remainder\n",
    "    s += rem\n",
    "    p *= rem\n",
    "    temp //= 10\n",
    "print('Sum',s,'Prod',p)\n",
    "# temp = n = 1257\n",
    "# S1 => temp>0 => T, rem=1257%10=7, s=0+7=7, p=1*7=7, temp=1257//10=125\n",
    "# S2 => temp>0=> T, rem = 125%10=5,  s=7+5=12, p=7*5=35, temp=125//10= 12\n",
    "# S3 => temp>0=> T, rem = 12%10=2,  s=12+2=14, p=35*2=70, temp=12//10= 1\n",
    "# S4 => temp>0=> T, rem = 1%10=1,  s=14+1=15, p=70*1=70, temp=1//10= 0"
   ]
  },
  {
   "cell_type": "code",
   "execution_count": 12,
   "id": "fd6348ff",
   "metadata": {},
   "outputs": [],
   "source": [
    "# Q6) Factorial \n",
    "# 5! = 5*4*3*2*1"
   ]
  },
  {
   "cell_type": "code",
   "execution_count": 16,
   "id": "6fbf5023",
   "metadata": {},
   "outputs": [],
   "source": [
    "def fact(n):  # n = 5\n",
    "    f = 1\n",
    "    for i in range(n,0,-1):  # start=5,end=0,step=-1\n",
    "        f = f*i\n",
    "    print('Factorial of',n,'is',f)\n",
    "# i = 1 , f = 1*1 = 1\n",
    "# i = 2 , f = 1*2 = 2\n",
    "# i = 3 , f = 2*3 = 6\n",
    "# i = 4 , f = 6*4 = 24\n",
    "# i = 5 , f = 24*5 = 120"
   ]
  },
  {
   "cell_type": "code",
   "execution_count": 17,
   "id": "4570d5b5",
   "metadata": {},
   "outputs": [
    {
     "name": "stdout",
     "output_type": "stream",
     "text": [
      "Factorial of 5 is 120\n"
     ]
    }
   ],
   "source": [
    "fact(5)"
   ]
  },
  {
   "cell_type": "code",
   "execution_count": null,
   "id": "0357f14e",
   "metadata": {},
   "outputs": [],
   "source": []
  }
 ],
 "metadata": {
  "kernelspec": {
   "display_name": "Python 3 (ipykernel)",
   "language": "python",
   "name": "python3"
  },
  "language_info": {
   "codemirror_mode": {
    "name": "ipython",
    "version": 3
   },
   "file_extension": ".py",
   "mimetype": "text/x-python",
   "name": "python",
   "nbconvert_exporter": "python",
   "pygments_lexer": "ipython3",
   "version": "3.11.7"
  }
 },
 "nbformat": 4,
 "nbformat_minor": 5
}
