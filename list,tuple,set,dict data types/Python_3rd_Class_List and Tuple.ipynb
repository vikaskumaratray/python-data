{
 "cells": [
  {
   "cell_type": "markdown",
   "id": "9ae563da",
   "metadata": {},
   "source": [
    "### List\n",
    "1) List is ordered collection of elements of same or different data types<br>\n",
    "2) List elements are enclosed in square brackets [] and are separated by comma<br>\n",
    "3) List is mutable (can be changed)<br>\n",
    "4) Indexing and slicing is allowed in list<br>\n",
    "5) List can store duplicate elements"
   ]
  },
  {
   "cell_type": "markdown",
   "id": "b82abad8",
   "metadata": {},
   "source": [
    "### Tuple\n",
    "\n",
    "1) Tuple is also an ordered collection of elements of same or different data types<br>\n",
    "2) Tuple elements are represented in () and the elements are separated by comma.<br>\n",
    "3) Tuple is Immutable(cant be changed)<br>\n",
    "4) Indexing and slicing is allowed<br>\n",
    "5) Dupliacte elements are allowed<br>"
   ]
  },
  {
   "cell_type": "markdown",
   "id": "80b1fcea",
   "metadata": {},
   "source": [
    "#### Empty list or tuple Creation"
   ]
  },
  {
   "cell_type": "code",
   "execution_count": 1,
   "id": "c370becf",
   "metadata": {},
   "outputs": [
    {
     "name": "stdout",
     "output_type": "stream",
     "text": [
      "[] <class 'list'>\n",
      "[] <class 'list'>\n",
      "() <class 'tuple'>\n",
      "() <class 'tuple'>\n"
     ]
    }
   ],
   "source": [
    "a1,a2 = [], list()\n",
    "a3,a4 = (), tuple()\n",
    "print(a1,type(a1))\n",
    "print(a2,type(a2))\n",
    "print(a3,type(a3))\n",
    "print(a4,type(a4))"
   ]
  },
  {
   "cell_type": "markdown",
   "id": "9f58c527",
   "metadata": {},
   "source": [
    "#### Examples of list/tuple"
   ]
  },
  {
   "cell_type": "code",
   "execution_count": 2,
   "id": "b1d13999",
   "metadata": {},
   "outputs": [
    {
     "name": "stdout",
     "output_type": "stream",
     "text": [
      "[10, None, 25, 45, 5.7, 'Google'] 6 <class 'list'>\n",
      "(30, 45, 'Hello', None, False) 5 <class 'tuple'>\n"
     ]
    }
   ],
   "source": [
    "w1 = [10,None,25,45,5.7,'Google']\n",
    "w2 = (30,45,'Hello',None,False)\n",
    "print(w1,len(w1),type(w1))\n",
    "print(w2,len(w2),type(w2))"
   ]
  },
  {
   "cell_type": "code",
   "execution_count": 3,
   "id": "dad375fa",
   "metadata": {},
   "outputs": [
    {
     "name": "stdout",
     "output_type": "stream",
     "text": [
      "[20, 30, 40, 35]\n",
      "(5, 7, 12, 25, 46)\n"
     ]
    }
   ],
   "source": [
    "w3 = list([20,30,40,35])\n",
    "print(w3)\n",
    "w4 = tuple((5,7,12,25,46))\n",
    "print(w4)"
   ]
  },
  {
   "cell_type": "code",
   "execution_count": 4,
   "id": "e0133d89",
   "metadata": {},
   "outputs": [
    {
     "name": "stdout",
     "output_type": "stream",
     "text": [
      "40\n",
      "[20, 30, 'Python', 35]\n"
     ]
    }
   ],
   "source": [
    "# List is mutable and tuple is immutable\n",
    "print(w3[2])\n",
    "w3[2] = 'Python'\n",
    "print(w3)   # List is mutable"
   ]
  },
  {
   "cell_type": "code",
   "execution_count": 5,
   "id": "01834d1b",
   "metadata": {},
   "outputs": [
    {
     "name": "stdout",
     "output_type": "stream",
     "text": [
      "25\n"
     ]
    },
    {
     "ename": "TypeError",
     "evalue": "'tuple' object does not support item assignment",
     "output_type": "error",
     "traceback": [
      "\u001b[1;31m---------------------------------------------------------------------------\u001b[0m",
      "\u001b[1;31mTypeError\u001b[0m                                 Traceback (most recent call last)",
      "Cell \u001b[1;32mIn[5], line 2\u001b[0m\n\u001b[0;32m      1\u001b[0m \u001b[38;5;28mprint\u001b[39m(w4[\u001b[38;5;241m3\u001b[39m])\n\u001b[1;32m----> 2\u001b[0m \u001b[43mw4\u001b[49m\u001b[43m[\u001b[49m\u001b[38;5;241;43m3\u001b[39;49m\u001b[43m]\u001b[49m \u001b[38;5;241m=\u001b[39m \u001b[38;5;124m'\u001b[39m\u001b[38;5;124mSQL\u001b[39m\u001b[38;5;124m'\u001b[39m\n\u001b[0;32m      3\u001b[0m \u001b[38;5;28mprint\u001b[39m(w4)  \u001b[38;5;66;03m# tuple is immutable\u001b[39;00m\n",
      "\u001b[1;31mTypeError\u001b[0m: 'tuple' object does not support item assignment"
     ]
    }
   ],
   "source": [
    "print(w4[3])\n",
    "w4[3] = 'SQL'\n",
    "print(w4)  # tuple is immutable"
   ]
  },
  {
   "cell_type": "code",
   "execution_count": 6,
   "id": "2904083e",
   "metadata": {},
   "outputs": [
    {
     "name": "stdout",
     "output_type": "stream",
     "text": [
      "15 35\n",
      "(25, 35, 40, 'SQL', 15)\n"
     ]
    }
   ],
   "source": [
    "#### List Indexing and Slicing\n",
    "a1 = (10,20,'Python',60,15,'SQL',40,35,25)\n",
    "print(a1[4],a1[-2])\n",
    "print(a1[:3:-1])   # end=3,step=-1  "
   ]
  },
  {
   "cell_type": "markdown",
   "id": "5c5a95b6",
   "metadata": {},
   "source": [
    "#### Iteration in List/Tuple"
   ]
  },
  {
   "cell_type": "code",
   "execution_count": 11,
   "id": "eed234ce",
   "metadata": {},
   "outputs": [
    {
     "name": "stdout",
     "output_type": "stream",
     "text": [
      "10 SQL 45 Python "
     ]
    }
   ],
   "source": [
    "r = [10,'SQL',45,'Python']\n",
    "# element wise iteration\n",
    "for i in r:\n",
    "    print(i,end=' ')"
   ]
  },
  {
   "cell_type": "code",
   "execution_count": 12,
   "id": "3b8e596c",
   "metadata": {},
   "outputs": [
    {
     "name": "stdout",
     "output_type": "stream",
     "text": [
      "0 10\n",
      "1 SQL\n",
      "2 45\n",
      "3 Python\n"
     ]
    }
   ],
   "source": [
    "# index wise iteration\n",
    "for i in range(len(r)):\n",
    "    print(i,r[i])"
   ]
  },
  {
   "cell_type": "code",
   "execution_count": 24,
   "id": "c11c4b13",
   "metadata": {},
   "outputs": [],
   "source": [
    "#### Tuple - count, index\n",
    "#### List - count,index, clear, pop,remove, sort, insert, append, extend etc"
   ]
  },
  {
   "cell_type": "markdown",
   "id": "bf022fe9",
   "metadata": {},
   "source": [
    "### Tuple Methods/Functions\n",
    "count(),index()<br>\n",
    "index() - returns the index of 1st occurence of the element from the left"
   ]
  },
  {
   "cell_type": "code",
   "execution_count": 13,
   "id": "4e501455",
   "metadata": {},
   "outputs": [
    {
     "name": "stdout",
     "output_type": "stream",
     "text": [
      "Count function\n",
      "3\n",
      "1\n",
      "3\n",
      "0\n",
      "\n",
      "Index function\n",
      "2\n",
      "3\n",
      "2\n",
      "5\n",
      "5\n"
     ]
    }
   ],
   "source": [
    "w = (10,15,20,25,30,20,25,20,25)\n",
    "print('Count function')\n",
    "print(w.count(20))\n",
    "print(w.count(30))\n",
    "print(w.count(25))\n",
    "print(w.count(18))  # 0\n",
    "print()\n",
    "print('Index function')\n",
    "print(w.index(20))\n",
    "print(w.index(25))\n",
    "print(w.index(20))  # start,end\n",
    "print(w.index(20,3)) # start seraching for 20 from index 3\n",
    "print(w.index(20,w.index(20)+1))"
   ]
  },
  {
   "cell_type": "code",
   "execution_count": 17,
   "id": "8be8f83c",
   "metadata": {},
   "outputs": [
    {
     "name": "stdout",
     "output_type": "stream",
     "text": [
      "2\n",
      "5\n"
     ]
    }
   ],
   "source": [
    "w = (10,15,20,25,30,20,25,20,25)\n",
    "print(w.index(20))  # 2\n",
    "print(w.index(20,w.index(20)+1))  # 5"
   ]
  },
  {
   "cell_type": "code",
   "execution_count": 32,
   "id": "7221bf19",
   "metadata": {},
   "outputs": [
    {
     "name": "stdout",
     "output_type": "stream",
     "text": [
      "2 20\n",
      "5 20\n",
      "7 20\n"
     ]
    }
   ],
   "source": [
    "for i in range(len(w)):\n",
    "    if w[i]==20:\n",
    "        print(i,w[i])"
   ]
  },
  {
   "cell_type": "markdown",
   "id": "97356d4b",
   "metadata": {},
   "source": [
    "### List Functions"
   ]
  },
  {
   "cell_type": "markdown",
   "id": "56693bdd",
   "metadata": {},
   "source": [
    "#### 1) count() and index()"
   ]
  },
  {
   "cell_type": "code",
   "execution_count": 18,
   "id": "fd83d781",
   "metadata": {},
   "outputs": [
    {
     "name": "stdout",
     "output_type": "stream",
     "text": [
      "Count function\n",
      "3\n",
      "1\n",
      "0\n",
      "\n",
      "Index function\n",
      "2\n",
      "3\n"
     ]
    }
   ],
   "source": [
    "w1 = [10,15,20,25,30,20,25,20,25]\n",
    "print('Count function')\n",
    "print(w1.count(20))\n",
    "print(w1.count(30))\n",
    "print(w1.count(52))\n",
    "print()\n",
    "print('Index function')\n",
    "print(w1.index(20))\n",
    "print(w1.index(25))"
   ]
  },
  {
   "cell_type": "markdown",
   "id": "c1102023",
   "metadata": {},
   "source": [
    "#### 3) clear()\n",
    "Empties the list"
   ]
  },
  {
   "cell_type": "code",
   "execution_count": 22,
   "id": "128cac9f",
   "metadata": {},
   "outputs": [
    {
     "name": "stdout",
     "output_type": "stream",
     "text": [
      "[45, 39, 64]\n",
      "[]\n"
     ]
    }
   ],
   "source": [
    "s = [45,39,64]\n",
    "print(s)\n",
    "s.clear()\n",
    "print(s)"
   ]
  },
  {
   "cell_type": "markdown",
   "id": "bb30eeb1",
   "metadata": {},
   "source": [
    "#### 4) pop(index)\n",
    "Removes the list element based on index. If no index is passed last element(from right) is removed. Returns error if index is out of range"
   ]
  },
  {
   "cell_type": "code",
   "execution_count": 28,
   "id": "4325d556",
   "metadata": {},
   "outputs": [
    {
     "name": "stdout",
     "output_type": "stream",
     "text": [
      "[6, 9, 10, 13, 16, 14, 30]\n",
      "[6, 9, 10, 16, 14, 30]\n",
      "[6, 9, 10, 16, 30]\n",
      "[6, 9, 10, 16]\n"
     ]
    },
    {
     "ename": "IndexError",
     "evalue": "pop index out of range",
     "output_type": "error",
     "traceback": [
      "\u001b[1;31m---------------------------------------------------------------------------\u001b[0m",
      "\u001b[1;31mIndexError\u001b[0m                                Traceback (most recent call last)",
      "Cell \u001b[1;32mIn[28], line 9\u001b[0m\n\u001b[0;32m      7\u001b[0m a\u001b[38;5;241m.\u001b[39mpop()   \u001b[38;5;66;03m# removes element at index -1 (last element from right)\u001b[39;00m\n\u001b[0;32m      8\u001b[0m \u001b[38;5;28mprint\u001b[39m(a)\n\u001b[1;32m----> 9\u001b[0m \u001b[43ma\u001b[49m\u001b[38;5;241;43m.\u001b[39;49m\u001b[43mpop\u001b[49m\u001b[43m(\u001b[49m\u001b[38;5;241;43m8\u001b[39;49m\u001b[43m)\u001b[49m  \u001b[38;5;66;03m# err\u001b[39;00m\n\u001b[0;32m     10\u001b[0m \u001b[38;5;28mprint\u001b[39m(a)\n",
      "\u001b[1;31mIndexError\u001b[0m: pop index out of range"
     ]
    }
   ],
   "source": [
    "a = [6,9,10,13,16,14,30]  \n",
    "print(a)\n",
    "a.pop(3)  # removes element at index 3\n",
    "print(a)\n",
    "a.pop(-2) # removes element at index -2\n",
    "print(a)\n",
    "a.pop()   # removes element at index -1 (last element from right)\n",
    "print(a)\n",
    "a.pop(8)  # err\n",
    "print(a)"
   ]
  },
  {
   "cell_type": "markdown",
   "id": "f12db210",
   "metadata": {},
   "source": [
    "#### 6) remove(element)\n",
    "It removes element from the list(first occurence from the left) based on the element passed as an argument. It removes one element at a time."
   ]
  },
  {
   "cell_type": "code",
   "execution_count": 37,
   "id": "10ad3558",
   "metadata": {},
   "outputs": [
    {
     "name": "stdout",
     "output_type": "stream",
     "text": [
      "[6, 9, 10, 13, 16, 13, 'Python', 10, 30, 45]\n",
      "[6, 10, 13, 16, 13, 'Python', 10, 30, 45]\n",
      "[6, 10, 13, 16, 13, 10, 30, 45]\n",
      "[6, 10, 16, 13, 10, 30, 45]\n"
     ]
    }
   ],
   "source": [
    "a = [6,9,10,13,16,13,'Python',10,30,45]\n",
    "print(a)\n",
    "a.remove(9)  # removes first occurence of 9\n",
    "print(a)\n",
    "a.remove('Python') # removes first occurence of 30\n",
    "print(a)\n",
    "a.remove(13) # removes first occurence of 13\n",
    "print(a)\n",
    "# a.remove()    # err\n",
    "# a.remove(78)  # err"
   ]
  },
  {
   "cell_type": "code",
   "execution_count": 44,
   "id": "d3d3a454",
   "metadata": {},
   "outputs": [
    {
     "name": "stdout",
     "output_type": "stream",
     "text": [
      "8 3 12 10 15 9 10 20 "
     ]
    }
   ],
   "source": [
    "# Remove all occurence of a particular elements\n",
    "w1 = [5,8,3,5,12,10,15,9,10,20]\n",
    "# remove all 12 and 5\n",
    "for i in w1:\n",
    "    if i not in [5]:\n",
    "        print(i,end=' ')"
   ]
  },
  {
   "cell_type": "code",
   "execution_count": 52,
   "id": "c5947b29",
   "metadata": {},
   "outputs": [
    {
     "name": "stdout",
     "output_type": "stream",
     "text": [
      "8 3 10 15 9 10 20 "
     ]
    }
   ],
   "source": [
    "w1 = [5,8,3,5,12,10,15,9,10,20]\n",
    "i = 0                # start\n",
    "while i < len(w1):   # end\n",
    "    if w1[i] not in (5,12):\n",
    "        print(w1[i],end=' ')\n",
    "    i += 1           # step"
   ]
  },
  {
   "cell_type": "markdown",
   "id": "91f0cae9",
   "metadata": {},
   "source": [
    "#### 7) insert(index,element)\n",
    "Inserts the element at the specified index"
   ]
  },
  {
   "cell_type": "code",
   "execution_count": 56,
   "id": "9bbd461d",
   "metadata": {},
   "outputs": [
    {
     "name": "stdout",
     "output_type": "stream",
     "text": [
      "[5, 7, 9, 15, 18, 20, 25]\n",
      "[5, 7, 9, 'Python', 15, 18, 20, 25]\n",
      "[5, 7, 9, 'Python', 15, 18, 'SQL', 20, 25]\n",
      "[5, 7, 9, 'Python', 15, 'List', 18, 'SQL', 20, 25]\n",
      "[5, 7, 9, 'Python', 15, 'List', 18, 'SQL', 20, 25, 70]\n",
      "[100, 5, 7, 9, 'Python', 15, 'List', 18, 'SQL', 20, 25, 70]\n"
     ]
    }
   ],
   "source": [
    "w = [5,7,9,15,18,20,25]\n",
    "print(w)\n",
    "w.insert(3,'Python')  # inserts element at index 3\n",
    "print(w)\n",
    "w.insert(6,'SQL')    # inserts element at index 6\n",
    "print(w)\n",
    "w.insert(-4,'List')  # inserts element at index -5\n",
    "print(w)\n",
    "w.insert(15,70)  # inserts element at right end\n",
    "print(w)\n",
    "w.insert(-17,100)  # inserts element at left end\n",
    "print(w)"
   ]
  },
  {
   "cell_type": "code",
   "execution_count": 60,
   "id": "9c8963b8",
   "metadata": {},
   "outputs": [
    {
     "name": "stdout",
     "output_type": "stream",
     "text": [
      "[6, 8, 9, 12, 'Python', 'SQL']\n",
      "[6, 8, 'ML', 12, 'Python', 'SQL']\n"
     ]
    }
   ],
   "source": [
    "num = [6,8,9,12,'Python','SQL']\n",
    "print(num)\n",
    "num[2] = 'ML'\n",
    "print(num)"
   ]
  },
  {
   "cell_type": "code",
   "execution_count": null,
   "id": "ddd7db9e",
   "metadata": {},
   "outputs": [],
   "source": []
  },
  {
   "cell_type": "markdown",
   "id": "4e2a78db",
   "metadata": {},
   "source": [
    "\n",
    "#### 8) sort(reverse)\n",
    "sorts list element in asc or desc order. Reverse is False by default.\n"
   ]
  },
  {
   "cell_type": "code",
   "execution_count": 66,
   "id": "83d93663",
   "metadata": {},
   "outputs": [
    {
     "name": "stdout",
     "output_type": "stream",
     "text": [
      "[5, 8, 4, 1.4, 10, 1.5, 11, 12]\n",
      "[1.4, 1.5, 4, 5, 8, 10, 11, 12]\n",
      "[12, 11, 10, 8, 5, 4, 1.5, 1.4]\n"
     ]
    }
   ],
   "source": [
    "w = [5,8,4,1.4,10,1.5,11,12]\n",
    "print(w)\n",
    "w.sort() # asc order\n",
    "print(w)\n",
    "w.sort(reverse=True)  # desc order\n",
    "print(w) "
   ]
  },
  {
   "cell_type": "code",
   "execution_count": 70,
   "id": "868163de",
   "metadata": {},
   "outputs": [
    {
     "name": "stdout",
     "output_type": "stream",
     "text": [
      "A Z\n",
      "65 90\n"
     ]
    }
   ],
   "source": [
    "#### ASCII Code - American Standard Code for Information Interchange\n",
    "# A-Z = 65-90\n",
    "# a-z = 97-122\n",
    "\n",
    "# chr - returns character for the ASCII code\n",
    "# ord - returns ASCII code for the character code\n",
    "print(chr(65),chr(90))\n",
    "print(ord('A'),ord('Z'))"
   ]
  },
  {
   "cell_type": "code",
   "execution_count": 73,
   "id": "08466e73",
   "metadata": {},
   "outputs": [
    {
     "name": "stdout",
     "output_type": "stream",
     "text": [
      "['Cricket', 'zebra', 'football', 'Tennis', 'Crayons', 'habbit', 'Welcome']\n",
      "['Crayons', 'Cricket', 'Tennis', 'Welcome', 'football', 'habbit', 'zebra']\n",
      "['zebra', 'habbit', 'football', 'Welcome', 'Tennis', 'Cricket', 'Crayons']\n"
     ]
    }
   ],
   "source": [
    "w = ['Cricket','zebra','football','Tennis','Crayons','habbit','Welcome']\n",
    "print(w)\n",
    "w.sort()  # asc order\n",
    "print(w)\n",
    "w.sort(reverse=True)\n",
    "print(w)"
   ]
  },
  {
   "cell_type": "code",
   "execution_count": null,
   "id": "1c4e75c3",
   "metadata": {},
   "outputs": [],
   "source": [
    "# count, index, pop, remove, sort, insert, clear"
   ]
  },
  {
   "cell_type": "code",
   "execution_count": null,
   "id": "f52a258f",
   "metadata": {},
   "outputs": [],
   "source": []
  },
  {
   "cell_type": "markdown",
   "id": "17a2ec75",
   "metadata": {},
   "source": [
    "#### 9) append(element)\n",
    "It adds an element to the end of the list(right end)"
   ]
  },
  {
   "cell_type": "code",
   "execution_count": 79,
   "id": "061da2c3",
   "metadata": {},
   "outputs": [
    {
     "name": "stdout",
     "output_type": "stream",
     "text": [
      "[5, 7]\n",
      "[5, 7, 10]\n",
      "[5, 7, 10, 'SQL']\n"
     ]
    }
   ],
   "source": [
    "w = [5,7]\n",
    "print(w)\n",
    "w.append(10)\n",
    "print(w)\n",
    "w.append('SQL')\n",
    "print(w)"
   ]
  },
  {
   "cell_type": "code",
   "execution_count": 83,
   "id": "7b636a00",
   "metadata": {},
   "outputs": [
    {
     "name": "stdout",
     "output_type": "stream",
     "text": [
      "[5, 8]\n",
      "[5, 8, [10, 14]]\n",
      "3\n",
      "[5, 8, [10, 14], ['Python', 'List']]\n",
      "[5, 8, [10, 14], ['Python', 'List'], 75]\n"
     ]
    }
   ],
   "source": [
    "a = [5,8]\n",
    "print(a)\n",
    "a.append([10,14])\n",
    "print(a)\n",
    "print(len(a))\n",
    "a.append(['Python','List'])\n",
    "print(a)"
   ]
  },
  {
   "cell_type": "code",
   "execution_count": 91,
   "id": "ab4f0f02",
   "metadata": {},
   "outputs": [
    {
     "name": "stdout",
     "output_type": "stream",
     "text": [
      "5 8\n",
      "[10, 14]\n",
      "10 14\n",
      "['Python', 'List']\n",
      "List\n"
     ]
    }
   ],
   "source": [
    "s = [5, 8, [10, 14],['Python', 'List']]\n",
    "print(s[0],s[1])\n",
    "print(s[2])\n",
    "print(s[2][0],s[2][1])\n",
    "print(s[3])\n",
    "print(s[3][1])"
   ]
  },
  {
   "cell_type": "markdown",
   "id": "f947cea1",
   "metadata": {},
   "source": [
    "#### Iterators or iterables\n",
    "Entities on which iteration is possible<br>\n",
    "Examples - str,list(),tuple(),set(),dict(),range() etc"
   ]
  },
  {
   "cell_type": "markdown",
   "id": "2feb15bb",
   "metadata": {},
   "source": [
    "#### 10) extend()\n",
    "It adds an element to the end of the list(right end) from an iterator(adds element of the iterator)"
   ]
  },
  {
   "cell_type": "code",
   "execution_count": 94,
   "id": "ce62f3b0",
   "metadata": {},
   "outputs": [
    {
     "name": "stdout",
     "output_type": "stream",
     "text": [
      "[8, 11]\n"
     ]
    },
    {
     "ename": "TypeError",
     "evalue": "'int' object is not iterable",
     "output_type": "error",
     "traceback": [
      "\u001b[1;31m---------------------------------------------------------------------------\u001b[0m",
      "\u001b[1;31mTypeError\u001b[0m                                 Traceback (most recent call last)",
      "Cell \u001b[1;32mIn[94], line 3\u001b[0m\n\u001b[0;32m      1\u001b[0m b \u001b[38;5;241m=\u001b[39m [\u001b[38;5;241m8\u001b[39m,\u001b[38;5;241m11\u001b[39m]\n\u001b[0;32m      2\u001b[0m \u001b[38;5;28mprint\u001b[39m(b)\n\u001b[1;32m----> 3\u001b[0m \u001b[43mb\u001b[49m\u001b[38;5;241;43m.\u001b[39;49m\u001b[43mextend\u001b[49m\u001b[43m(\u001b[49m\u001b[38;5;241;43m30\u001b[39;49m\u001b[43m)\u001b[49m  \u001b[38;5;66;03m# err => 30 is not an iterable\u001b[39;00m\n\u001b[0;32m      4\u001b[0m \u001b[38;5;28mprint\u001b[39m(b)\n",
      "\u001b[1;31mTypeError\u001b[0m: 'int' object is not iterable"
     ]
    }
   ],
   "source": [
    "b = [8,11]\n",
    "print(b)\n",
    "b.extend(30)  # err => 30 is not an iterable\n",
    "print(b)"
   ]
  },
  {
   "cell_type": "code",
   "execution_count": 95,
   "id": "d89d0e28",
   "metadata": {},
   "outputs": [
    {
     "name": "stdout",
     "output_type": "stream",
     "text": [
      "[4, 8]\n",
      "[4, 8, 10, 12]\n"
     ]
    }
   ],
   "source": [
    "r = [4,8]\n",
    "print(r)\n",
    "r.extend([10,12])  # [10,12] => list => iterator\n",
    "print(r)"
   ]
  },
  {
   "cell_type": "markdown",
   "id": "bb8c3b9a",
   "metadata": {},
   "source": [
    "#### Difference between append and extend"
   ]
  },
  {
   "cell_type": "code",
   "execution_count": 100,
   "id": "c4a78774",
   "metadata": {},
   "outputs": [
    {
     "name": "stdout",
     "output_type": "stream",
     "text": [
      "[10, 15]\n",
      "[10, 15, [5, 7]]\n",
      "[10, 15, [5, 7], 18, 20]\n",
      "[10, 15, [5, 7], 18, 20, 'Python']\n",
      "[10, 15, [5, 7], 18, 20, 'Python', 'S', 'Q', 'L']\n"
     ]
    }
   ],
   "source": [
    "v = [10,15]\n",
    "print(v)\n",
    "v.append([5,7])\n",
    "print(v)\n",
    "v.extend([18,20])  # elements are added at end from inside the iterator\n",
    "print(v)\n",
    "v.append('Python')\n",
    "print(v)\n",
    "v.extend('SQL')   # elements are added at end from inside the iterator\n",
    "print(v)"
   ]
  },
  {
   "cell_type": "code",
   "execution_count": 105,
   "id": "e7be8079",
   "metadata": {},
   "outputs": [
    {
     "name": "stdout",
     "output_type": "stream",
     "text": [
      "[5, 7, 8]\n",
      "[5, 7, 8, 12, [15, 35], 'List']\n"
     ]
    }
   ],
   "source": [
    "w = [5,7,8]\n",
    "print(w)\n",
    "w.extend([12,[15,35],'List']) # elements are added at end from inside the iterator\n",
    "print(w)"
   ]
  },
  {
   "cell_type": "code",
   "execution_count": 112,
   "id": "c95f6e33",
   "metadata": {},
   "outputs": [
    {
     "name": "stdout",
     "output_type": "stream",
     "text": [
      "[10, 20]\n",
      "[10, 20, 'S', 'Q', 'L']\n",
      "[10, 20, 'S', 'Q', 'L', 'Laptop']\n"
     ]
    }
   ],
   "source": [
    "w = [10,20]\n",
    "print(w)\n",
    "w.extend('SQL')  # outer iterable is str \n",
    "print(w)\n",
    "w.extend(['Laptop']) # outer iterable is list\n",
    "print(w)"
   ]
  },
  {
   "cell_type": "code",
   "execution_count": null,
   "id": "4024ad91",
   "metadata": {},
   "outputs": [],
   "source": []
  },
  {
   "cell_type": "code",
   "execution_count": null,
   "id": "7aaa3443",
   "metadata": {},
   "outputs": [],
   "source": []
  },
  {
   "cell_type": "markdown",
   "id": "30da0045",
   "metadata": {},
   "source": [
    "#### Populate an empty list"
   ]
  },
  {
   "cell_type": "markdown",
   "id": "4882f7d4",
   "metadata": {},
   "source": [
    "#### Generate a list containing all even numbers between 30 and 50 (both inclusive)"
   ]
  },
  {
   "cell_type": "code",
   "execution_count": 2,
   "id": "f4df70e7",
   "metadata": {},
   "outputs": [
    {
     "name": "stdout",
     "output_type": "stream",
     "text": [
      "[31, 33, 35, 37, 39, 41, 43, 45, 47, 49]\n"
     ]
    }
   ],
   "source": [
    "t = [] # empty list\n",
    "for i in range(31,51,2):  # start=31,end=51,step=+2\n",
    "    t.append(i)\n",
    "print(t)"
   ]
  },
  {
   "cell_type": "markdown",
   "id": "5a430c54",
   "metadata": {},
   "source": [
    "#### Q1) Seperate even and odd numbers from the below list. Store result in separate list.\n",
    "num = [7,12,5,15,8,10,18,3,20]\n",
    "\n",
    "#### Q2) Accept a list of Fruits from user(in lower case) and print even index fruits in upper case and odd index fruits in lower case.\n",
    "\n",
    "\n",
    "#### Q3) For the given list, find all the even elements present at the odd index. Store result in a list\n",
    "\n",
    "w = [24,57,78,25,83,95,24,80,21,20,24,27]\n",
    "\n",
    "#### Q4) Find all pair of 2 numbers whose sum when add becomes 20 from the given list\n",
    "w = [8,2,11,10,9,12,6,21,5,4]"
   ]
  },
  {
   "cell_type": "code",
   "execution_count": 119,
   "id": "8132a0f5",
   "metadata": {},
   "outputs": [
    {
     "name": "stdout",
     "output_type": "stream",
     "text": [
      "Even [12, 8, 10, 18, 20]\n",
      "Odd [7, 5, 15, 3]\n"
     ]
    }
   ],
   "source": [
    "# Q1\n",
    "num = [7,12,5,15,8,10,18,3,20]\n",
    "even, odd = [],[]\n",
    "for i in num:\n",
    "    if i%2==0 :\n",
    "        even.append(i)\n",
    "    else:\n",
    "        odd.append(i)\n",
    "print('Even',even)\n",
    "print('Odd',odd)"
   ]
  },
  {
   "cell_type": "code",
   "execution_count": 4,
   "id": "4b84f80a",
   "metadata": {},
   "outputs": [
    {
     "name": "stdout",
     "output_type": "stream",
     "text": [
      "MANGO\n",
      "apple\n",
      "AVACADO\n",
      "orange\n",
      "WATERMELON\n",
      "grapes\n"
     ]
    }
   ],
   "source": [
    "# Q2) \n",
    "fruits = ['mango','apple','avacado','orange','watermelon','grapes']\n",
    "for i in range(len(fruits)):\n",
    "    if i%2==0:\n",
    "        print(fruits[i].upper())\n",
    "    else:\n",
    "        print(fruits[i].lower())"
   ]
  },
  {
   "cell_type": "code",
   "execution_count": 7,
   "id": "8e0ec420",
   "metadata": {},
   "outputs": [
    {
     "name": "stdout",
     "output_type": "stream",
     "text": [
      "[80, 20]\n"
     ]
    }
   ],
   "source": [
    "# Q3) # find even elements at odd index\n",
    "w = [24,57,78,25,83,95,24,80,21,20,24,27]\n",
    "res =  []\n",
    "for i in range(len(w)):\n",
    "    if i%2!=0 :         # odd index\n",
    "        if w[i]%2==0 :  # even element/num\n",
    "            res.append(w[i])\n",
    "print(res)"
   ]
  },
  {
   "cell_type": "code",
   "execution_count": 9,
   "id": "e808f487",
   "metadata": {},
   "outputs": [
    {
     "name": "stdout",
     "output_type": "stream",
     "text": [
      "i 1 j 1\n",
      "i 1 j 2\n",
      "i 1 j 3\n",
      "i 2 j 1\n",
      "i 2 j 2\n",
      "i 2 j 3\n",
      "i 3 j 1\n",
      "i 3 j 2\n",
      "i 3 j 3\n"
     ]
    }
   ],
   "source": [
    "for i in range(1,4):      # i = 1,2,3\n",
    "    for j in range(1,4):  # j =1,2,3\n",
    "        print('i',i,'j',j)"
   ]
  },
  {
   "cell_type": "code",
   "execution_count": 11,
   "id": "0eedf041",
   "metadata": {},
   "outputs": [
    {
     "name": "stdout",
     "output_type": "stream",
     "text": [
      "(8, 12) (11, 9) (10, 10) (9, 11) (12, 8) "
     ]
    }
   ],
   "source": [
    "# Q4) \n",
    "w = [8,2,11,10,9,12,6,21,5,4]\n",
    "for i in w:               \n",
    "    for j in w:\n",
    "        if i+j == 20:\n",
    "            print((i,j),end=' ')"
   ]
  },
  {
   "cell_type": "code",
   "execution_count": 12,
   "id": "71628541",
   "metadata": {},
   "outputs": [
    {
     "name": "stdout",
     "output_type": "stream",
     "text": [
      "[(8, 12), (11, 9), (10, 10), (9, 11), (12, 8)]\n"
     ]
    }
   ],
   "source": [
    "w = [8,2,11,10,9,12,6,21,5,4]\n",
    "sum20  = []\n",
    "for i in w:               \n",
    "    for j in w:\n",
    "        if i+j == 20:\n",
    "            sum20.append((i,j))\n",
    "print(sum20)"
   ]
  },
  {
   "cell_type": "code",
   "execution_count": null,
   "id": "0da57722",
   "metadata": {},
   "outputs": [],
   "source": []
  },
  {
   "cell_type": "markdown",
   "id": "84027101",
   "metadata": {},
   "source": [
    "#### List/Tuple Properties\n",
    "\n",
    "1) List/Tuple can be concatenated by + operator.<br>\n",
    "2) List/Tuple elements can be repeated with * operator."
   ]
  },
  {
   "cell_type": "code",
   "execution_count": 16,
   "id": "2dfb6a0a",
   "metadata": {},
   "outputs": [
    {
     "name": "stdout",
     "output_type": "stream",
     "text": [
      "(1, 2, 3, 7, 10)\n",
      "(1, 2, 3, 1, 2, 3)\n"
     ]
    }
   ],
   "source": [
    "a,b = (1,2,3),(7,10)\n",
    "print(a+b)  # concatenation\n",
    "print(a*2)  # repeatition => repeat list 2 times"
   ]
  },
  {
   "cell_type": "code",
   "execution_count": null,
   "id": "af279ffc",
   "metadata": {},
   "outputs": [],
   "source": []
  },
  {
   "cell_type": "code",
   "execution_count": null,
   "id": "bf0c3e20",
   "metadata": {},
   "outputs": [],
   "source": []
  }
 ],
 "metadata": {
  "kernelspec": {
   "display_name": "Python 3 (ipykernel)",
   "language": "python",
   "name": "python3"
  },
  "language_info": {
   "codemirror_mode": {
    "name": "ipython",
    "version": 3
   },
   "file_extension": ".py",
   "mimetype": "text/x-python",
   "name": "python",
   "nbconvert_exporter": "python",
   "pygments_lexer": "ipython3",
   "version": "3.11.7"
  }
 },
 "nbformat": 4,
 "nbformat_minor": 5
}
