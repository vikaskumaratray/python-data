{
 "cells": [
  {
   "cell_type": "code",
   "execution_count": null,
   "id": "2d82526d",
   "metadata": {},
   "outputs": [],
   "source": [
    "# Variables\n",
    "# Data Types\n",
    "# Operators\n",
    "# Indeixing and Slicing\n",
    "# String functions\n",
    "# conditional statements\n",
    "# for and while loop\n",
    "# list, tuple, set, dict - functions\n",
    "# user defined functions\n",
    "# lambda, map, filter\n"
   ]
  },
  {
   "cell_type": "code",
   "execution_count": null,
   "id": "baf35058",
   "metadata": {},
   "outputs": [],
   "source": [
    "# Python Introduction\n",
    "# Jupyter shortcuts\n"
   ]
  },
  {
   "cell_type": "markdown",
   "id": "cbc80b5f",
   "metadata": {},
   "source": [
    "#### IDE (Integrated Development Environment)\n",
    "<pre>\n",
    "1) Jupyter\n",
    "2) Google Colab\n",
    "3) VS Code\n",
    "4) PyCharm\n",
    "5) Sublime\n",
    "</pre>"
   ]
  },
  {
   "cell_type": "markdown",
   "id": "cd48e679",
   "metadata": {},
   "source": [
    "# Heading1\n",
    "## Heading2\n",
    "### Heading3\n",
    "#### Heading4\n",
    "##### Heading5"
   ]
  },
  {
   "cell_type": "markdown",
   "id": "31d2be44",
   "metadata": {},
   "source": [
    "#### Jupyter Keyboard Shortcuts\n",
    "<pre>\n",
    "1) Execute a cell - Run or Shift + Enter\n",
    "2) Add a cell above the current cell - A\n",
    "3) Add a cell below the current cell - B\n",
    "4) Delete the current cell - Double D\n",
    "5) Markdown cell - M\n",
    "6) Code cell - Y\n",
    "</pre>"
   ]
  },
  {
   "cell_type": "code",
   "execution_count": 90,
   "id": "1f209234",
   "metadata": {},
   "outputs": [
    {
     "name": "stdout",
     "output_type": "stream",
     "text": [
      "7\n"
     ]
    }
   ],
   "source": [
    "a = 7\n",
    "print(a)"
   ]
  },
  {
   "cell_type": "markdown",
   "id": "393b9470",
   "metadata": {},
   "source": [
    "#### Features of Python\n",
    "1) High level language<br>\n",
    "2) It is interpreted language.<br>\n",
    "3) It follows OOPC(Object Oriented Programming Concpets) principles.<br>\n",
    "4) It is dynamically typed.<br>\n",
    "5) Case sensitive.<br>\n",
    "6) Open Source with large community.<br>\n",
    "7) Simple syntax."
   ]
  },
  {
   "cell_type": "code",
   "execution_count": null,
   "id": "a1a86382",
   "metadata": {},
   "outputs": [],
   "source": [
    "# Excel, SQL, Tableau, Power BI\n",
    "\n",
    "# Python, Stats, ML, Deep Learning - Python\n",
    "\n",
    "# Applications\n",
    "\n",
    "# Data Analysis\n",
    "# Machine Learning\n",
    "# Artificial Intelligence /Deep Learning\n",
    "# Generative AI (Chatgpt)\n",
    "# Web Develeopment\n",
    "# Web Scraping\n",
    "# Cypto Mining\n",
    "# Networking\n",
    "# Automation code"
   ]
  },
  {
   "cell_type": "code",
   "execution_count": null,
   "id": "cba976b7",
   "metadata": {},
   "outputs": [],
   "source": []
  },
  {
   "cell_type": "markdown",
   "id": "f0ae294a",
   "metadata": {},
   "source": [
    "#### Variables\n",
    "<pre>\n",
    "1) Entity which is use to store some data. Data can be of any data type.\n",
    "2) A variable can be reassigned, reinitialized and redeclared.\n",
    "3) Multiple variables can be created in a same line separated by comma.\n",
    "</pre>"
   ]
  },
  {
   "cell_type": "code",
   "execution_count": 4,
   "id": "180e2b88",
   "metadata": {},
   "outputs": [],
   "source": [
    "# SQL - data store - database - table - row and columns"
   ]
  },
  {
   "cell_type": "code",
   "execution_count": 3,
   "id": "9925e41b",
   "metadata": {},
   "outputs": [
    {
     "name": "stdout",
     "output_type": "stream",
     "text": [
      "20\n"
     ]
    }
   ],
   "source": [
    "n = 20\n",
    "print(n)\n",
    "\n",
    "# 1) value of 20 is stored in varaible n\n",
    "# 2) variable n is initialized with the value of 20.\n",
    "# 2) variable n is assigned with the value of 20."
   ]
  },
  {
   "cell_type": "code",
   "execution_count": 5,
   "id": "6b14555b",
   "metadata": {},
   "outputs": [
    {
     "name": "stdout",
     "output_type": "stream",
     "text": [
      "20\n"
     ]
    }
   ],
   "source": [
    "print(n)"
   ]
  },
  {
   "cell_type": "code",
   "execution_count": 6,
   "id": "96c3d3ac",
   "metadata": {},
   "outputs": [
    {
     "name": "stdout",
     "output_type": "stream",
     "text": [
      "Hello\n",
      "45\n"
     ]
    }
   ],
   "source": [
    "# A variable can be reassigned, reinitialized and redeclared.\n",
    "n = \"Hello\"\n",
    "print(n)\n",
    "n = 45\n",
    "print(n)"
   ]
  },
  {
   "cell_type": "code",
   "execution_count": 7,
   "id": "9c210e82",
   "metadata": {},
   "outputs": [
    {
     "name": "stdout",
     "output_type": "stream",
     "text": [
      "45\n"
     ]
    }
   ],
   "source": [
    "print(n)"
   ]
  },
  {
   "cell_type": "code",
   "execution_count": 8,
   "id": "76f81d04",
   "metadata": {},
   "outputs": [
    {
     "name": "stdout",
     "output_type": "stream",
     "text": [
      "10 7 18\n"
     ]
    }
   ],
   "source": [
    "# Multiple variables can be created in a same line separated by comma.\n",
    "n1,n2,n3 = 10,7,18\n",
    "print(n1,n2,n3)\n",
    "\n",
    "print()  # () - parenethesis/round brackets"
   ]
  },
  {
   "cell_type": "markdown",
   "id": "0b2d3289",
   "metadata": {},
   "source": [
    "### Rules for naming a variable\n",
    "<pre>\n",
    "1) Should start with A-Z, a-z or _(underscore)\n",
    "2) Should not start with number\n",
    "3) Should not contain space in between\n",
    "4) Should not contain special characters\n",
    "5) Python keywords should be avoided as variable name.\n",
    "Examples of Python keywords - if,else,for,in,not,and,print,type,min,max etc\n",
    "\n",
    "</pre>"
   ]
  },
  {
   "cell_type": "code",
   "execution_count": 9,
   "id": "8152b198",
   "metadata": {},
   "outputs": [
    {
     "name": "stdout",
     "output_type": "stream",
     "text": [
      "Python\n"
     ]
    }
   ],
   "source": [
    "fdvf435dav = \"Python\"\n",
    "print(fdvf435dav)"
   ]
  },
  {
   "cell_type": "code",
   "execution_count": 10,
   "id": "4a682d9a",
   "metadata": {},
   "outputs": [
    {
     "ename": "SyntaxError",
     "evalue": "invalid syntax (3138664716.py, line 1)",
     "output_type": "error",
     "traceback": [
      "\u001b[1;36m  Cell \u001b[1;32mIn[10], line 1\u001b[1;36m\u001b[0m\n\u001b[1;33m    435jdsncfdv = \"Laptop\"\u001b[0m\n\u001b[1;37m        ^\u001b[0m\n\u001b[1;31mSyntaxError\u001b[0m\u001b[1;31m:\u001b[0m invalid syntax\n"
     ]
    }
   ],
   "source": [
    "435jdsncfdv = \"Laptop\"\n",
    "print(435jdsncfdv)"
   ]
  },
  {
   "cell_type": "code",
   "execution_count": 11,
   "id": "c99ff3bd",
   "metadata": {},
   "outputs": [
    {
     "name": "stdout",
     "output_type": "stream",
     "text": [
      "423543\n"
     ]
    }
   ],
   "source": [
    "_ABC3t355fd = 423543\n",
    "print(_ABC3t355fd)"
   ]
  },
  {
   "cell_type": "code",
   "execution_count": 13,
   "id": "a214ccdb",
   "metadata": {},
   "outputs": [
    {
     "name": "stdout",
     "output_type": "stream",
     "text": [
      "kartik sharma\n"
     ]
    }
   ],
   "source": [
    "user_name = \"kartik sharma\"\n",
    "print(user_name)"
   ]
  },
  {
   "cell_type": "markdown",
   "id": "e55f1fb2",
   "metadata": {},
   "source": [
    "#### Dynamically Typed\n",
    "Data Type of a variable is defined at run time."
   ]
  },
  {
   "cell_type": "code",
   "execution_count": 88,
   "id": "cd8f4448",
   "metadata": {},
   "outputs": [
    {
     "name": "stdout",
     "output_type": "stream",
     "text": [
      "7.8\n"
     ]
    },
    {
     "data": {
      "text/plain": [
       "float"
      ]
     },
     "execution_count": 88,
     "metadata": {},
     "output_type": "execute_result"
    }
   ],
   "source": [
    "m = 7.8\n",
    "print(m)\n",
    "type(m)"
   ]
  },
  {
   "cell_type": "markdown",
   "id": "0dd7a8af",
   "metadata": {},
   "source": [
    "#### Data Types - int, float, bool, str, None"
   ]
  },
  {
   "cell_type": "code",
   "execution_count": 18,
   "id": "dfa65ed5",
   "metadata": {},
   "outputs": [
    {
     "name": "stdout",
     "output_type": "stream",
     "text": [
      "56456342\n",
      "<class 'int'>\n"
     ]
    }
   ],
   "source": [
    "a1 = 56456342\n",
    "print(a1)\n",
    "print(type(a1))"
   ]
  },
  {
   "cell_type": "code",
   "execution_count": 19,
   "id": "88ddefa3",
   "metadata": {},
   "outputs": [
    {
     "name": "stdout",
     "output_type": "stream",
     "text": [
      "4.5\n",
      "<class 'float'>\n"
     ]
    }
   ],
   "source": [
    "a2 = 4.5\n",
    "print(a2)\n",
    "print(type(a2))  "
   ]
  },
  {
   "cell_type": "code",
   "execution_count": 21,
   "id": "1d72b553",
   "metadata": {},
   "outputs": [
    {
     "name": "stdout",
     "output_type": "stream",
     "text": [
      "True\n",
      "<class 'bool'>\n"
     ]
    }
   ],
   "source": [
    "a3 = True  # False\n",
    "print(a3)\n",
    "print(type(a3))"
   ]
  },
  {
   "cell_type": "markdown",
   "id": "a84178fc",
   "metadata": {},
   "source": [
    "#### Str\n",
    "<pre>\n",
    "1) They are enlclosed in single , double or triple quotes\n",
    "2) Multiline str are enclosed in triple quotes\n",
    "    Single Quotes - ' '\n",
    "    Double Quotes - \" \"\n",
    "    Triple Quotes - \"\"\" \"\"\" or ''' '''\n",
    "</pre>    "
   ]
  },
  {
   "cell_type": "code",
   "execution_count": 22,
   "id": "52a7da20",
   "metadata": {},
   "outputs": [
    {
     "name": "stdout",
     "output_type": "stream",
     "text": [
      "<class 'str'>\n",
      "<class 'str'>\n"
     ]
    }
   ],
   "source": [
    "a4 = \"Python\"\n",
    "a5 = 'Hello'\n",
    "print(type(a4))\n",
    "print(type(a5))"
   ]
  },
  {
   "cell_type": "code",
   "execution_count": 26,
   "id": "4b8242cd",
   "metadata": {},
   "outputs": [
    {
     "name": "stdout",
     "output_type": "stream",
     "text": [
      "Learning Python and Data Analysis. Mastering Data analysis \n",
      "tools like SQL, Python, Excel, Tableau\n"
     ]
    }
   ],
   "source": [
    "a6 = '''Learning Python and Data Analysis. Mastering Data analysis \n",
    "tools like SQL, Python, Excel, Tableau'''\n",
    "print(a6)"
   ]
  },
  {
   "cell_type": "code",
   "execution_count": 28,
   "id": "06bb8c70",
   "metadata": {},
   "outputs": [
    {
     "name": "stdout",
     "output_type": "stream",
     "text": [
      "hello World\n"
     ]
    }
   ],
   "source": [
    "a7 = \"hello World\"\n",
    "print(a7)"
   ]
  },
  {
   "cell_type": "code",
   "execution_count": 29,
   "id": "9bf1d70c",
   "metadata": {},
   "outputs": [
    {
     "name": "stdout",
     "output_type": "stream",
     "text": [
      "None\n",
      "<class 'NoneType'>\n"
     ]
    }
   ],
   "source": [
    "a8 = None\n",
    "print(a8)\n",
    "print(type(a8))"
   ]
  },
  {
   "cell_type": "code",
   "execution_count": 28,
   "id": "3ad901f1",
   "metadata": {},
   "outputs": [
    {
     "name": "stdout",
     "output_type": "stream",
     "text": [
      "(5+7j)\n",
      "<class 'complex'>\n"
     ]
    }
   ],
   "source": [
    "# a + ib\n",
    "a9 = 5 + 7j    # 5 = real part, 7 = imaginary part\n",
    "print(a9)\n",
    "print(type(a9))  # signal processing"
   ]
  },
  {
   "cell_type": "code",
   "execution_count": 30,
   "id": "cafc20c6",
   "metadata": {},
   "outputs": [
    {
     "name": "stdout",
     "output_type": "stream",
     "text": [
      "53000.0\n"
     ]
    }
   ],
   "source": [
    "a10  = 5.3e4   # 53*10^(4)\n",
    "print(a10)"
   ]
  },
  {
   "cell_type": "code",
   "execution_count": null,
   "id": "274fe83a",
   "metadata": {},
   "outputs": [],
   "source": []
  },
  {
   "cell_type": "markdown",
   "id": "56e3a4ea",
   "metadata": {},
   "source": [
    "Note\n",
    "1) int, float, bool, Str, None - all these data types can only store one value in a variable"
   ]
  },
  {
   "cell_type": "code",
   "execution_count": null,
   "id": "876f8075",
   "metadata": {},
   "outputs": [],
   "source": []
  },
  {
   "cell_type": "code",
   "execution_count": null,
   "id": "6d38c4ad",
   "metadata": {},
   "outputs": [],
   "source": [
    "# list, tuple, set, dictionary"
   ]
  },
  {
   "cell_type": "markdown",
   "id": "5bf8aefb",
   "metadata": {},
   "source": [
    "#### Operators\n",
    "Used to perform some operation on operands\n",
    "\n",
    "5+4 => 5 and 4 are operands and + is operator"
   ]
  },
  {
   "cell_type": "markdown",
   "id": "da5fd2d5",
   "metadata": {},
   "source": [
    "#### 1) Arithmetic Operators"
   ]
  },
  {
   "cell_type": "code",
   "execution_count": 40,
   "id": "3ca8d7dc",
   "metadata": {},
   "outputs": [
    {
     "name": "stdout",
     "output_type": "stream",
     "text": [
      "5 2\n",
      "7\n",
      "3\n",
      "10\n",
      "2.5\n",
      "2\n",
      "25\n",
      "32\n",
      "1\n"
     ]
    }
   ],
   "source": [
    "a,b = 5,2\n",
    "print(a,b)\n",
    "print(a+b)\n",
    "print(a-b)\n",
    "print(a*b)\n",
    "print(a/b)   # normal division => return float\n",
    "print(a//b)  # int division \n",
    "print(a**b)  # ** => power operation => a raised to power of b => 5*5\n",
    "print(b**a)  # b raised to power of a => 2*2*2*2*2\n",
    "print(a%b)   # % => mod operation => returns remainder"
   ]
  },
  {
   "cell_type": "code",
   "execution_count": 39,
   "id": "c0e73234",
   "metadata": {},
   "outputs": [
    {
     "name": "stdout",
     "output_type": "stream",
     "text": [
      "2\n",
      "2.0\n",
      "2\n"
     ]
    }
   ],
   "source": [
    "print(4//2)\n",
    "print(4.2//2)\n",
    "print(5//2)"
   ]
  },
  {
   "cell_type": "markdown",
   "id": "6c83bc32",
   "metadata": {},
   "source": [
    "#### 2) Assignment Operators"
   ]
  },
  {
   "cell_type": "code",
   "execution_count": 46,
   "id": "f135fef5",
   "metadata": {},
   "outputs": [
    {
     "name": "stdout",
     "output_type": "stream",
     "text": [
      "5 2\n",
      "7 2\n",
      "5 2\n",
      "5 10\n",
      "0.5 10\n"
     ]
    }
   ],
   "source": [
    "a,b = 5,2   # = is assignemnt operator\n",
    "print(a,b)\n",
    "a += b   # a = a+b\n",
    "print(a,b)\n",
    "a -= b   # a = a-b\n",
    "print(a,b)\n",
    "b *= a   # b = b*a\n",
    "print(a,b)\n",
    "a /= b   # a = a/b\n",
    "print(a,b)"
   ]
  },
  {
   "cell_type": "code",
   "execution_count": 53,
   "id": "1884bea2",
   "metadata": {},
   "outputs": [
    {
     "name": "stdout",
     "output_type": "stream",
     "text": [
      "5 2\n",
      "25 2\n",
      "1 2\n"
     ]
    }
   ],
   "source": [
    "a,b = 5,2\n",
    "print(a,b)\n",
    "a **= b  #  a = a**b\n",
    "print(a,b)\n",
    "a %= b  #  a = a%b => remainder\n",
    "print(a,b)"
   ]
  },
  {
   "cell_type": "code",
   "execution_count": 78,
   "id": "bc31843b",
   "metadata": {},
   "outputs": [
    {
     "name": "stdout",
     "output_type": "stream",
     "text": [
      "5 8\n",
      "13 8\n"
     ]
    }
   ],
   "source": [
    "q,w = 5,8\n",
    "print(q,w)\n",
    "q = q + w   # q += w\n",
    "print(q,w)"
   ]
  },
  {
   "cell_type": "code",
   "execution_count": null,
   "id": "387f9170",
   "metadata": {},
   "outputs": [],
   "source": []
  },
  {
   "cell_type": "markdown",
   "id": "f6aa9c20",
   "metadata": {},
   "source": [
    "#### 3) Relational/Comparison Operators\n",
    "They return True or False"
   ]
  },
  {
   "cell_type": "code",
   "execution_count": 56,
   "id": "48931dbe",
   "metadata": {},
   "outputs": [
    {
     "name": "stdout",
     "output_type": "stream",
     "text": [
      "False\n",
      "True\n",
      "False\n",
      "True\n",
      "False\n",
      "True\n"
     ]
    }
   ],
   "source": [
    "a,b,c = 10, 15,12\n",
    "print(a>b)  # F\n",
    "print(b>=a) # T\n",
    "print(c<a)  # F\n",
    "print(a<=c) # T\n",
    "print(a==b)  # equal to => Is a equal to b\n",
    "print(a!=b)  # not equal to => Is a not equal to b"
   ]
  },
  {
   "cell_type": "markdown",
   "id": "e55707af",
   "metadata": {},
   "source": [
    "#### 4) Logical Operator\n",
    "They return T or F\n",
    "<pre>\n",
    "and - Returns True when both the conditions are T, otherwsie F\n",
    "or - Returns True when either of the conditions are T, otherwsie F\n",
    "</pre>"
   ]
  },
  {
   "cell_type": "code",
   "execution_count": 23,
   "id": "7fad946f",
   "metadata": {},
   "outputs": [
    {
     "name": "stdout",
     "output_type": "stream",
     "text": [
      "False\n",
      "True\n",
      "True\n",
      "False\n",
      "True\n"
     ]
    }
   ],
   "source": [
    "x,y,z = 20,40,35\n",
    "print(x>y and y>z)\n",
    "print(x!=y and y>z)\n",
    "print(x<z or y<z)\n",
    "print(y<z or x>=z)\n",
    "print((x<y or y>z) and x%2==0)"
   ]
  },
  {
   "cell_type": "markdown",
   "id": "ac7da4cd",
   "metadata": {},
   "source": [
    "#### 5) Membership Operators - in, not in\n",
    "1) They return T or F<br>\n",
    "2) Can be applied to str, list, tuple, dict, set<br>\n",
    "3) cant be applied on int,float,bool,None data types"
   ]
  },
  {
   "cell_type": "code",
   "execution_count": 73,
   "id": "aaf3c6bd",
   "metadata": {},
   "outputs": [
    {
     "name": "stdout",
     "output_type": "stream",
     "text": [
      "True\n",
      "True\n",
      "False\n",
      "True\n",
      "False\n",
      "True\n"
     ]
    }
   ],
   "source": [
    "# substring => part of string\n",
    "s = \"Learning Python and Data Analysis\"\n",
    "print('Python' in s)\n",
    "print('on an' in s)\n",
    "print('data' in s)\n",
    "print('where' not in s)\n",
    "print('ing' not in s)\n",
    "print('nd Da' in s)"
   ]
  },
  {
   "cell_type": "markdown",
   "id": "605c6e78",
   "metadata": {},
   "source": [
    "### 6) Bitwise Operators\n",
    "Used to represent number in format of bits - 0 and 1"
   ]
  },
  {
   "cell_type": "code",
   "execution_count": null,
   "id": "6c79ba70",
   "metadata": {},
   "outputs": [],
   "source": [
    "# Decimal    Binary\n",
    "# 0            0\n",
    "# 1            01\n",
    "# 2            10\n",
    "# 3            110\n",
    "# 4            100\n",
    "# 5            101\n",
    "# ....\n",
    "\n",
    "\n",
    "# 5 - (2**)  + (2**1)  + (2**0)"
   ]
  },
  {
   "cell_type": "code",
   "execution_count": 2,
   "id": "200c4558",
   "metadata": {},
   "outputs": [
    {
     "data": {
      "text/plain": [
       "5"
      ]
     },
     "execution_count": 2,
     "metadata": {},
     "output_type": "execute_result"
    }
   ],
   "source": [
    "# 101 = 1*(2**2) +  0*(2**1) + 1*(2**0)\n",
    "1*(2**2) +  0*(2**1) + 1*(2**0)\n",
    "\n"
   ]
  },
  {
   "cell_type": "code",
   "execution_count": 4,
   "id": "ba17b2e1",
   "metadata": {},
   "outputs": [
    {
     "name": "stdout",
     "output_type": "stream",
     "text": [
      "0b101\n",
      "0b11000\n"
     ]
    }
   ],
   "source": [
    "print(bin(5))\n",
    "print(bin(24))  # 11000 =  1*(2**4) + 1*(2**3)  + 0*(2**2) + 0*(2**1) +  0*(2**0)"
   ]
  },
  {
   "cell_type": "code",
   "execution_count": 5,
   "id": "8ffafa12",
   "metadata": {},
   "outputs": [
    {
     "data": {
      "text/plain": [
       "24"
      ]
     },
     "execution_count": 5,
     "metadata": {},
     "output_type": "execute_result"
    }
   ],
   "source": [
    "1*(2**4) + 1*(2**3)  + 0*(2**2) + 0*(2**1) +  0*(2**0)"
   ]
  },
  {
   "cell_type": "code",
   "execution_count": 7,
   "id": "89f655f8",
   "metadata": {},
   "outputs": [
    {
     "name": "stdout",
     "output_type": "stream",
     "text": [
      "0b111111010110000\n"
     ]
    }
   ],
   "source": [
    "print(bin(32432))"
   ]
  },
  {
   "cell_type": "code",
   "execution_count": 8,
   "id": "252042c0",
   "metadata": {},
   "outputs": [],
   "source": [
    "# 2 | 24  - 0 \n",
    "# 2 | 12  - 0\n",
    "# 2 | 6  -  0\n",
    "# 2 | 3  -  1\n",
    "# 2 | 1  \n",
    "\n",
    "\n",
    "# & - and - both T,=> res T, otherwise = F\n",
    "# |- and - any one is  T,=> res T, otherwise = F"
   ]
  },
  {
   "cell_type": "code",
   "execution_count": 11,
   "id": "7d1910cf",
   "metadata": {},
   "outputs": [
    {
     "data": {
      "text/plain": [
       "'0b1110'"
      ]
     },
     "execution_count": 11,
     "metadata": {},
     "output_type": "execute_result"
    }
   ],
   "source": [
    "bin(14)"
   ]
  },
  {
   "cell_type": "code",
   "execution_count": 13,
   "id": "776e5986",
   "metadata": {},
   "outputs": [
    {
     "name": "stdout",
     "output_type": "stream",
     "text": [
      "4\n",
      "15\n",
      "11\n"
     ]
    }
   ],
   "source": [
    "# T - 1, F - 0\n",
    "a = 5     #   0 0 1 0 1\n",
    "b = 14    #   0 1 1 1 0\n",
    "\n",
    "print(a & b) # 0 0 1 0 0       # bitwise AND\n",
    "print(a | b) # 0 1 1 1 1       # bitwise OR\n",
    "print(a ^ b) # 0 1 0 1 1       # bitwise XOR (1True, 1False => res = T, otherwise = F)"
   ]
  },
  {
   "cell_type": "markdown",
   "id": "9041e884",
   "metadata": {},
   "source": [
    "### 7) Identity operators"
   ]
  },
  {
   "cell_type": "code",
   "execution_count": 17,
   "id": "e9e711bc",
   "metadata": {},
   "outputs": [
    {
     "name": "stdout",
     "output_type": "stream",
     "text": [
      "True\n",
      "True\n",
      "False\n"
     ]
    }
   ],
   "source": [
    "a = 3\n",
    "b = 3\n",
    "print(a is b)\n",
    "print(a==b)\n",
    "print(a is not b)"
   ]
  },
  {
   "cell_type": "markdown",
   "id": "69c6fc74",
   "metadata": {},
   "source": [
    "#### Access the memory"
   ]
  },
  {
   "cell_type": "code",
   "execution_count": 19,
   "id": "cbff97f2",
   "metadata": {},
   "outputs": [
    {
     "name": "stdout",
     "output_type": "stream",
     "text": [
      "2316901902928\n",
      "2316901903376\n"
     ]
    }
   ],
   "source": [
    "w1 = 10\n",
    "w2 = 24\n",
    "print(id(w1))    # id - used to access memory address\n",
    "print(id(w2))"
   ]
  },
  {
   "cell_type": "code",
   "execution_count": 22,
   "id": "59145be6",
   "metadata": {},
   "outputs": [
    {
     "name": "stdout",
     "output_type": "stream",
     "text": [
      "True\n",
      "False\n"
     ]
    }
   ],
   "source": [
    "u = 0            # False\n",
    "print(not u)\n",
    "u1 = 1\n",
    "print(not u1)"
   ]
  },
  {
   "cell_type": "code",
   "execution_count": 27,
   "id": "5f0914da",
   "metadata": {},
   "outputs": [
    {
     "name": "stdout",
     "output_type": "stream",
     "text": [
      "True\n",
      "False\n"
     ]
    }
   ],
   "source": [
    "a1,a2,a3 = 10,20,25\n",
    "print((a1>a2 and a1<a3) or (a2<a3))  # True\n",
    "print(a1>a2 and (a1<a3 or a2<a3))\n",
    "#      F           T   or   T"
   ]
  },
  {
   "cell_type": "markdown",
   "id": "2a387d11",
   "metadata": {},
   "source": [
    "### Typecasting\n",
    "Changing from one data type to another"
   ]
  },
  {
   "cell_type": "code",
   "execution_count": 32,
   "id": "52f74dd6",
   "metadata": {},
   "outputs": [
    {
     "name": "stdout",
     "output_type": "stream",
     "text": [
      "<class 'str'>\n",
      "2405\n",
      "<class 'int'>\n"
     ]
    }
   ],
   "source": [
    "s = \"2405\"\n",
    "print(type(s))\n",
    "s1 = int(s)\n",
    "print(s1)\n",
    "print(type(s1))"
   ]
  },
  {
   "cell_type": "code",
   "execution_count": 41,
   "id": "6f9699de",
   "metadata": {},
   "outputs": [
    {
     "name": "stdout",
     "output_type": "stream",
     "text": [
      "<class 'str'>\n",
      "34.5\n",
      "<class 'float'>\n"
     ]
    }
   ],
   "source": [
    "s2 = \"34.5\"\n",
    "print(type(s2))\n",
    "# print(int(s2))  # cant be converted because of .\n",
    "s3 = float(s2)\n",
    "print(s3)\n",
    "print(type(s3))"
   ]
  },
  {
   "cell_type": "code",
   "execution_count": null,
   "id": "afbb7a62",
   "metadata": {},
   "outputs": [],
   "source": []
  },
  {
   "cell_type": "code",
   "execution_count": null,
   "id": "3d69b0af",
   "metadata": {},
   "outputs": [],
   "source": []
  }
 ],
 "metadata": {
  "kernelspec": {
   "display_name": "Python 3 (ipykernel)",
   "language": "python",
   "name": "python3"
  },
  "language_info": {
   "codemirror_mode": {
    "name": "ipython",
    "version": 3
   },
   "file_extension": ".py",
   "mimetype": "text/x-python",
   "name": "python",
   "nbconvert_exporter": "python",
   "pygments_lexer": "ipython3",
   "version": "3.11.7"
  }
 },
 "nbformat": 4,
 "nbformat_minor": 5
}
