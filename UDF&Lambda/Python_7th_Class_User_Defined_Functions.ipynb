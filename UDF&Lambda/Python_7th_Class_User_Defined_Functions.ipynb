{
 "cells": [
  {
   "cell_type": "markdown",
   "id": "293d4677",
   "metadata": {},
   "source": [
    "### Functions\n",
    "1) Functions facilitate reusability of code.<br>\n",
    "2) They prevent code repetition<br>\n",
    "\n",
    "\n",
    "#### Types of Functions\n",
    "1) <b>Built-in Function</b> - print(),input(),len(),type(), list().append()<br>\n",
    "\n",
    "2) <b>User Defined Functions/Custom  Functions</b><br>\n",
    "They are created by user/developers to solve a problem statement"
   ]
  },
  {
   "cell_type": "markdown",
   "id": "70e4f4ab",
   "metadata": {},
   "source": [
    "#### User Defined Functions\n",
    "\n",
    "They consist of two parts<br>\n",
    "1) Function definition<br>\n",
    "2) Function calling - Functions are called using function name"
   ]
  },
  {
   "cell_type": "markdown",
   "id": "2fc388c5",
   "metadata": {},
   "source": [
    "#### Types of User defined Functions\n",
    "1) Non-parameterized<br>\n",
    "2) Parameterized"
   ]
  },
  {
   "cell_type": "markdown",
   "id": "2d55a05b",
   "metadata": {},
   "source": [
    "### Non-Parameterised Functions"
   ]
  },
  {
   "cell_type": "code",
   "execution_count": 2,
   "id": "a35f26b6",
   "metadata": {},
   "outputs": [],
   "source": [
    "# WAF to find sum of 2 numbers ?\n",
    "# function definition\n",
    "def sum2num() :\n",
    "    a = int(input())\n",
    "    b = int(input())\n",
    "    print('sum of ',a,'and',b,'is',a+b)"
   ]
  },
  {
   "cell_type": "code",
   "execution_count": 9,
   "id": "b8462a18",
   "metadata": {},
   "outputs": [
    {
     "name": "stdin",
     "output_type": "stream",
     "text": [
      " 25\n",
      " 34\n"
     ]
    },
    {
     "name": "stdout",
     "output_type": "stream",
     "text": [
      "sum of  25 and 34 is 59\n"
     ]
    }
   ],
   "source": [
    "# function calling\n",
    "sum2num()"
   ]
  },
  {
   "cell_type": "code",
   "execution_count": 4,
   "id": "aa1c983f",
   "metadata": {},
   "outputs": [
    {
     "name": "stdout",
     "output_type": "stream",
     "text": [
      "30\n",
      "40\n",
      "sum of  30 and 40 is 70\n"
     ]
    }
   ],
   "source": [
    "sum2num()"
   ]
  },
  {
   "cell_type": "code",
   "execution_count": null,
   "id": "9e294514",
   "metadata": {},
   "outputs": [],
   "source": []
  },
  {
   "cell_type": "markdown",
   "id": "ca243b59",
   "metadata": {},
   "source": [
    "#### Exercise\n",
    "Q1) Write a Function to compute speed given distance and time. Accept distance and time as user inputs<br>\n",
    "Q2) Write a Function to print area of circle using its radius as user input<br>\n",
    "Q3) Write a Function to print the diagonal and perimeter of rectangle. Accept length and area as user inputs<br>"
   ]
  },
  {
   "cell_type": "code",
   "execution_count": 6,
   "id": "91054087",
   "metadata": {},
   "outputs": [
    {
     "name": "stdin",
     "output_type": "stream",
     "text": [
      "Enter dist in km:  400\n",
      "Enter time in hrs:  5\n"
     ]
    },
    {
     "name": "stdout",
     "output_type": "stream",
     "text": [
      "Speed is 80.0 kmph\n"
     ]
    }
   ],
   "source": [
    "def compute_speed():\n",
    "    d = int(input('Enter dist in km: '))\n",
    "    t = int(input('Enter time in hrs: '))\n",
    "    s = d/t\n",
    "    print('Speed is',round(s,2),'kmph')\n",
    "    \n",
    "compute_speed()"
   ]
  },
  {
   "cell_type": "markdown",
   "id": "c68553a1",
   "metadata": {},
   "source": [
    "### Parameterised Functions"
   ]
  },
  {
   "cell_type": "code",
   "execution_count": 13,
   "id": "d3e4d5f4",
   "metadata": {},
   "outputs": [],
   "source": [
    "# WAF to compute prod of 2 num (n1,n2)\n",
    "\n",
    "# function definition\n",
    "def prod2num(x,y,z):  # a and b are function arguments/parameters\n",
    "    print(x*y+z)\n",
    "    print(x+y-z)\n",
    "    print(x-y/z)\n",
    "    print(x/y*z)\n",
    "    \n"
   ]
  },
  {
   "cell_type": "code",
   "execution_count": 15,
   "id": "9a94f2c9-96a8-439d-a33c-ca864d86de7c",
   "metadata": {},
   "outputs": [
    {
     "name": "stdout",
     "output_type": "stream",
     "text": [
      "39\n",
      "8\n",
      "3.25\n",
      "2.857142857142857\n"
     ]
    }
   ],
   "source": [
    "prod2num(5,7,4)"
   ]
  },
  {
   "cell_type": "code",
   "execution_count": 16,
   "id": "a4ee8d93",
   "metadata": {},
   "outputs": [],
   "source": [
    "# Q1) Find the factors of a num\n",
    "\n",
    "# 12 - 1,2,3,4,6,12\n",
    "\n",
    "def find_factors(n):\n",
    "    factors = [i for i in range(1,n+1) if n%i==0]\n",
    "    print('factors',factors)"
   ]
  },
  {
   "cell_type": "code",
   "execution_count": 17,
   "id": "2930464b",
   "metadata": {},
   "outputs": [
    {
     "name": "stdout",
     "output_type": "stream",
     "text": [
      "factors [1, 2, 11, 22]\n"
     ]
    }
   ],
   "source": [
    "find_factors(22)"
   ]
  },
  {
   "cell_type": "code",
   "execution_count": 18,
   "id": "c7c230ee",
   "metadata": {},
   "outputs": [
    {
     "name": "stdout",
     "output_type": "stream",
     "text": [
      "7\n"
     ]
    }
   ],
   "source": [
    "r = [19,23,34,45,56,67,67]\n",
    "c = 0\n",
    "for i in r:\n",
    "    c += 1\n",
    "print(c)"
   ]
  },
  {
   "cell_type": "code",
   "execution_count": 31,
   "id": "d28f042e",
   "metadata": {},
   "outputs": [],
   "source": [
    "# Q2) Check if num is prime \n",
    "# Prime number has only 2 factors = [1, iteself]\n",
    "def check_prime(n):  # 11\n",
    "    c = 0   # used to store count of factors\n",
    "    for i in range(1,n+1):\n",
    "        if n%i==0:\n",
    "            c += 1\n",
    "    if c == 2 :\n",
    "        print(n,'is Prime')\n",
    "    else:\n",
    "        print(n,'is not Prime')"
   ]
  },
  {
   "cell_type": "code",
   "execution_count": 32,
   "id": "c84df4fb",
   "metadata": {},
   "outputs": [
    {
     "name": "stdout",
     "output_type": "stream",
     "text": [
      "2 is Prime\n",
      "3 is Prime\n",
      "4 is not Prime\n",
      "5 is Prime\n",
      "6 is not Prime\n",
      "7 is Prime\n",
      "8 is not Prime\n",
      "9 is not Prime\n",
      "10 is not Prime\n",
      "11 is Prime\n",
      "12 is not Prime\n",
      "13 is Prime\n",
      "14 is not Prime\n",
      "15 is not Prime\n",
      "16 is not Prime\n",
      "17 is Prime\n",
      "18 is not Prime\n",
      "19 is Prime\n",
      "20 is not Prime\n",
      "21 is not Prime\n",
      "22 is not Prime\n",
      "23 is Prime\n",
      "24 is not Prime\n",
      "25 is not Prime\n",
      "26 is not Prime\n",
      "27 is not Prime\n",
      "28 is not Prime\n",
      "29 is Prime\n"
     ]
    }
   ],
   "source": [
    "for i in range(2,30):\n",
    "    check_prime(i)"
   ]
  },
  {
   "cell_type": "code",
   "execution_count": null,
   "id": "c16a08a8",
   "metadata": {},
   "outputs": [],
   "source": [
    "# Electricity bill \n",
    "\n",
    "# Rules => Fixed charge = 180\n",
    "# If consumption < 200 => charge = 0\n",
    "# If 200<=consumption< 400 => charges = 5Rs per unit\n",
    "# If consumption>=400 => charges = 7Rs per unit"
   ]
  },
  {
   "cell_type": "code",
   "execution_count": 1,
   "id": "9216ea51",
   "metadata": {},
   "outputs": [],
   "source": [
    "units = [240,450,176,580,322,85]\n",
    "\n",
    "def find_ebill(units):\n",
    "    bill = []\n",
    "    fc = 180                 # fixed charge\n",
    "    for i in units:\n",
    "        if i< 200:\n",
    "            charges  = 0\n",
    "            bill.append(fc + charges)\n",
    "        elif i >= 200 and i < 400:\n",
    "            charges = (i-200)*5 + 0\n",
    "            bill.append(fc + charges)\n",
    "        elif i>=400:\n",
    "            charges = (i-400)*7 + 200*5 + 0\n",
    "            bill.append(fc + charges)\n",
    "        else:\n",
    "            bill.append('Invalid')\n",
    "    print(bill)\n",
    "            "
   ]
  },
  {
   "cell_type": "code",
   "execution_count": 2,
   "id": "7231ee01",
   "metadata": {},
   "outputs": [
    {
     "name": "stdout",
     "output_type": "stream",
     "text": [
      "[240, 450, 176, 580, 322, 85]\n",
      "[380, 1530, 180, 2440, 790, 180]\n"
     ]
    }
   ],
   "source": [
    "print(units)\n",
    "find_ebill(units)"
   ]
  },
  {
   "cell_type": "code",
   "execution_count": null,
   "id": "533d7c3b",
   "metadata": {},
   "outputs": [],
   "source": [
    "# user defined functions\n",
    "# Non-parameterized\n",
    "# Parameterized"
   ]
  },
  {
   "cell_type": "markdown",
   "id": "c1fee704",
   "metadata": {},
   "source": [
    "#### Types of Arguments\n",
    "1) Positional - Arguments whose position is fixed<br>\n",
    "2) Default - Arguments initialized with a default value\n",
    "\n",
    "#### Rule:\n",
    "From left to right, first all positional arguments are defined and then followed by default arguments."
   ]
  },
  {
   "cell_type": "code",
   "execution_count": 5,
   "id": "b084518e",
   "metadata": {},
   "outputs": [
    {
     "name": "stdout",
     "output_type": "stream",
     "text": [
      "18\n",
      "17\n",
      "21\n",
      "48\n",
      "37\n"
     ]
    }
   ],
   "source": [
    "def fun1(a,b,c=5):  # a, b = positional, c = default\n",
    "    s = (a*b)+c\n",
    "    print(s)\n",
    "    \n",
    "fun1(3,4,6) # a=3,b=4,c=6\n",
    "fun1(3,4) # a=3,b=4,c=5\n",
    "fun1(8,2) # a=8,b=2,c=5\n",
    "fun1(4,12,0) # a=4,b=12,c=0\n",
    "fun1(b=7,a=5,c=2)  # a=5,b=7,c=2\n",
    "#fun1('Hi',3,0)  # Err"
   ]
  },
  {
   "cell_type": "code",
   "execution_count": 13,
   "id": "87e83771",
   "metadata": {},
   "outputs": [
    {
     "ename": "SyntaxError",
     "evalue": "non-default argument follows default argument (1983314916.py, line 1)",
     "output_type": "error",
     "traceback": [
      "\u001b[1;36m  Cell \u001b[1;32mIn[13], line 1\u001b[1;36m\u001b[0m\n\u001b[1;33m    def fun2(a=7,b,c):  # a = default b,c = positinal\u001b[0m\n\u001b[1;37m                   ^\u001b[0m\n\u001b[1;31mSyntaxError\u001b[0m\u001b[1;31m:\u001b[0m non-default argument follows default argument\n"
     ]
    }
   ],
   "source": [
    "def fun2(a=7,b,c):  # a = default b,c = positinal\n",
    "    print(a+b+c)"
   ]
  },
  {
   "cell_type": "code",
   "execution_count": 16,
   "id": "1362049b",
   "metadata": {},
   "outputs": [
    {
     "name": "stdout",
     "output_type": "stream",
     "text": [
      "12\n"
     ]
    }
   ],
   "source": [
    "def fun3(b,c,a=5):  # b,c = positional,  a = default \n",
    "    print(a+b+c)\n",
    "\n",
    "fun3(3,4)"
   ]
  },
  {
   "cell_type": "markdown",
   "id": "5275faa1",
   "metadata": {},
   "source": [
    "### return keyword\n",
    "1) return is only used inside functions<br>\n",
    "2) return has to be the last statement in a function<br>\n",
    "3) return can be used only once in a function(with exception of if-elif-else)<br>\n",
    "4) if multple return statements are used, only the first one is the valid statement<br>"
   ]
  },
  {
   "cell_type": "markdown",
   "id": "436a312d",
   "metadata": {},
   "source": [
    "#### Note\n",
    "The function call of a fucntion that uses return keyword should be stored in a variable"
   ]
  },
  {
   "cell_type": "code",
   "execution_count": 21,
   "id": "017c8e17",
   "metadata": {},
   "outputs": [],
   "source": [
    "def fun4(a,b,c):\n",
    "    x1 = a+b+c\n",
    "    print(x1)"
   ]
  },
  {
   "cell_type": "code",
   "execution_count": 22,
   "id": "fffcba07",
   "metadata": {},
   "outputs": [
    {
     "name": "stdout",
     "output_type": "stream",
     "text": [
      "16\n",
      "None\n"
     ]
    }
   ],
   "source": [
    "w = fun4(5,6,5) # a=5,b=6\n",
    "print(w)"
   ]
  },
  {
   "cell_type": "code",
   "execution_count": 17,
   "id": "e039cbae",
   "metadata": {},
   "outputs": [],
   "source": [
    "def greet(name):\n",
    "    msg = 'Welcome '\n",
    "    return msg + name # return will not give none after using function in variable"
   ]
  },
  {
   "cell_type": "code",
   "execution_count": 18,
   "id": "5e673f69",
   "metadata": {},
   "outputs": [
    {
     "name": "stdout",
     "output_type": "stream",
     "text": [
      "Welcome Shubham\n"
     ]
    }
   ],
   "source": [
    "w1 = greet('Shubham')\n",
    "print(w1)"
   ]
  },
  {
   "cell_type": "code",
   "execution_count": 23,
   "id": "525007a9",
   "metadata": {},
   "outputs": [
    {
     "name": "stdout",
     "output_type": "stream",
     "text": [
      "11\n"
     ]
    }
   ],
   "source": [
    "def fun5(a,b):\n",
    "    x2 = a+b \n",
    "    return x2\n",
    "\n",
    "w2 = fun5(5,6)\n",
    "print(w2)"
   ]
  },
  {
   "cell_type": "code",
   "execution_count": 29,
   "id": "a493b5ca",
   "metadata": {},
   "outputs": [
    {
     "name": "stdout",
     "output_type": "stream",
     "text": [
      "Python Functions\n",
      "15\n",
      "Hello World\n"
     ]
    }
   ],
   "source": [
    "def fun6(a):\n",
    "    print('Python Functions')  # will get executed\n",
    "    print(a+7)\n",
    "    return('Hello World')      # will not get executed\n",
    "    print(a+12)\n",
    "\n",
    "w3 = fun6(8)\n",
    "print(w3)"
   ]
  },
  {
   "cell_type": "markdown",
   "id": "e049c291",
   "metadata": {},
   "source": [
    "#### Return cant return a sequence"
   ]
  },
  {
   "cell_type": "code",
   "execution_count": 30,
   "id": "2185cf94",
   "metadata": {},
   "outputs": [
    {
     "name": "stdout",
     "output_type": "stream",
     "text": [
      "0\n",
      "1\n",
      "2\n",
      "3\n",
      "4\n"
     ]
    }
   ],
   "source": [
    "def fun7(n):\n",
    "    for i in range(n):\n",
    "        print(i)\n",
    "\n",
    "fun7(5)"
   ]
  },
  {
   "cell_type": "code",
   "execution_count": 43,
   "id": "287d792d",
   "metadata": {},
   "outputs": [
    {
     "name": "stdout",
     "output_type": "stream",
     "text": [
      "0\n"
     ]
    }
   ],
   "source": [
    "def fun8(n):\n",
    "    for i in range(n):\n",
    "        return i               # it returns only first value\n",
    "\n",
    "r1 = fun8(5)\n",
    "print(r1)"
   ]
  },
  {
   "cell_type": "markdown",
   "id": "d325c535",
   "metadata": {},
   "source": [
    "### Recursion\n",
    "1) A function calling itself is called Recursion and the function becomes recursive function.<br>\n",
    "2) It is mandatory to mention a terminating condition.<br>\n",
    "3) return keyword is used in function."
   ]
  },
  {
   "cell_type": "code",
   "execution_count": 17,
   "id": "b58d23b0",
   "metadata": {},
   "outputs": [],
   "source": [
    "# 5! = 5 * 4 * 3 * 2 * 1 #  => \n",
    "\n",
    "# 5! = 5 * 4! = 5 * 4 * 3! = 5 * 4 * 3 * 2! = 5 * 4 * 3 * 2 * 1! = \n",
    "# = 5 * 4 * 3 * 2 * 1 = 120 "
   ]
  },
  {
   "cell_type": "code",
   "execution_count": 31,
   "id": "fdcbe896",
   "metadata": {},
   "outputs": [],
   "source": [
    "def factr(n):\n",
    "    if n==1 :       # terminating condition\n",
    "        return 1\n",
    "    else :\n",
    "        return n*factr(n-1)"
   ]
  },
  {
   "cell_type": "code",
   "execution_count": 33,
   "id": "5bd3fa6d",
   "metadata": {},
   "outputs": [
    {
     "name": "stdout",
     "output_type": "stream",
     "text": [
      "120\n"
     ]
    }
   ],
   "source": [
    "fact5 = factr(5)\n",
    "print(fact5)"
   ]
  },
  {
   "cell_type": "code",
   "execution_count": 3,
   "id": "44669816",
   "metadata": {},
   "outputs": [],
   "source": [
    "# n = 5\n",
    "# factr(5) = 5*factr(4) = 5*(4*factr(3)) = 5*4*(3*factr(2))\n",
    "# = 5*4*3*(2*factr(1))) = 5*4*3*2*factr(1) = 5*4*3*2*1 = 120"
   ]
  },
  {
   "cell_type": "code",
   "execution_count": 51,
   "id": "b510dfeb",
   "metadata": {},
   "outputs": [],
   "source": [
    "# Find sum upto n terms\n",
    "# n = 4 => 4+3+2+1\n",
    "\n",
    "def findsum(n):\n",
    "    if n==1 :       # terminating condition\n",
    "        return 1\n",
    "    else :\n",
    "        return n + findsum(n-1)"
   ]
  },
  {
   "cell_type": "code",
   "execution_count": 53,
   "id": "52126234",
   "metadata": {},
   "outputs": [
    {
     "data": {
      "text/plain": [
       "15"
      ]
     },
     "execution_count": 53,
     "metadata": {},
     "output_type": "execute_result"
    }
   ],
   "source": [
    "findsum(5)"
   ]
  },
  {
   "cell_type": "code",
   "execution_count": 65,
   "id": "c56be61a",
   "metadata": {},
   "outputs": [],
   "source": [
    "def dragon(x):\n",
    "    if x<5:\n",
    "        return -x   # teminating condition\n",
    "    else:\n",
    "        return x + dragon(x-2)"
   ]
  },
  {
   "cell_type": "code",
   "execution_count": 66,
   "id": "4b65a856",
   "metadata": {},
   "outputs": [
    {
     "data": {
      "text/plain": [
       "57"
      ]
     },
     "execution_count": 66,
     "metadata": {},
     "output_type": "execute_result"
    }
   ],
   "source": [
    "dragon(15) \n",
    "# 15 + d(13) = 15 + (13+d(11)) = 15+13+(11+d(9))\n",
    "# 15+13+11+ (9+ d(7)) = 15+13+11+9 + (7+ d(5))\n",
    "# 15+13+11+9+7 + (5 + d(3)) = 15+13+11+9+7+5 + (-3) = 57"
   ]
  },
  {
   "cell_type": "code",
   "execution_count": null,
   "id": "2871304a",
   "metadata": {},
   "outputs": [],
   "source": [
    "# Functions\n",
    "# paramtertized and non-parameterized fun\n",
    "# arguments - positional, default\n",
    "# return\n",
    "\n",
    "# recursion\n"
   ]
  },
  {
   "cell_type": "code",
   "execution_count": null,
   "id": "b94a757a",
   "metadata": {},
   "outputs": [],
   "source": [
    "# list comprehension\n",
    "# dict comp"
   ]
  },
  {
   "cell_type": "markdown",
   "id": "4fd76de6",
   "metadata": {},
   "source": [
    "#### Exercise\n",
    "1) Write a function to compute SI given P,R and T as arguments<br>\n",
    "2) Assume any given list of marks(all integers between 1 to 100), find the second highest marks obtained from a list of marks.<br>\n",
    "3) Create a function to generate a list containing common elements of two given lists.<br>\n",
    "w1 = [1,2,3,4,67,78]<br>\n",
    "w2 = [45,78,3,11,109]<br>\n",
    "4) Write a program that takes a list of words and returns the length of longest word and print the longest word as well. Assume any list of words<br>\n",
    "5) Sort even-placed elements (according to thier index) in decreasing and odd-placed in increasing order and store them in a separate list and display them as output. Assume any list of numbers<br>\n",
    "6) Write a function to count the number of vowels in a given string. String is passed as an argument<br>\n",
    "7) Write a function to check if the number is palindrome number or not<br>\n",
    "8) Count the elements of the list using a dict where the keys are list elements, and the count should be their values.<br>\n",
    "Sample Input: <br>\n",
    "d = [12,23,34,23,12,12,45,34,45,56,34,34,23,12,56] <br>\n",
    "Sample Output:<br>\n",
    "The result should be like: {12:4,23:3,34:4,45:2,56:2} <br>  \n",
    "</pre>"
   ]
  },
  {
   "cell_type": "code",
   "execution_count": 34,
   "id": "177fc2cc",
   "metadata": {},
   "outputs": [
    {
     "name": "stdout",
     "output_type": "stream",
     "text": [
      "[5, 5, 8, 7, 6, 6, 3]\n",
      "Word with max len:  Analysis and its length 8\n"
     ]
    }
   ],
   "source": [
    "# Q4)\n",
    "words = ['Hello','India','Analysis','Science','laptop','string','sql']\n",
    "wlen = [len(i) for i in words]  # list comp\n",
    "print(wlen)\n",
    "maxlen_idx = wlen.index(max(wlen))\n",
    "print('Word with max len: ',words[maxlen_idx],'and its length',max(wlen))"
   ]
  },
  {
   "cell_type": "code",
   "execution_count": 40,
   "id": "4a528021-042a-49e9-a499-97a3e6065250",
   "metadata": {},
   "outputs": [],
   "source": [
    "# Q2) \n",
    "def second_heighest(marks):\n",
    "    unique_marks = list(set(marks))# to remove duplicates\n",
    "    unique_marks.sort(reverse=True)\n",
    "    if len(unique_marks)>=2:\n",
    "        return unique_marks[1]\n",
    "    else:\n",
    "        return \"not a second heighest\""
   ]
  },
  {
   "cell_type": "code",
   "execution_count": 42,
   "id": "85f29f69-e938-44b7-bf2e-6f1b01072682",
   "metadata": {},
   "outputs": [
    {
     "name": "stdout",
     "output_type": "stream",
     "text": [
      "92\n"
     ]
    }
   ],
   "source": [
    "marks = [87,92,75,92,56,100,75,87]\n",
    "result = second_heighest(marks)\n",
    "print(result)"
   ]
  },
  {
   "cell_type": "code",
   "execution_count": 11,
   "id": "1a1f3eaa",
   "metadata": {},
   "outputs": [
    {
     "name": "stdout",
     "output_type": "stream",
     "text": [
      "[5, 5, 8, 7, 6, 8, 3]\n",
      "Words with max len ['Analysis', 'Function'] and their len 8\n"
     ]
    }
   ],
   "source": [
    "# when multiple words have same length\n",
    "words = ['Hello','India','Analysis','Science','laptop','Function','sql']\n",
    "wlen = [len(i) for i in words] \n",
    "print(wlen)\n",
    "words_max_len = [i for i in words if len(i) == max(wlen)]\n",
    "print('Words with max len',words_max_len,'and their len',max(wlen))"
   ]
  },
  {
   "cell_type": "code",
   "execution_count": 12,
   "id": "04e7d744",
   "metadata": {},
   "outputs": [
    {
     "name": "stdout",
     "output_type": "stream",
     "text": [
      "Even placed in desc order [45, 24, 15, 12, 10, 7]\n",
      "Odd placed in asc order [6, 8, 10, 19, 40]\n"
     ]
    }
   ],
   "source": [
    "# Q5) \n",
    "num = [7,10,12,19,15,6,24,40,45,8,10]\n",
    "ep,op = [],[]  # even placed, op = odd placed\n",
    "for i in range(len(num)):  # i acts as index\n",
    "    if i%2==0:  # index is even\n",
    "        ep.append(num[i])\n",
    "    else:\n",
    "        op.append(num[i])        \n",
    "ep.sort(reverse=True)\n",
    "op.sort()\n",
    "print('Even placed in desc order',ep)\n",
    "print('Odd placed in asc order',op)"
   ]
  },
  {
   "cell_type": "code",
   "execution_count": 18,
   "id": "b633097b",
   "metadata": {},
   "outputs": [],
   "source": [
    "# Q6)\n",
    "def count_vowel(s):\n",
    "    v = \"aeiouAEIOU\"\n",
    "    c = 0\n",
    "    for i in s:\n",
    "        if i in v:\n",
    "            c += 1\n",
    "    print('Str',s,'has',c,'vowels')"
   ]
  },
  {
   "cell_type": "code",
   "execution_count": 19,
   "id": "9972e4a5",
   "metadata": {},
   "outputs": [
    {
     "name": "stdout",
     "output_type": "stream",
     "text": [
      "Str Welcome to Python Function Arguments has 11 vowels\n"
     ]
    }
   ],
   "source": [
    "count_vowel('Welcome to Python Function Arguments')"
   ]
  },
  {
   "cell_type": "code",
   "execution_count": 21,
   "id": "7533bb63",
   "metadata": {},
   "outputs": [
    {
     "name": "stdout",
     "output_type": "stream",
     "text": [
      "{12: 4, 23: 3, 34: 4, 45: 2, 56: 2}\n",
      "{12: 4, 23: 3, 34: 4, 45: 2, 56: 2}\n"
     ]
    }
   ],
   "source": [
    "# Q8)\n",
    "d = [12,23,34,23,12,12,45,34,45,56,34,34,23,12,56] \n",
    "# Method - 1\n",
    "ec = {}  # element count => in dict all keys are unique\n",
    "for i in d:\n",
    "    ec[i] = d.count(i)\n",
    "print(ec)\n",
    "\n",
    "# Method - 2 - dict comp\n",
    "ec2 = {i : d.count(i) for i in d}\n",
    "print(ec2)"
   ]
  },
  {
   "cell_type": "code",
   "execution_count": 23,
   "id": "685866d5",
   "metadata": {},
   "outputs": [
    {
     "name": "stdout",
     "output_type": "stream",
     "text": [
      "[12, 23, 34, 23, 12, 12, 45, 34, 45, 56, 34, 34, 23, 12, 56]\n",
      "{12: 4, 23: 3, 34: 4, 45: 2, 56: 2}\n"
     ]
    }
   ],
   "source": [
    "# method - 3\n",
    "ec3 = {}\n",
    "print(d)\n",
    "for i in d:\n",
    "    if i not in ec3.keys():\n",
    "        ec3[i] = 1   # => ec3 = {12: 1,23:1,34:1,45:1}\n",
    "    else:\n",
    "        ec3[i] += 1  # => ec3 = {12: 3,23:2,34:2,}\n",
    "print(ec3)"
   ]
  },
  {
   "cell_type": "markdown",
   "id": "f97c3be9",
   "metadata": {},
   "source": [
    "# Lambda Function\n",
    "\n",
    "1) Used to define one liner functions<br>\n",
    "2) Also known as anonymous function.\n",
    "\n",
    "Syntax:<br>\n",
    "var =  lambda parameters : expressions"
   ]
  },
  {
   "cell_type": "code",
   "execution_count": 67,
   "id": "26d64e8f",
   "metadata": {},
   "outputs": [],
   "source": [
    "def sum2no(a,b):   #  arguments\n",
    "    print(a+b)"
   ]
  },
  {
   "cell_type": "code",
   "execution_count": 68,
   "id": "de3824c4",
   "metadata": {},
   "outputs": [
    {
     "name": "stdout",
     "output_type": "stream",
     "text": [
      "15\n"
     ]
    }
   ],
   "source": [
    "sum2no(10,5)"
   ]
  },
  {
   "cell_type": "code",
   "execution_count": 69,
   "id": "92f5089f",
   "metadata": {},
   "outputs": [
    {
     "name": "stdout",
     "output_type": "stream",
     "text": [
      "8\n"
     ]
    }
   ],
   "source": [
    "w1 = lambda a,b : a+b\n",
    "print(w1(5,3))"
   ]
  },
  {
   "cell_type": "markdown",
   "id": "96730fac",
   "metadata": {},
   "source": [
    "#### Find square of a and b using lambda, a and b are parameters"
   ]
  },
  {
   "cell_type": "code",
   "execution_count": 74,
   "id": "234ecc36",
   "metadata": {},
   "outputs": [
    {
     "name": "stdout",
     "output_type": "stream",
     "text": [
      "(25, 9)\n"
     ]
    }
   ],
   "source": [
    "w2 = lambda a,b : (a**2, b**2)\n",
    "print(w2(5,3)) # a =5,b = 3"
   ]
  },
  {
   "cell_type": "markdown",
   "id": "9300a7ab",
   "metadata": {},
   "source": [
    "#### if-else can be used with lambda but only if cant be used."
   ]
  },
  {
   "cell_type": "code",
   "execution_count": 72,
   "id": "30cf103e",
   "metadata": {},
   "outputs": [
    {
     "name": "stdout",
     "output_type": "stream",
     "text": [
      "24\n",
      "20\n"
     ]
    }
   ],
   "source": [
    "w3 = lambda x,y : x*y if (x+y)%2==0 else y*10\n",
    "print(w3(4,6))  # a=4,b=6\n",
    "print(w3(5,2))"
   ]
  },
  {
   "cell_type": "code",
   "execution_count": 27,
   "id": "d10688a3",
   "metadata": {},
   "outputs": [],
   "source": [
    "words = ['Hello','laptop','mobile','charger','functions','list']\n",
    "# If len of word is div by 3 print words in reverse otherwise print -1"
   ]
  },
  {
   "cell_type": "code",
   "execution_count": 44,
   "id": "0af14bc7",
   "metadata": {},
   "outputs": [
    {
     "name": "stdout",
     "output_type": "stream",
     "text": [
      "-1\n"
     ]
    }
   ],
   "source": [
    "s = 'Hello'\n",
    "q1 = lambda x : x[::-1] if len(x)%3==0 else -1\n",
    "print(q1(s))"
   ]
  },
  {
   "cell_type": "code",
   "execution_count": 26,
   "id": "a1a9f6eb",
   "metadata": {},
   "outputs": [
    {
     "name": "stdout",
     "output_type": "stream",
     "text": [
      "-1\n",
      "potpal\n",
      "elibom\n",
      "-1\n",
      "snoitcnuf\n",
      "-1\n"
     ]
    }
   ],
   "source": [
    "for i in words:\n",
    "    print(q1(i))"
   ]
  },
  {
   "cell_type": "code",
   "execution_count": 45,
   "id": "0739a7cb",
   "metadata": {},
   "outputs": [
    {
     "name": "stdout",
     "output_type": "stream",
     "text": [
      "[-1, -1, -1, -1, 'potpal', 'gnirts', 'lqs']\n"
     ]
    }
   ],
   "source": [
    "# list comp\n",
    "q2 = [i[::-1] if len(i)%3==0 else -1 for i in words]\n",
    "print(q2)"
   ]
  },
  {
   "cell_type": "code",
   "execution_count": 46,
   "id": "05b8019d",
   "metadata": {},
   "outputs": [],
   "source": [
    "# YYYY-MM-DD\n",
    "dates  = ['2024/04/11','2023/10/05','2021/05/07','2022/07/26']\n",
    "\n",
    "# solve using map/filter/lambda  and list comp\n",
    "# 1) Find year for all dates using list comp\n",
    "# 2) Extract date in format DD-YYYY-MM for all dates using list comp\n"
   ]
  },
  {
   "cell_type": "code",
   "execution_count": 13,
   "id": "a2290885",
   "metadata": {},
   "outputs": [
    {
     "name": "stdout",
     "output_type": "stream",
     "text": [
      "['2024', '2023', '2022', '2021']\n",
      "['2024', '2023', '2022', '2021']\n"
     ]
    }
   ],
   "source": [
    "# Q1)\n",
    "dates  = ['2024/04/11','2023/10/05','2022/05/07','2021/07/26']\n",
    "\n",
    "w1 = list(map(lambda z : z[:4], dates))\n",
    "\n",
    "print(w1)\n",
    "\n",
    "w2 = [i[:4] for i in dates]\n",
    "\n",
    "print(w2)\n",
    "\n"
   ]
  },
  {
   "cell_type": "code",
   "execution_count": 1,
   "id": "fa453175-7371-481e-b182-944680ee43d1",
   "metadata": {},
   "outputs": [
    {
     "name": "stdout",
     "output_type": "stream",
     "text": [
      "[484, 1849, 2916, 676, 5329, 7569]\n"
     ]
    }
   ],
   "source": [
    "lts = [d]\n",
    "\n",
    "sqr = list(map(lambda a : a**2,lts))\n",
    "print(sqr)"
   ]
  },
  {
   "cell_type": "code",
   "execution_count": 14,
   "id": "b3e758cd-5287-4948-8a6c-51c88aa15f31",
   "metadata": {},
   "outputs": [
    {
     "data": {
      "text/plain": [
       "['2023/10/15']"
      ]
     },
     "execution_count": 14,
     "metadata": {},
     "output_type": "execute_result"
    }
   ],
   "source": [
    "dt = ['2024/04/11','2023/10/15']\n",
    "dt[-1:]"
   ]
  },
  {
   "cell_type": "code",
   "execution_count": 27,
   "id": "60cd1163",
   "metadata": {},
   "outputs": [
    {
     "name": "stdout",
     "output_type": "stream",
     "text": [
      "['11-04-2024', '05-10-2023', '07-05-2022', '26-07-2021']\n"
     ]
    }
   ],
   "source": [
    "# Q2) DD-YYYY-MM\n",
    "dates  = ['2024/04/11','2023/10/05','2022/05/07','2021/07/26']\n",
    "\n",
    "w3 = list(map(lambda x : x[-2:] + \"-\" + x[5:7] + \"-\" + x[:4] ,dates))\n",
    "print(w3)\n"
   ]
  },
  {
   "cell_type": "code",
   "execution_count": 21,
   "id": "6154633a-23ae-4b58-a3b2-42194fe55dc7",
   "metadata": {},
   "outputs": [
    {
     "name": "stdout",
     "output_type": "stream",
     "text": [
      "['11-2024-04', '05-2023-10', '07-2022-05', '26-2021-07']\n"
     ]
    }
   ],
   "source": [
    "w4 = [x[-2:] + \"-\" + x[:4] + \"-\" + x[5:7]  for x in dates]\n",
    "print(w4)"
   ]
  },
  {
   "cell_type": "code",
   "execution_count": 47,
   "id": "b7bfc50c",
   "metadata": {},
   "outputs": [
    {
     "name": "stdout",
     "output_type": "stream",
     "text": [
      "['2024/04/11', '2023/10/05']\n",
      "['2026/04/11', '2025/10/05']\n"
     ]
    }
   ],
   "source": [
    "# 3) Add 2 yrs to all dates where month is even and date is odd\n",
    "\n",
    "a1 = list(filter(lambda x : int(x[5:7])%2==0 and int(x[-2:])%2!=0,dates))\n",
    "print(a1)\n",
    "a2 = list(map(lambda x : str(int(x[:4])+2) + \"/\" + x[5:7] + \"/\" + x[-2:] , a1))\n",
    "print(a2)"
   ]
  },
  {
   "cell_type": "code",
   "execution_count": 49,
   "id": "dda43425",
   "metadata": {},
   "outputs": [
    {
     "name": "stdout",
     "output_type": "stream",
     "text": [
      "['2026/04/11', '2025/10/05']\n"
     ]
    }
   ],
   "source": [
    "a3 = [str(int(i[:4])+2) + \"/\" + i[5:7] + \"/\" + i[-2:] \n",
    "      for i in dates if  int(i[5:7])%2==0 and int(i[-2:])%2!=0]\n",
    "print(a3)"
   ]
  },
  {
   "cell_type": "markdown",
   "id": "1d341457",
   "metadata": {},
   "source": [
    "### map, filter\n",
    "\n",
    "Syntax :\n",
    "<pre>\n",
    "map(function,iterable)\n",
    "filter(function,iterable)\n",
    "reduce(function,iterable)\n",
    "</pre>\n",
    "1) <b>map</b> : Applies a function to each item of the iterable and returns a sequence\n",
    "    \n",
    "2) <b>filter</b> : Applies a function to each item of the iterable and returns a sequence where the function\n",
    "    returns True"
   ]
  },
  {
   "cell_type": "markdown",
   "id": "08745ac4",
   "metadata": {},
   "source": [
    "#### Iterables - str, list, tuple, set, dict, range"
   ]
  },
  {
   "cell_type": "code",
   "execution_count": 29,
   "id": "b3a45c2b",
   "metadata": {},
   "outputs": [
    {
     "name": "stdout",
     "output_type": "stream",
     "text": [
      "[20, 24, 27, 37, 48, 55, 45, 30, 66, 34]\n",
      "[10, 45, 35, 20]\n",
      "[20, 24, 12, 22, 48, 40, 30, 30, 66, 34]\n",
      "[20, 24, 12, 22, 48, 40, 30, 30, 66, 34]\n"
     ]
    }
   ],
   "source": [
    "r = [10,14,17,27,38,45,35,20,56,24]\n",
    "\n",
    "# a) Add 10 to each number in the list r\n",
    "# b) Find all numbers from list which are divisible by 5 in list r\n",
    "# c) Add 10 to even num and subtract 5 from odd numbers in list r.\n",
    "\n",
    "r1 = list(map(lambda x : x+10, r)) \n",
    "# x corresponds to each and every element of list r \n",
    "print(r1)\n",
    "\n",
    "r2 = list(filter(lambda x : x%5==0, r))\n",
    "print(r2)\n",
    "\n",
    "r3 = list(map(lambda x : x+10 if x%2==0 else x-5 , r))\n",
    "print(r3)\n",
    "\n",
    "r4 = [i+10 if i%2==0 else i-5 for i in r]\n",
    "print(r4)"
   ]
  },
  {
   "cell_type": "code",
   "execution_count": 34,
   "id": "bf607b67",
   "metadata": {},
   "outputs": [],
   "source": [
    "from functools import reduce"
   ]
  },
  {
   "cell_type": "code",
   "execution_count": 33,
   "id": "362ec7ca-f5ae-4c1e-bc05-e03b4f6d84a3",
   "metadata": {},
   "outputs": [
    {
     "data": {
      "text/plain": [
       "[10, 20, 30, 40]"
      ]
     },
     "execution_count": 33,
     "metadata": {},
     "output_type": "execute_result"
    }
   ],
   "source": [
    "rng = list(range(10,50,10))\n",
    "rng"
   ]
  },
  {
   "cell_type": "code",
   "execution_count": 35,
   "id": "3a93f41b-cd3d-4b54-a667-25a17de54edb",
   "metadata": {},
   "outputs": [
    {
     "data": {
      "text/plain": [
       "100"
      ]
     },
     "execution_count": 35,
     "metadata": {},
     "output_type": "execute_result"
    }
   ],
   "source": [
    "reduce(lambda a,b: a+b,rng)"
   ]
  },
  {
   "cell_type": "code",
   "execution_count": 39,
   "id": "5dd18e42-df7c-4124-bb83-5e6e3d8c4f48",
   "metadata": {},
   "outputs": [
    {
     "data": {
      "text/plain": [
       "[10, 20, 30, 40]"
      ]
     },
     "execution_count": 39,
     "metadata": {},
     "output_type": "execute_result"
    }
   ],
   "source": [
    "rng"
   ]
  },
  {
   "cell_type": "code",
   "execution_count": 41,
   "id": "575beb5f-823f-4a3d-bd90-68322c73e952",
   "metadata": {},
   "outputs": [
    {
     "data": {
      "text/plain": [
       "100"
      ]
     },
     "execution_count": 41,
     "metadata": {},
     "output_type": "execute_result"
    }
   ],
   "source": [
    "reduce(lambda a,b: a+b,rng)"
   ]
  },
  {
   "cell_type": "code",
   "execution_count": 42,
   "id": "1c70e06b-a6ec-4a10-b4ea-290ccdec0bd5",
   "metadata": {},
   "outputs": [],
   "source": [
    "import operator"
   ]
  },
  {
   "cell_type": "code",
   "execution_count": 44,
   "id": "3d12d624-2231-4008-b507-4c682078b83a",
   "metadata": {},
   "outputs": [
    {
     "name": "stdout",
     "output_type": "stream",
     "text": [
      "['__abs__', '__add__', '__all__', '__and__', '__builtins__', '__cached__', '__call__', '__concat__', '__contains__', '__delitem__', '__doc__', '__eq__', '__file__', '__floordiv__', '__ge__', '__getitem__', '__gt__', '__iadd__', '__iand__', '__iconcat__', '__ifloordiv__', '__ilshift__', '__imatmul__', '__imod__', '__imul__', '__index__', '__inv__', '__invert__', '__ior__', '__ipow__', '__irshift__', '__isub__', '__itruediv__', '__ixor__', '__le__', '__loader__', '__lshift__', '__lt__', '__matmul__', '__mod__', '__mul__', '__name__', '__ne__', '__neg__', '__not__', '__or__', '__package__', '__pos__', '__pow__', '__rshift__', '__setitem__', '__spec__', '__sub__', '__truediv__', '__xor__', '_abs', 'abs', 'add', 'and_', 'attrgetter', 'call', 'concat', 'contains', 'countOf', 'delitem', 'eq', 'floordiv', 'ge', 'getitem', 'gt', 'iadd', 'iand', 'iconcat', 'ifloordiv', 'ilshift', 'imatmul', 'imod', 'imul', 'index', 'indexOf', 'inv', 'invert', 'ior', 'ipow', 'irshift', 'is_', 'is_not', 'isub', 'itemgetter', 'itruediv', 'ixor', 'le', 'length_hint', 'lshift', 'lt', 'matmul', 'methodcaller', 'mod', 'mul', 'ne', 'neg', 'not_', 'or_', 'pos', 'pow', 'rshift', 'setitem', 'sub', 'truediv', 'truth', 'xor']\n"
     ]
    }
   ],
   "source": [
    "print(dir(operator))"
   ]
  },
  {
   "cell_type": "code",
   "execution_count": 46,
   "id": "1b529ca9-f163-4d3d-9e97-b9e61c8c46cf",
   "metadata": {},
   "outputs": [],
   "source": [
    "import functools"
   ]
  },
  {
   "cell_type": "code",
   "execution_count": 47,
   "id": "c56ca4aa-ba8e-4eda-8c47-f00f3deb3a3e",
   "metadata": {},
   "outputs": [
    {
     "name": "stdout",
     "output_type": "stream",
     "text": [
      "100\n"
     ]
    }
   ],
   "source": [
    "print(functools.reduce(operator.add, rng))"
   ]
  },
  {
   "cell_type": "code",
   "execution_count": 48,
   "id": "e911e524-b82f-4099-a209-1864a12a05cc",
   "metadata": {},
   "outputs": [
    {
     "name": "stdout",
     "output_type": "stream",
     "text": [
      "240000\n"
     ]
    }
   ],
   "source": [
    "print(functools.reduce(operator.mul, rng))"
   ]
  },
  {
   "cell_type": "code",
   "execution_count": 50,
   "id": "7d259bf1-58ef-4507-9b10-903c6d9b5162",
   "metadata": {},
   "outputs": [
    {
     "name": "stdout",
     "output_type": "stream",
     "text": [
      "i love python \n"
     ]
    }
   ],
   "source": [
    "print(functools.reduce(operator.add, [\"i \", \"love \", \"python \"]))"
   ]
  },
  {
   "cell_type": "code",
   "execution_count": 62,
   "id": "e2d629f5-08b2-4ed2-869d-cb8df78e76c2",
   "metadata": {},
   "outputs": [],
   "source": [
    "import numpy as np"
   ]
  },
  {
   "cell_type": "code",
   "execution_count": null,
   "id": "41229935-b510-49ff-bd0a-de65a7744b16",
   "metadata": {},
   "outputs": [],
   "source": [
    "# single line array\n",
    "# 1 d array"
   ]
  },
  {
   "cell_type": "code",
   "execution_count": 67,
   "id": "e41535ad-64ee-4793-be69-d4aa19dc06d7",
   "metadata": {},
   "outputs": [],
   "source": [
    "arr = np.array([10,20,40,5.5])"
   ]
  },
  {
   "cell_type": "code",
   "execution_count": 68,
   "id": "2e96fa7c-e1bb-404e-8dad-6610bec1c501",
   "metadata": {},
   "outputs": [
    {
     "data": {
      "text/plain": [
       "array([10. , 20. , 40. ,  5.5])"
      ]
     },
     "execution_count": 68,
     "metadata": {},
     "output_type": "execute_result"
    }
   ],
   "source": [
    "arr"
   ]
  },
  {
   "cell_type": "code",
   "execution_count": 71,
   "id": "fcd09c3b-e8f3-4c80-9db0-5e2246a752af",
   "metadata": {},
   "outputs": [],
   "source": [
    "twoD = np.array([[10,20,30,40],[1,2,3,4]])"
   ]
  },
  {
   "cell_type": "code",
   "execution_count": 72,
   "id": "1a241845-23e9-4681-9ce5-042c0b32f1ab",
   "metadata": {},
   "outputs": [
    {
     "data": {
      "text/plain": [
       "array([[10, 20, 30, 40],\n",
       "       [ 1,  2,  3,  4]])"
      ]
     },
     "execution_count": 72,
     "metadata": {},
     "output_type": "execute_result"
    }
   ],
   "source": [
    "twoD"
   ]
  }
 ],
 "metadata": {
  "kernelspec": {
   "display_name": "Python 3 (ipykernel)",
   "language": "python",
   "name": "python3"
  },
  "language_info": {
   "codemirror_mode": {
    "name": "ipython",
    "version": 3
   },
   "file_extension": ".py",
   "mimetype": "text/x-python",
   "name": "python",
   "nbconvert_exporter": "python",
   "pygments_lexer": "ipython3",
   "version": "3.11.7"
  }
 },
 "nbformat": 4,
 "nbformat_minor": 5
}
