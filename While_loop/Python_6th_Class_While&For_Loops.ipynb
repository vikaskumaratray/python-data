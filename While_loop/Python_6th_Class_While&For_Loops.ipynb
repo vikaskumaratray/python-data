{
 "cells": [
  {
   "cell_type": "markdown",
   "id": "c2508dd7-4b24-40e1-be08-d4cb4191e904",
   "metadata": {},
   "source": [
    "# For Loop\n",
    "\n",
    "1) A for loop is a control flow statement that executes code for a predefined number of iterations. The keyword used in this control flow statement is \"for\". When the number of iterations is already known, the for loop is used.\n",
    "\n",
    "2) The for loop is divided into two parts −\n",
    "\n",
    "3) Header − This part specifies the iteration of the loop. In the header part, the loop variable is also declared, which tells the body which iteration is being executed.\n",
    "\n",
    "5) Body − The body part contains the statement executed per iteration."
   ]
  },
  {
   "cell_type": "code",
   "execution_count": 17,
   "id": "47e22536-8dc2-4066-b814-845f10edcc23",
   "metadata": {},
   "outputs": [
    {
     "name": "stdout",
     "output_type": "stream",
     "text": [
      "0 1 4 9 16 25 36 49 64 81 100 121 144 169 196 225 256 289 324 361 "
     ]
    }
   ],
   "source": [
    "for i in range(20):\n",
    "    print(i**2,end = ' ')\n"
   ]
  },
  {
   "cell_type": "markdown",
   "id": "061a86b2-8559-4e2b-a737-a8c20c3d264c",
   "metadata": {},
   "source": [
    "### Loop  => for, while\n",
    "\n",
    "start, end, step => traverse => Iteration\n",
    "\n",
    "Iteration = Traversing(move) over elemnets of a specified range."
   ]
  },
  {
   "cell_type": "code",
   "execution_count": 15,
   "id": "00646823-38ed-4d54-ba43-a43d18a5b6ed",
   "metadata": {},
   "outputs": [
    {
     "name": "stdout",
     "output_type": "stream",
     "text": [
      "1\n",
      "2\n",
      "3\n",
      "4\n",
      "5\n",
      "6\n",
      "7\n",
      "8\n",
      "9\n"
     ]
    }
   ],
   "source": [
    "# start= 1,end=10,step=+1\n",
    "print(1)\n",
    "print(2)\n",
    "print(3)\n",
    "print(4)\n",
    "print(5)\n",
    "print(6)\n",
    "print(7)\n",
    "print(8)\n",
    "print(9)"
   ]
  },
  {
   "cell_type": "markdown",
   "id": "b573155f-4534-4b4a-8e91-c51a3f774205",
   "metadata": {},
   "source": [
    "### For Loops\n",
    "\n",
    "In range(start,end,step) method\n",
    "1) In ascending order, iteration proceeds from start till <b>end-1</b>, step size is positive<br>\n",
    "2) In descending order, iteration proceeds from start till <b>end+1</b>, step size is negative<br>\n",
    "3) Default step value = +1<br>\n",
    "4) range() works only on int<br>\n",
    "5) Default start value is 0.<br>\n",
    "6) If only one values is present in range(), then it is end"
   ]
  },
  {
   "cell_type": "code",
   "execution_count": 26,
   "id": "df7f07a3-8085-452a-9bde-6b70dff45927",
   "metadata": {},
   "outputs": [
    {
     "name": "stdout",
     "output_type": "stream",
     "text": [
      "1 2 3 4 5 "
     ]
    }
   ],
   "source": [
    "# print numbers from 1 to 5 using for loop\n",
    "for abc in range(1,6):  # start=1,end=6,step=+1\n",
    "    print(abc,end = ' ')"
   ]
  },
  {
   "cell_type": "code",
   "execution_count": 19,
   "id": "9a832e88-7bf3-4a2e-a423-10af7801f7ed",
   "metadata": {},
   "outputs": [
    {
     "name": "stdout",
     "output_type": "stream",
     "text": [
      "0 1 2 3 4 "
     ]
    }
   ],
   "source": [
    "for i in range(5):   # start=0,end=5,step=+1 => end-1\n",
    "    print(i,end=' ')"
   ]
  },
  {
   "cell_type": "code",
   "execution_count": 25,
   "id": "747c925c-62bc-488e-bcb7-c2f0e2d393f6",
   "metadata": {},
   "outputs": [
    {
     "name": "stdout",
     "output_type": "stream",
     "text": [
      "20 23 26 29 32 35 38 41 44 47 "
     ]
    }
   ],
   "source": [
    "for i in range(20,50,3):  # start=20,end=50,step=+3\n",
    "    print(i,end = ' ')"
   ]
  },
  {
   "cell_type": "code",
   "execution_count": 24,
   "id": "3a21aa5d-9fba-4ad5-b957-c3f2d3683e3f",
   "metadata": {},
   "outputs": [
    {
     "name": "stdout",
     "output_type": "stream",
     "text": [
      "10 9 8 7 6 5 4 "
     ]
    }
   ],
   "source": [
    "for i in range(10,3,-1):  # start=10,end=3,step=-1  => desc order => end+1\n",
    "    print(i,end=' ')"
   ]
  },
  {
   "cell_type": "code",
   "execution_count": 1,
   "id": "c58c7679-6dd8-40a5-833d-9cdbf0da7dbf",
   "metadata": {},
   "outputs": [
    {
     "name": "stdout",
     "output_type": "stream",
     "text": [
      "10 16 22 12 14 24 "
     ]
    }
   ],
   "source": [
    "lts = [10,16,22,12,14,65,24,63,87]\n",
    "for i in lts:\n",
    "    if i%2==0:\n",
    "        print(i,end = ' ')"
   ]
  },
  {
   "cell_type": "code",
   "execution_count": null,
   "id": "846bd9cb-cf56-4769-abf7-40b8ca835595",
   "metadata": {},
   "outputs": [],
   "source": []
  },
  {
   "cell_type": "code",
   "execution_count": null,
   "id": "9974e2a3-b776-446c-9542-5918847aa412",
   "metadata": {},
   "outputs": [],
   "source": []
  },
  {
   "cell_type": "code",
   "execution_count": null,
   "id": "9777c052-33d7-4ad9-a3c1-f010665c38d1",
   "metadata": {},
   "outputs": [],
   "source": []
  },
  {
   "cell_type": "code",
   "execution_count": 31,
   "id": "54592b26-d441-4d46-9c18-d58d840fbe7e",
   "metadata": {},
   "outputs": [
    {
     "name": "stdout",
     "output_type": "stream",
     "text": [
      "100 130 160 190 220 250 280 310 "
     ]
    }
   ],
   "source": [
    "for i in range(100,311,30):\n",
    "    print(i,end=' ')"
   ]
  },
  {
   "cell_type": "code",
   "execution_count": null,
   "id": "fcf306ce-e759-434a-a449-f682f89f8901",
   "metadata": {},
   "outputs": [],
   "source": [
    "### Entities on which we can iterate\n",
    "Strings,List,tuple,set,dict,range()"
   ]
  },
  {
   "cell_type": "markdown",
   "id": "829c7ea1-f326-4cbe-8886-be2637f6a3e6",
   "metadata": {},
   "source": [
    "#### For loop on strings"
   ]
  },
  {
   "cell_type": "code",
   "execution_count": null,
   "id": "67005781-f450-4e02-a4e3-84361db7ca96",
   "metadata": {},
   "outputs": [],
   "source": [
    "# Pos  0  1  2  3  4\n",
    "# Str  T  O  D  A  Y\n",
    "# neg -5 -4 -3 -2 -1"
   ]
  },
  {
   "cell_type": "code",
   "execution_count": null,
   "id": "feb48273-d530-4fcc-868f-be4ffd462a92",
   "metadata": {},
   "outputs": [],
   "source": [
    "# str, list, tuple\n",
    "# 1) elmenets wise iteration\n",
    "# 2) index wise iteration"
   ]
  },
  {
   "cell_type": "code",
   "execution_count": 37,
   "id": "4edc0916-3305-423b-86e0-c0087ce3d249",
   "metadata": {},
   "outputs": [
    {
     "name": "stdout",
     "output_type": "stream",
     "text": [
      "T o d a y\n",
      "y a d o T\n"
     ]
    }
   ],
   "source": [
    "s = \"Today\"\n",
    "print(s[0],s[1],s[2],s[3],s[4])  # pos index\n",
    "print(s[-1],s[-2],s[-3],s[-4],s[-5]) # neg index"
   ]
  },
  {
   "cell_type": "code",
   "execution_count": 39,
   "id": "d14e9d75-72f1-4d86-b6d6-ac057713c589",
   "metadata": {},
   "outputs": [
    {
     "name": "stdout",
     "output_type": "stream",
     "text": [
      "T\n",
      "o\n",
      "d\n",
      "a\n",
      "y\n"
     ]
    }
   ],
   "source": [
    "s = \"Today\"\n",
    "# Element wise Iteration\n",
    "# i corresposnds to each and every element of string\n",
    "for i in s:\n",
    "    print(i)"
   ]
  },
  {
   "cell_type": "code",
   "execution_count": 50,
   "id": "3b88579a-a4e5-4694-bcc1-3731b039b77e",
   "metadata": {},
   "outputs": [
    {
     "name": "stdout",
     "output_type": "stream",
     "text": [
      "0 T\n",
      "1 o\n",
      "2 d\n",
      "3 a\n",
      "4 y\n"
     ]
    }
   ],
   "source": [
    "s = 'Today'\n",
    "# Index wise Iteration\n",
    "for i in range(len(s)):  # start=0, end=len(s) =5,step=+1 \n",
    "    print(i,s[i])"
   ]
  },
  {
   "cell_type": "code",
   "execution_count": null,
   "id": "20663ef1-2f8f-4204-bdac-c054b4b75cb4",
   "metadata": {},
   "outputs": [],
   "source": [
    "# Pos  0  1  2  3  4\n",
    "# Str  T  O  D  A  Y\n",
    "# neg -5 -4 -3 -2 -1"
   ]
  },
  {
   "cell_type": "code",
   "execution_count": 54,
   "id": "18b60168-1f4e-471f-bb8e-784036c9b07b",
   "metadata": {},
   "outputs": [
    {
     "name": "stdout",
     "output_type": "stream",
     "text": [
      "-5 y\n",
      "-4 a\n",
      "-3 d\n",
      "-2 o\n",
      "-1 T\n"
     ]
    }
   ],
   "source": [
    "# iterate str from left to right with neg index\n",
    "s = \"yadoT\"\n",
    "for i in range(-len(s),0):  # step = +1  => end-1\n",
    "    print(i,s[i])"
   ]
  },
  {
   "cell_type": "code",
   "execution_count": 61,
   "id": "f010c06d-0316-42b1-81e4-e8e42c6c0060",
   "metadata": {},
   "outputs": [
    {
     "name": "stdout",
     "output_type": "stream",
     "text": [
      "Sum 55\n"
     ]
    }
   ],
   "source": [
    "# Find sum of num from 1 to 10 using for loop\n",
    "add = 0\n",
    "for i in range(1,11):   # start=1,end=11,step=+1\n",
    "    add += i            # add = add + i\n",
    "print('Sum',add)\n",
    "# add = 0\n",
    "# i = 1 => add = 0 + 1 = 1\n",
    "# i = 2 => add = 1 + 2 = 3\n",
    "# i = 3 => add = 3 + 3 = 6\n",
    "# i = 4 => add = 6 + 4 = 10\n",
    "# ...."
   ]
  },
  {
   "cell_type": "code",
   "execution_count": 68,
   "id": "2210b89a-ca5f-43d7-83f1-7de9d1a29b84",
   "metadata": {},
   "outputs": [
    {
     "name": "stdout",
     "output_type": "stream",
     "text": [
      "Sum 440\n"
     ]
    }
   ],
   "source": [
    "# Find sum of all even numbers from 30 to 50\n",
    "a = 0\n",
    "for i in range(30,51): # start=30,end=51,step=+1\n",
    "    if i%2==0 :\n",
    "        a = a+i\n",
    "        \n",
    "print('Sum',a)"
   ]
  },
  {
   "cell_type": "code",
   "execution_count": 69,
   "id": "d4dc03e1-f128-476b-996b-7a426b1f24f9",
   "metadata": {},
   "outputs": [
    {
     "name": "stdout",
     "output_type": "stream",
     "text": [
      "Sum 400\n"
     ]
    }
   ],
   "source": [
    "a = 0\n",
    "for i in range(30,51): # start=30,end=51,step=+1\n",
    "    if i%2!=0 :\n",
    "        a += i\n",
    "print('Sum',a)"
   ]
  },
  {
   "cell_type": "code",
   "execution_count": 90,
   "id": "1225bdaf-5e4d-4dde-8aed-22af99605e06",
   "metadata": {},
   "outputs": [
    {
     "name": "stdout",
     "output_type": "stream",
     "text": [
      "4 16 36 64 100 144 196 256 324 400 484 576 676 784 900 1024 1156 1296 1444 1600 1764 1936 2116 2304 2500 2704 2916 3136 3364 3600 3844 4096 4356 4624 4900 5184 5476 5776 6084 6400 6724 7056 7396 7744 8100 8464 8836 9216 9604 "
     ]
    }
   ],
   "source": [
    "lts = [x**2 for x in range(1,100) if x%2==0]\n",
    "for i in lts:\n",
    "    print(i,end =' ')"
   ]
  },
  {
   "cell_type": "code",
   "execution_count": 124,
   "id": "65f0816d-9d67-4dd2-82c5-cc257a93869c",
   "metadata": {},
   "outputs": [
    {
     "name": "stdout",
     "output_type": "stream",
     "text": [
      "odd value  1  -5 from odd value -4\n",
      "odd value  3  -5 from odd value -2\n",
      "odd value  5  -5 from odd value 0\n",
      "odd value  7  -5 from odd value 2\n",
      "odd value  9  -5 from odd value 4\n",
      "odd value  11  -5 from odd value 6\n",
      "odd value  13  -5 from odd value 8\n",
      "odd value  15  -5 from odd value 10\n",
      "odd value  17  -5 from odd value 12\n",
      "odd value  19  -5 from odd value 14\n",
      "odd value  21  -5 from odd value 16\n",
      "odd value  23  -5 from odd value 18\n",
      "odd value  25  -5 from odd value 20\n",
      "odd value  27  -5 from odd value 22\n",
      "odd value  29  -5 from odd value 24\n",
      "odd value  31  -5 from odd value 26\n",
      "odd value  33  -5 from odd value 28\n",
      "odd value  35  -5 from odd value 30\n",
      "odd value  37  -5 from odd value 32\n",
      "odd value  39  -5 from odd value 34\n",
      "odd value  41  -5 from odd value 36\n",
      "odd value  43  -5 from odd value 38\n",
      "odd value  45  -5 from odd value 40\n",
      "odd value  47  -5 from odd value 42\n",
      "odd value  49  -5 from odd value 44\n",
      "odd value  51  -5 from odd value 46\n",
      "odd value  53  -5 from odd value 48\n",
      "odd value  55  -5 from odd value 50\n",
      "odd value  57  -5 from odd value 52\n",
      "odd value  59  -5 from odd value 54\n",
      "odd value  61  -5 from odd value 56\n",
      "odd value  63  -5 from odd value 58\n",
      "odd value  65  -5 from odd value 60\n",
      "odd value  67  -5 from odd value 62\n",
      "odd value  69  -5 from odd value 64\n",
      "odd value  71  -5 from odd value 66\n",
      "odd value  73  -5 from odd value 68\n",
      "odd value  75  -5 from odd value 70\n",
      "odd value  77  -5 from odd value 72\n",
      "odd value  79  -5 from odd value 74\n",
      "odd value  81  -5 from odd value 76\n",
      "odd value  83  -5 from odd value 78\n",
      "odd value  85  -5 from odd value 80\n",
      "odd value  87  -5 from odd value 82\n",
      "odd value  89  -5 from odd value 84\n",
      "odd value  91  -5 from odd value 86\n",
      "odd value  93  -5 from odd value 88\n",
      "odd value  95  -5 from odd value 90\n",
      "odd value  97  -5 from odd value 92\n",
      "odd value  99  -5 from odd value 94\n"
     ]
    }
   ],
   "source": [
    "a = 0\n",
    "for i in range(1, 101):\n",
    "    if i % 2 != 0:  # Check if the number is odd\n",
    "        a = i-5\n",
    "        print('odd value ',i,' -5 from odd value',a)"
   ]
  },
  {
   "cell_type": "code",
   "execution_count": 126,
   "id": "fdbffb45-60e1-4ab5-aee3-c14a1037f15f",
   "metadata": {},
   "outputs": [],
   "source": [
    "lts = [10,20,30,40,50,60,70]\n",
    "lts1 = [\"python\",\"java\",\"c++\",\".net\",\"Ruby\",\"Mysql\",\"PHP\"]"
   ]
  },
  {
   "cell_type": "code",
   "execution_count": 157,
   "id": "049baf24-eb7d-4a90-864a-b2111d142795",
   "metadata": {},
   "outputs": [
    {
     "name": "stdout",
     "output_type": "stream",
     "text": [
      "python\n",
      "java\n",
      "c++\n",
      ".net\n",
      "Ruby\n",
      "Mysql\n",
      "PHP\n",
      "10\n",
      "python\n",
      "java\n",
      "c++\n",
      ".net\n",
      "Ruby\n",
      "Mysql\n",
      "PHP\n",
      "20\n",
      "python\n",
      "java\n",
      "c++\n",
      ".net\n",
      "Ruby\n",
      "Mysql\n",
      "PHP\n",
      "30\n",
      "python\n",
      "java\n",
      "c++\n",
      ".net\n",
      "Ruby\n",
      "Mysql\n",
      "PHP\n",
      "40\n",
      "python\n",
      "java\n",
      "c++\n",
      ".net\n",
      "Ruby\n",
      "Mysql\n",
      "PHP\n",
      "50\n",
      "python\n",
      "java\n",
      "c++\n",
      ".net\n",
      "Ruby\n",
      "Mysql\n",
      "PHP\n",
      "60\n",
      "python\n",
      "java\n",
      "c++\n",
      ".net\n",
      "Ruby\n",
      "Mysql\n",
      "PHP\n",
      "70\n"
     ]
    }
   ],
   "source": [
    "lt =[]\n",
    "for i in lts:\n",
    "    for j in lts1:\n",
    "        print(j)\n",
    "    print(i)"
   ]
  },
  {
   "cell_type": "code",
   "execution_count": 145,
   "id": "cf803d3f-0e27-403c-917b-a0214943c61f",
   "metadata": {},
   "outputs": [
    {
     "name": "stdout",
     "output_type": "stream",
     "text": [
      "1\n",
      "2\n",
      "3\n",
      "4\n",
      "5\n"
     ]
    }
   ],
   "source": [
    "for i in range(1,5+1):\n",
    "        print(i)"
   ]
  },
  {
   "cell_type": "code",
   "execution_count": null,
   "id": "dbb506fe-2efc-4b60-807b-320e39c6a0c4",
   "metadata": {},
   "outputs": [],
   "source": []
  },
  {
   "cell_type": "code",
   "execution_count": 153,
   "id": "da8ab98b-e8b6-4da2-a390-2d94ff792f18",
   "metadata": {},
   "outputs": [
    {
     "name": "stdout",
     "output_type": "stream",
     "text": [
      "* * * * * \n",
      "* * * * \n",
      "* * * \n",
      "* * \n",
      "* \n",
      "\n"
     ]
    }
   ],
   "source": [
    "n = 5\n",
    "k = 5\n",
    "for i in range(0,n+1):\n",
    "    for j in range(k-i,0,-1):\n",
    "        print(\"*\",end = ' ')\n",
    "    print()"
   ]
  },
  {
   "cell_type": "code",
   "execution_count": 158,
   "id": "8728db3a-b5d7-4946-8165-166c225081af",
   "metadata": {},
   "outputs": [
    {
     "name": "stdout",
     "output_type": "stream",
     "text": [
      "Fibonacci sequence:\n",
      "0  1  1  2  3  5  8  13  21  34  "
     ]
    }
   ],
   "source": [
    "# first two numbers\n",
    "num1, num2 = 0, 1\n",
    "\n",
    "print(\"Fibonacci sequence:\")\n",
    "# run loop 10 times\n",
    "for i in range(10):\n",
    "    # print next number of a series\n",
    "    print(num1, end=\"  \")\n",
    "    # add last two numbers to get next number\n",
    "    res = num1 + num2\n",
    "\n",
    "    # update values\n",
    "    num1 = num2\n",
    "    num2 = res"
   ]
  },
  {
   "cell_type": "code",
   "execution_count": null,
   "id": "ab184e04-0cd5-49c0-814e-370d2dfaeff7",
   "metadata": {},
   "outputs": [],
   "source": []
  },
  {
   "cell_type": "markdown",
   "id": "342ce7b9-ac68-4a0e-8b64-ca7a18b5e686",
   "metadata": {},
   "source": [
    "### While loop\r\n",
    "A loop that runs a single statement or a set of statements for a given true condition. This loop is represented by the keyword \"while\". When the number of iterations is unknown, a while loop is used. The statement is repeated until the Boolean value is false. Because the condition is tested at the beginning of a while loop, it is also known as the pre-test loop."
   ]
  },
  {
   "cell_type": "code",
   "execution_count": 6,
   "id": "6747eadf-ac7d-4369-aca8-3ffec3cc74f3",
   "metadata": {},
   "outputs": [
    {
     "name": "stdout",
     "output_type": "stream",
     "text": [
      "0 1 2 3 4 5 6 7 8 9 "
     ]
    }
   ],
   "source": [
    "i = 0           # start\n",
    "while i < 10 :   # end\n",
    "    print(i,end=' ')\n",
    "    i += 1    # step"
   ]
  },
  {
   "cell_type": "code",
   "execution_count": 9,
   "id": "b37efb10-306d-47bf-b905-75e8cc127450",
   "metadata": {},
   "outputs": [
    {
     "name": "stdout",
     "output_type": "stream",
     "text": [
      "1 2 3 4 5 "
     ]
    }
   ],
   "source": [
    "i = 0         # start\n",
    "while i < 5 :   # end\n",
    "    i += 1     # step\n",
    "    print(i,end=' ')"
   ]
  },
  {
   "cell_type": "code",
   "execution_count": 17,
   "id": "14f67dde-82f2-4293-8ef4-99bcda225652",
   "metadata": {},
   "outputs": [
    {
     "name": "stdout",
     "output_type": "stream",
     "text": [
      "18 16 14 12 10 8 6 4 "
     ]
    }
   ],
   "source": [
    "i = 20        # start=20\n",
    "while i>5:    # end=5\n",
    "    i -= 2    # step = -2\n",
    "    print(i,end=' ')\n",
    "    #i -=2"
   ]
  },
  {
   "cell_type": "code",
   "execution_count": 18,
   "id": "83a7faff-b4a6-4baf-8fd9-c11ba6e6fd66",
   "metadata": {},
   "outputs": [
    {
     "name": "stdout",
     "output_type": "stream",
     "text": [
      "Sum of odd 224\n"
     ]
    }
   ],
   "source": [
    "# Find sum of odd num between 20 to 35 using while loop\n",
    "odd =  0\n",
    "i = 20\n",
    "while i<=35 :\n",
    "    i =i+1\n",
    "    if i%2!=0:\n",
    "        odd = odd + i\n",
    "print('Sum of odd',odd)    "
   ]
  },
  {
   "cell_type": "code",
   "execution_count": 21,
   "id": "cc07a109-18a5-40e6-b169-963e673b6c8a",
   "metadata": {},
   "outputs": [
    {
     "name": "stdout",
     "output_type": "stream",
     "text": [
      "0 m\n",
      "1 o\n",
      "2 b\n",
      "3 i\n",
      "4 l\n",
      "5 e\n"
     ]
    }
   ],
   "source": [
    "# iterate on string using while loop\n",
    "# index based iteration \n",
    "\n",
    "w = \"mobile\"\n",
    "i = 0   # start\n",
    "while i < len(w):  #  end\n",
    "    print(i,w[i]) \n",
    "    i += 1         #  step"
   ]
  },
  {
   "cell_type": "code",
   "execution_count": null,
   "id": "a4f4e273-1920-413c-936f-c4156ef6a062",
   "metadata": {},
   "outputs": [],
   "source": [
    "# for  \n",
    "# a) range is used\n",
    "# b) condition is not used\n",
    "\n",
    "# while \n",
    "# a) range is not used\n",
    "# b) condition can be used"
   ]
  },
  {
   "cell_type": "markdown",
   "id": "6727da46-1988-414b-b3d7-6acba3eeccbf",
   "metadata": {},
   "source": [
    "#### Note\n",
    "break - Returns the program control out of the loop<br>\n",
    "continue - Returns the program control at the beginning of the loop"
   ]
  },
  {
   "cell_type": "code",
   "execution_count": 27,
   "id": "2e4cfabb-9813-4956-927b-b39e89c46046",
   "metadata": {},
   "outputs": [
    {
     "name": "stdout",
     "output_type": "stream",
     "text": [
      "1\n",
      "2\n",
      "3\n",
      "4\n"
     ]
    }
   ],
   "source": [
    "for i in range(1,100):  # start=10,end=20,step=+1\n",
    "    if i%5==0:  # 12 \n",
    "        break\n",
    "    else:\n",
    "        print(i)  # 10, 11,"
   ]
  },
  {
   "cell_type": "code",
   "execution_count": 30,
   "id": "b8a7ae6f-139f-40f7-96fd-b348999a5494",
   "metadata": {},
   "outputs": [
    {
     "name": "stdout",
     "output_type": "stream",
     "text": [
      "I\n",
      "m\n",
      "a\n",
      "r\n",
      "t\n",
      "i\n"
     ]
    }
   ],
   "source": [
    "a = \"Imarticus\"\n",
    "for i in a:\n",
    "    if i ==\"c\":\n",
    "        break\n",
    "    else:\n",
    "        print(i)"
   ]
  },
  {
   "cell_type": "code",
   "execution_count": null,
   "id": "c1c1b086-527d-4f8f-8370-412f1c2c582a",
   "metadata": {},
   "outputs": [],
   "source": []
  },
  {
   "cell_type": "code",
   "execution_count": null,
   "id": "3031085b-8bab-4e93-a513-22969b1bda52",
   "metadata": {},
   "outputs": [],
   "source": []
  },
  {
   "cell_type": "code",
   "execution_count": 36,
   "id": "638202b5-2825-4107-ba53-6794b0189a90",
   "metadata": {},
   "outputs": [
    {
     "name": "stdout",
     "output_type": "stream",
     "text": [
      "1\n",
      "2\n",
      "3\n",
      "4\n",
      "5\n"
     ]
    }
   ],
   "source": [
    "for i in range(1,10):  # start=10,end=20,step=+1\n",
    "    if i%5==0:  # 12 \n",
    "        print(i)\n",
    "        break\n",
    "    else:\n",
    "        print(i)  # 10, 11,"
   ]
  },
  {
   "cell_type": "code",
   "execution_count": 40,
   "id": "96038886-88cd-485b-890c-c7866c15abb7",
   "metadata": {},
   "outputs": [
    {
     "name": "stdout",
     "output_type": "stream",
     "text": [
      "1\n",
      "2\n",
      "3\n",
      "4\n"
     ]
    }
   ],
   "source": [
    "i = 0\n",
    "while i <= 10:\n",
    "    i += 1\n",
    "    if i%5==0 :\n",
    "        break\n",
    "    else:\n",
    "        print(i)"
   ]
  },
  {
   "cell_type": "code",
   "execution_count": 5,
   "id": "1059b201-1792-4dfd-ab25-4757afb17f55",
   "metadata": {},
   "outputs": [
    {
     "name": "stdout",
     "output_type": "stream",
     "text": [
      "1\n",
      "2\n"
     ]
    }
   ],
   "source": [
    "i = 1\n",
    "while i <= 10:\n",
    "    if i%3==0 :\n",
    "        break\n",
    "    else:\n",
    "        print(i)\n",
    "    i += 1"
   ]
  },
  {
   "cell_type": "markdown",
   "id": "6984f760-d93f-4862-b906-de0d3fa3c2a7",
   "metadata": {},
   "source": [
    "#### continue\n",
    "Returns the program control at the beginning of the loop.<br>\n",
    "If the condition is True, those value will be skipped."
   ]
  },
  {
   "cell_type": "code",
   "execution_count": 7,
   "id": "b9a8ac58-e857-47c1-8c08-6cdc14dbffc0",
   "metadata": {},
   "outputs": [
    {
     "name": "stdout",
     "output_type": "stream",
     "text": [
      "0 1 2 3 4 5 6 7 8 9 "
     ]
    }
   ],
   "source": [
    "for i in range(10):\n",
    "    print(i,end=' ')"
   ]
  },
  {
   "cell_type": "code",
   "execution_count": 8,
   "id": "62063554-a063-4527-be8d-7f4e141394d0",
   "metadata": {},
   "outputs": [
    {
     "name": "stdout",
     "output_type": "stream",
     "text": [
      "10 11 13 14 16 17 19 "
     ]
    }
   ],
   "source": [
    "for i in range(10,20):  # start=10,end=20,step=+1\n",
    "    if i%3==0:    # 12 \n",
    "        continue\n",
    "    else:\n",
    "        print(i,end=' ')  # 10, 11,"
   ]
  },
  {
   "cell_type": "code",
   "execution_count": 11,
   "id": "17e89c98-bcaa-4dbd-abc7-e4b7a884411b",
   "metadata": {},
   "outputs": [
    {
     "name": "stdout",
     "output_type": "stream",
     "text": [
      "11 13 14 16 17 19 20 "
     ]
    }
   ],
   "source": [
    "i = 10\n",
    "while i < 20:\n",
    "    i += 1\n",
    "    if i%3==0:\n",
    "        continue\n",
    "    else:\n",
    "        print(i,end=' ')"
   ]
  },
  {
   "cell_type": "code",
   "execution_count": null,
   "id": "13e2478c-aa5e-4333-bf5b-11f543c061c3",
   "metadata": {},
   "outputs": [
    {
     "name": "stdout",
     "output_type": "stream",
     "text": [
      "1\n",
      "2\n"
     ]
    }
   ],
   "source": [
    "# pass\n",
    "i = 1\n",
    "while i <10:\n",
    "    if i%3==0:\n",
    "        pass\n",
    "    else:\n",
    "        print(i)\n",
    "        i+=1\n",
    "        \n",
    "\n"
   ]
  },
  {
   "cell_type": "code",
   "execution_count": 8,
   "id": "d8bbc669-9740-4821-aade-beeef30a3037",
   "metadata": {},
   "outputs": [
    {
     "name": "stdout",
     "output_type": "stream",
     "text": [
      "1\n",
      "2\n",
      "3\n",
      "4\n",
      "5\n",
      "6\n",
      "7\n",
      "8\n",
      "9\n"
     ]
    }
   ],
   "source": [
    "for i in range(1,10):\n",
    "    if i%2==0:\n",
    "        pass\n",
    "    print(i)"
   ]
  },
  {
   "cell_type": "markdown",
   "id": "a8c09d69-8168-4f84-9c7c-713f29de1294",
   "metadata": {},
   "source": [
    "#### Exercise\n",
    "<pre>\n",
    "1) Accept a score from user. Based on the following conditions, generate the remarks\n",
    "a) if score is between 0 to 40 then Remarks = Poor\n",
    "b) if score is between 41 to 60 then Remarks = Average\n",
    "c) if score is between 61 to 80 then Remarks = Good\n",
    "d) if score is between 81 to 90 then Remarks = Excellent\n",
    "e) if score is between 91 to 100 then Remarks = Outstanding\n",
    "f) otherwise Remarks = Invalid Score\n",
    "\n",
    "2) Accept 3 numbers(n1,n2,n3) from user. Print the largest and smallest numbers amongst them.\n",
    "Find the difference between the largest and smallest number.\n",
    "\n",
    "3) Accept FirstName and LastName as user inputs and \n",
    "print the initials of the name separated by '_'.\n",
    "Sample Input:\n",
    "Virat\n",
    "Kohli\n",
    "Sample Output:\n",
    "V_K\n",
    "\n",
    "4) Accept a string from the user and return the total number of alphabets,digits, space and special characters in that string."
   ]
  }
 ],
 "metadata": {
  "kernelspec": {
   "display_name": "Python 3 (ipykernel)",
   "language": "python",
   "name": "python3"
  },
  "language_info": {
   "codemirror_mode": {
    "name": "ipython",
    "version": 3
   },
   "file_extension": ".py",
   "mimetype": "text/x-python",
   "name": "python",
   "nbconvert_exporter": "python",
   "pygments_lexer": "ipython3",
   "version": "3.11.7"
  }
 },
 "nbformat": 4,
 "nbformat_minor": 5
}
